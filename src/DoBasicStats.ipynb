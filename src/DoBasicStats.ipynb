{
 "cells": [
  {
   "cell_type": "code",
   "execution_count": 16,
   "id": "d04ce5ca288c54ac",
   "metadata": {
    "ExecuteTime": {
     "end_time": "2025-03-26T20:39:52.392782Z",
     "start_time": "2025-03-26T20:39:52.390128Z"
    }
   },
   "outputs": [],
   "source": [
    "from common_immunogit import *"
   ]
  },
  {
   "cell_type": "code",
   "execution_count": 12,
   "id": "fe1704c1759ee55f",
   "metadata": {
    "ExecuteTime": {
     "end_time": "2025-03-26T20:39:53.463108Z",
     "start_time": "2025-03-26T20:39:53.414424Z"
    }
   },
   "outputs": [
    {
     "ename": "ModuleNotFoundError",
     "evalue": "No module named 'matplotlib_venn'",
     "output_type": "error",
     "traceback": [
      "\u001b[0;31m---------------------------------------------------------------------------\u001b[0m",
      "\u001b[0;31mModuleNotFoundError\u001b[0m                       Traceback (most recent call last)",
      "Cell \u001b[0;32mIn[12], line 2\u001b[0m\n\u001b[1;32m      1\u001b[0m \u001b[38;5;66;03m# TEMPORARY : \u001b[39;00m\n\u001b[0;32m----> 2\u001b[0m \u001b[38;5;28;01mfrom\u001b[39;00m \u001b[38;5;21;01mmatplotlib_venn\u001b[39;00m \u001b[38;5;28;01mimport\u001b[39;00m venn3\n\u001b[1;32m      4\u001b[0m \u001b[38;5;124;03m\"\"\" Basic statistics and plots: Venn Diagram, etc. \"\"\"\u001b[39;00m\n\u001b[1;32m      6\u001b[0m \u001b[38;5;66;03m# Load the data from the JSON file\u001b[39;00m\n",
      "\u001b[0;31mModuleNotFoundError\u001b[0m: No module named 'matplotlib_venn'"
     ]
    }
   ],
   "source": [
    "# TEMPORARY : \n",
    "from matplotlib_venn import venn3\n",
    "\n",
    "\"\"\" Basic statistics and plots: Venn Diagram, etc. \"\"\"\n",
    "\n",
    "# Load the data from the JSON file\n",
    "file_path = str(root_path / \"metadata/model_metadata_tags.json\")\n",
    "with open(file_path, \"r\", encoding=\"utf-8\") as file:\n",
    "    data = json.load(file)\n",
    "\n",
    "# Initialize tag counts\n",
    "tag_counts = defaultdict(int)\n",
    "\n",
    "# Count tags\n",
    "for model_info in data.values():\n",
    "    if \"tags\" in model_info:\n",
    "        for tag in model_info[\"tags\"]:\n",
    "            if \":\" in tag:\n",
    "                _, term = map(str.strip, tag.split(\":\", 1))\n",
    "                tag_counts[term.lower()] += 1\n",
    "\n",
    "# Keywords dictionary\n",
    "keywords_file = root_path / \"tmp/keywords.json\"\n",
    "with open(keywords_file, \"r\", encoding=\"utf-8\") as f:\n",
    "    keywords_dict = json.load(f)\n",
    "\n",
    "# Define categories and initialize sets for Venn diagram\n",
    "categories = list(keywords_dict.keys())\n",
    "venn_sets = {cat: set() for cat in categories}\n",
    "occurrences = {cat: defaultdict(int) for cat in categories}\n",
    "\n",
    "# Populate Venn sets and occurrences\n",
    "for category in categories:\n",
    "    for term in keywords_dict[category]:\n",
    "        term_lower = term.lower().strip()\n",
    "        if term_lower in tag_counts:\n",
    "            venn_sets[category].add(term)\n",
    "            occurrences[category][term] = tag_counts[term_lower]\n",
    "\n",
    "# Plot Venn diagram\n",
    "plt.figure(figsize=(6, 6))\n",
    "venn = venn3([venn_sets.get(\"Immunology\", set()), \n",
    "              venn_sets.get(\"Treatments\", set()), \n",
    "              venn_sets.get(\"Cells\", set())],\n",
    "             set_labels=categories)\n",
    "\n",
    "# Add occurrences to Venn diagram\n",
    "for category, idx in zip(categories, range(3)):\n",
    "    for term in venn_sets[category]:\n",
    "        subset = venn.subset_labels[idx]\n",
    "        if subset:\n",
    "            label = f'{term}\\n({occurrences[category].get(term, 0)})'\n",
    "            subset.set_text(label)\n",
    "\n",
    "# Adjust font size and add title\n",
    "for subset in venn.subset_labels:\n",
    "    if subset:\n",
    "        subset.set_fontsize(10)\n",
    "\n",
    "plt.title(\"Venn Diagram\")\n",
    "plt.show()"
   ]
  },
  {
   "cell_type": "code",
   "execution_count": 13,
   "id": "ee15abffa808e90a",
   "metadata": {
    "ExecuteTime": {
     "end_time": "2025-03-26T20:34:24.931631Z",
     "start_time": "2025-03-26T20:34:24.882913Z"
    }
   },
   "outputs": [
    {
     "ename": "FileNotFoundError",
     "evalue": "[Errno 2] No such file or directory: 'model_metadata_tags.json'",
     "output_type": "error",
     "traceback": [
      "\u001b[0;31m---------------------------------------------------------------------------\u001b[0m",
      "\u001b[0;31mFileNotFoundError\u001b[0m                         Traceback (most recent call last)",
      "Cell \u001b[0;32mIn[13], line 3\u001b[0m\n\u001b[1;32m      1\u001b[0m \u001b[38;5;124;03m\"\"\" Basic Dataframe for Metrics \"\"\"\u001b[39;00m\n\u001b[1;32m      2\u001b[0m file_path \u001b[38;5;241m=\u001b[39m \u001b[38;5;124m\"\u001b[39m\u001b[38;5;124mmodel_metadata_tags.json\u001b[39m\u001b[38;5;124m\"\u001b[39m\n\u001b[0;32m----> 3\u001b[0m \u001b[38;5;28;01mwith\u001b[39;00m \u001b[38;5;28;43mopen\u001b[39;49m\u001b[43m(\u001b[49m\u001b[43mfile_path\u001b[49m\u001b[43m,\u001b[49m\u001b[43m \u001b[49m\u001b[38;5;124;43m\"\u001b[39;49m\u001b[38;5;124;43mr\u001b[39;49m\u001b[38;5;124;43m\"\u001b[39;49m\u001b[43m,\u001b[49m\u001b[43m \u001b[49m\u001b[43mencoding\u001b[49m\u001b[38;5;241;43m=\u001b[39;49m\u001b[38;5;124;43m\"\u001b[39;49m\u001b[38;5;124;43mutf-8\u001b[39;49m\u001b[38;5;124;43m\"\u001b[39;49m\u001b[43m)\u001b[49m \u001b[38;5;28;01mas\u001b[39;00m file:\n\u001b[1;32m      4\u001b[0m     data \u001b[38;5;241m=\u001b[39m json\u001b[38;5;241m.\u001b[39mload(file)\n\u001b[1;32m      6\u001b[0m \u001b[38;5;66;03m# for the titles\u001b[39;00m\n",
      "File \u001b[0;32m/Library/Frameworks/Python.framework/Versions/3.12/lib/python3.12/site-packages/IPython/core/interactiveshell.py:324\u001b[0m, in \u001b[0;36m_modified_open\u001b[0;34m(file, *args, **kwargs)\u001b[0m\n\u001b[1;32m    317\u001b[0m \u001b[38;5;28;01mif\u001b[39;00m file \u001b[38;5;129;01min\u001b[39;00m {\u001b[38;5;241m0\u001b[39m, \u001b[38;5;241m1\u001b[39m, \u001b[38;5;241m2\u001b[39m}:\n\u001b[1;32m    318\u001b[0m     \u001b[38;5;28;01mraise\u001b[39;00m \u001b[38;5;167;01mValueError\u001b[39;00m(\n\u001b[1;32m    319\u001b[0m         \u001b[38;5;124mf\u001b[39m\u001b[38;5;124m\"\u001b[39m\u001b[38;5;124mIPython won\u001b[39m\u001b[38;5;124m'\u001b[39m\u001b[38;5;124mt let you open fd=\u001b[39m\u001b[38;5;132;01m{\u001b[39;00mfile\u001b[38;5;132;01m}\u001b[39;00m\u001b[38;5;124m by default \u001b[39m\u001b[38;5;124m\"\u001b[39m\n\u001b[1;32m    320\u001b[0m         \u001b[38;5;124m\"\u001b[39m\u001b[38;5;124mas it is likely to crash IPython. If you know what you are doing, \u001b[39m\u001b[38;5;124m\"\u001b[39m\n\u001b[1;32m    321\u001b[0m         \u001b[38;5;124m\"\u001b[39m\u001b[38;5;124myou can use builtins\u001b[39m\u001b[38;5;124m'\u001b[39m\u001b[38;5;124m open.\u001b[39m\u001b[38;5;124m\"\u001b[39m\n\u001b[1;32m    322\u001b[0m     )\n\u001b[0;32m--> 324\u001b[0m \u001b[38;5;28;01mreturn\u001b[39;00m \u001b[43mio_open\u001b[49m\u001b[43m(\u001b[49m\u001b[43mfile\u001b[49m\u001b[43m,\u001b[49m\u001b[43m \u001b[49m\u001b[38;5;241;43m*\u001b[39;49m\u001b[43margs\u001b[49m\u001b[43m,\u001b[49m\u001b[43m \u001b[49m\u001b[38;5;241;43m*\u001b[39;49m\u001b[38;5;241;43m*\u001b[39;49m\u001b[43mkwargs\u001b[49m\u001b[43m)\u001b[49m\n",
      "\u001b[0;31mFileNotFoundError\u001b[0m: [Errno 2] No such file or directory: 'model_metadata_tags.json'"
     ]
    }
   ],
   "source": [
    "\"\"\" Basic Dataframe for Metrics \"\"\"\n",
    "file_path = \"model_metadata_tags.json\"\n",
    "with open(file_path, \"r\", encoding=\"utf-8\") as file:\n",
    "    data = json.load(file)\n",
    "\n",
    "# for the titles\n",
    "title_keywords = [\"immune system\", \"immune response\", \"therapy\"]\n",
    "\n",
    "tag_counts = defaultdict(int)\n",
    "\n",
    "title_classification = {}\n",
    "\n",
    "for model_id, model_info in data.items():\n",
    "    title = model_info.get(\"title\", \"\").lower()\n",
    "    title_category = \"OTHER\"\n",
    "\n",
    "    for keyword in title_keywords:\n",
    "        if keyword in title:\n",
    "            title_category = keyword\n",
    "            break\n",
    "\n",
    "    title_classification[model_id] = title_category\n",
    "\n",
    "    if \"tags\" in model_info:\n",
    "        for tag in model_info[\"tags\"]:\n",
    "            if \":\" in tag:\n",
    "                _, term = map(str.strip, tag.split(\":\", 1))\n",
    "                tag_counts[term.lower()] += 1  # Convertir en minuscules pour une comparaison insensible à la casse\n",
    "\n",
    "count_table = []\n",
    "\n",
    "for category, terms in keywords_dict.items():\n",
    "    for term in terms:\n",
    "        term_lower = term.lower().strip() # lowercase, no spacing !\n",
    "        count = tag_counts.get(term_lower, 0)\n",
    "        count_table.append({\"Category\": category, \"Term\": term, \"Count\": count})\n",
    "\n",
    "# classify per titles\n",
    "count_table.append({\"Category\": \"Title\", \"Term\": \"immune system\", \"Count\": list(title_classification.values()).count(\"immune system\")})\n",
    "count_table.append({\"Category\": \"Title\", \"Term\": \"immune response\", \"Count\": list(title_classification.values()).count(\"immune response\")})\n",
    "count_table.append({\"Category\": \"Title\", \"Term\": \"therapy\", \"Count\": list(title_classification.values()).count(\"therapy\")})\n",
    "count_table.append({\"Category\": \"Title\", \"Term\": \"OTHER\", \"Count\": list(title_classification.values()).count(\"OTHER\")})\n",
    "\n",
    "df_counts = pd.DataFrame(count_table)\n",
    "df_counts.to_csv(\"model_metadata_counts.tsv\", sep='\\t', index=False)"
   ]
  },
  {
   "cell_type": "code",
   "execution_count": 14,
   "id": "2d66c97a2cb01bf1",
   "metadata": {
    "ExecuteTime": {
     "end_time": "2025-03-19T20:25:27.119668Z",
     "start_time": "2025-03-19T20:25:27.104162Z"
    }
   },
   "outputs": [
    {
     "ename": "NameError",
     "evalue": "name 'df_counts' is not defined",
     "output_type": "error",
     "traceback": [
      "\u001b[0;31m---------------------------------------------------------------------------\u001b[0m",
      "\u001b[0;31mNameError\u001b[0m                                 Traceback (most recent call last)",
      "Cell \u001b[0;32mIn[14], line 1\u001b[0m\n\u001b[0;32m----> 1\u001b[0m \u001b[43mdf_counts\u001b[49m\n",
      "\u001b[0;31mNameError\u001b[0m: name 'df_counts' is not defined"
     ]
    }
   ],
   "source": [
    "df_counts"
   ]
  }
 ],
 "metadata": {
  "kernelspec": {
   "display_name": "Python 3",
   "language": "python",
   "name": "python3"
  },
  "language_info": {
   "codemirror_mode": {
    "name": "ipython",
    "version": 3
   },
   "file_extension": ".py",
   "mimetype": "text/x-python",
   "name": "python",
   "nbconvert_exporter": "python",
   "pygments_lexer": "ipython3",
   "version": "3.12.7"
  }
 },
 "nbformat": 4,
 "nbformat_minor": 5
}
