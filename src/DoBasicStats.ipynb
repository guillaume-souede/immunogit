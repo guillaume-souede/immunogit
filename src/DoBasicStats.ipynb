{
 "cells": [
  {
   "cell_type": "code",
   "execution_count": 6,
   "id": "d04ce5ca288c54ac",
   "metadata": {
    "ExecuteTime": {
     "end_time": "2025-03-26T20:39:52.392782Z",
     "start_time": "2025-03-26T20:39:52.390128Z"
    }
   },
   "outputs": [
    {
     "name": "stderr",
     "output_type": "stream",
     "text": [
      "2025-04-01 16:00:24,267 - INFO - Root path: /Users/guillaume.souede/PycharmProjects/immunogit\n",
      "2025-04-01 16:00:24,268 - INFO - Directory structure set up successfully.\n"
     ]
    }
   ],
   "source": [
    "from common_immunogit import *"
   ]
  },
  {
   "cell_type": "code",
   "execution_count": null,
   "id": "ee15abffa808e90a",
   "metadata": {
    "ExecuteTime": {
     "end_time": "2025-03-26T20:34:24.931631Z",
     "start_time": "2025-03-26T20:34:24.882913Z"
    }
   },
   "outputs": [],
   "source": [
    "\"\"\" Basic Dataframe for Metrics \"\"\"\n",
    "file_path = str(root_path / \"metadata/model_metadata_tags.json\")\n",
    "with open(file_path, \"r\", encoding=\"utf-8\") as file:\n",
    "    data = json.load(file)\n",
    "\n",
    "# for the titles\n",
    "title_keywords = [\"immune system\", \"immune response\", \"therapy\"]\n",
    "\n",
    "tag_counts = defaultdict(int)\n",
    "\n",
    "title_classification = {}\n",
    "\n",
    "for model_id, model_info in data.items():\n",
    "    title = model_info.get(\"title\", \"\").lower()\n",
    "    title_category = \"OTHER\"\n",
    "\n",
    "    for keyword in title_keywords:\n",
    "        if keyword in title:\n",
    "            title_category = keyword\n",
    "            break\n",
    "\n",
    "    title_classification[model_id] = title_category\n",
    "\n",
    "    if \"tags\" in model_info:\n",
    "        for tag in model_info[\"tags\"]:\n",
    "            if \":\" in tag:\n",
    "                _, term = map(str.strip, tag.split(\":\", 1))\n",
    "                tag_counts[term.lower()] += 1\n",
    "\n",
    "count_table = []\n",
    "\n",
    "for category, terms in keywords_dict.items():\n",
    "    for term in terms:\n",
    "        term_lower = term.lower().strip() # lowercase, no spacing !\n",
    "        count = tag_counts.get(term_lower, 0)\n",
    "        count_table.append({\"Category\": category, \"Term\": term, \"Count\": count})\n",
    "\n",
    "# classify per titles\n",
    "count_table.append({\"Category\": \"Title\", \"Term\": \"immune system\", \"Count\": list(title_classification.values()).count(\"immune system\")})\n",
    "count_table.append({\"Category\": \"Title\", \"Term\": \"immune response\", \"Count\": list(title_classification.values()).count(\"immune response\")})\n",
    "count_table.append({\"Category\": \"Title\", \"Term\": \"therapy\", \"Count\": list(title_classification.values()).count(\"therapy\")})\n",
    "count_table.append({\"Category\": \"Title\", \"Term\": \"OTHER\", \"Count\": list(title_classification.values()).count(\"OTHER\")})\n",
    "\n",
    "df_counts = pd.DataFrame(count_table)\n",
    "df_counts.to_csv(\"model_metadata_counts.tsv\", sep='\\t', index=False)"
   ]
  },
  {
   "cell_type": "code",
   "execution_count": 22,
   "id": "2d66c97a2cb01bf1",
   "metadata": {
    "ExecuteTime": {
     "end_time": "2025-03-19T20:25:27.119668Z",
     "start_time": "2025-03-19T20:25:27.104162Z"
    }
   },
   "outputs": [
    {
     "data": {
      "text/html": [
       "<div>\n",
       "<style scoped>\n",
       "    .dataframe tbody tr th:only-of-type {\n",
       "        vertical-align: middle;\n",
       "    }\n",
       "\n",
       "    .dataframe tbody tr th {\n",
       "        vertical-align: top;\n",
       "    }\n",
       "\n",
       "    .dataframe thead th {\n",
       "        text-align: right;\n",
       "    }\n",
       "</style>\n",
       "<table border=\"1\" class=\"dataframe\">\n",
       "  <thead>\n",
       "    <tr style=\"text-align: right;\">\n",
       "      <th></th>\n",
       "      <th>Category</th>\n",
       "      <th>Term</th>\n",
       "      <th>Count</th>\n",
       "    </tr>\n",
       "  </thead>\n",
       "  <tbody>\n",
       "    <tr>\n",
       "      <th>0</th>\n",
       "      <td>Cells</td>\n",
       "      <td>T helper cells</td>\n",
       "      <td>0</td>\n",
       "    </tr>\n",
       "    <tr>\n",
       "      <th>1</th>\n",
       "      <td>Cells</td>\n",
       "      <td>B cells</td>\n",
       "      <td>1</td>\n",
       "    </tr>\n",
       "    <tr>\n",
       "      <th>2</th>\n",
       "      <td>Cells</td>\n",
       "      <td>Cytotoxic T cells</td>\n",
       "      <td>0</td>\n",
       "    </tr>\n",
       "    <tr>\n",
       "      <th>3</th>\n",
       "      <td>Cells</td>\n",
       "      <td>Plasma cells</td>\n",
       "      <td>0</td>\n",
       "    </tr>\n",
       "    <tr>\n",
       "      <th>4</th>\n",
       "      <td>Cells</td>\n",
       "      <td>Tumor cells</td>\n",
       "      <td>10</td>\n",
       "    </tr>\n",
       "    <tr>\n",
       "      <th>...</th>\n",
       "      <td>...</td>\n",
       "      <td>...</td>\n",
       "      <td>...</td>\n",
       "    </tr>\n",
       "    <tr>\n",
       "      <th>111</th>\n",
       "      <td>Global</td>\n",
       "      <td>Data integration</td>\n",
       "      <td>0</td>\n",
       "    </tr>\n",
       "    <tr>\n",
       "      <th>112</th>\n",
       "      <td>Title</td>\n",
       "      <td>immune system</td>\n",
       "      <td>0</td>\n",
       "    </tr>\n",
       "    <tr>\n",
       "      <th>113</th>\n",
       "      <td>Title</td>\n",
       "      <td>immune response</td>\n",
       "      <td>0</td>\n",
       "    </tr>\n",
       "    <tr>\n",
       "      <th>114</th>\n",
       "      <td>Title</td>\n",
       "      <td>therapy</td>\n",
       "      <td>0</td>\n",
       "    </tr>\n",
       "    <tr>\n",
       "      <th>115</th>\n",
       "      <td>Title</td>\n",
       "      <td>OTHER</td>\n",
       "      <td>68</td>\n",
       "    </tr>\n",
       "  </tbody>\n",
       "</table>\n",
       "<p>116 rows × 3 columns</p>\n",
       "</div>"
      ],
      "text/plain": [
       "    Category               Term  Count\n",
       "0      Cells     T helper cells      0\n",
       "1      Cells            B cells      1\n",
       "2      Cells  Cytotoxic T cells      0\n",
       "3      Cells       Plasma cells      0\n",
       "4      Cells        Tumor cells     10\n",
       "..       ...                ...    ...\n",
       "111   Global   Data integration      0\n",
       "112    Title      immune system      0\n",
       "113    Title    immune response      0\n",
       "114    Title            therapy      0\n",
       "115    Title              OTHER     68\n",
       "\n",
       "[116 rows x 3 columns]"
      ]
     },
     "execution_count": 22,
     "metadata": {},
     "output_type": "execute_result"
    }
   ],
   "source": [
    "df_counts"
   ]
  },
  {
   "cell_type": "code",
   "execution_count": null,
   "id": "fdd109c2",
   "metadata": {},
   "outputs": [
    {
     "data": {
      "image/png": "[encoded data removed]",
      "text/plain": [
       "<Figure size 640x480 with 1 Axes>"
      ]
     },
     "metadata": {},
     "output_type": "display_data"
    }
   ],
   "source": [
    "from matplotlib_venn import venn3\n",
    "# scan file_path : get the main type of model from 3 main title_keywords = [\"immune system\", \"immune response\", \"therapy\"] or OTHER.\n",
    "# and store hits from the keywords_dict in each\n",
    "\n",
    "# With the counts, do a Venn diagram of the 3 main categories + OTHER\n"
   ]
  }
 ],
 "metadata": {
  "kernelspec": {
   "display_name": "Python 3",
   "language": "python",
   "name": "python3"
  },
  "language_info": {
   "codemirror_mode": {
    "name": "ipython",
    "version": 3
   },
   "file_extension": ".py",
   "mimetype": "text/x-python",
   "name": "python",
   "nbconvert_exporter": "python",
   "pygments_lexer": "ipython3",
   "version": "3.13.2"
  }
 },
 "nbformat": 4,
 "nbformat_minor": 5
}
