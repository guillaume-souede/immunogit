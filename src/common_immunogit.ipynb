{
 "cells": [
  {
   "cell_type": "code",
   "execution_count": null,
   "id": "b1b5f6c7",
   "metadata": {},
   "outputs": [],
   "source": [
    "\"\"\"\n",
    "MODULES\n",
    "\"\"\"\n",
    "import asyncio\n",
    "import json\n",
    "import logging\n",
    "import os\n",
    "import re\n",
    "import subprocess\n",
    "import sys\n",
    "import zipfile as z\n",
    "from collections import defaultdict\n",
    "from pathlib import Path"
   ]
  },
  {
   "cell_type": "code",
   "execution_count": null,
   "id": "288a5181",
   "metadata": {},
   "outputs": [],
   "source": [
    "import git\n",
    "import matplotlib.pyplot as plt\n",
    "import pandas as pd\n",
    "from bioservices import BioModels\n",
    "from bs4 import BeautifulSoup\n",
    "# from matplotlib_venn import venn3 # needs to be fixed\n",
    "from playwright.async_api import async_playwright\n",
    "import requests\n",
    "import nest_asyncio"
   ]
  },
  {
   "cell_type": "code",
   "execution_count": null,
   "id": "0b478572",
   "metadata": {},
   "outputs": [],
   "source": [
    "\"\"\" \n",
    "CONSTANTS \n",
    "\"\"\"\n",
    "BLUE = '\\033[94m'\n",
    "RED = '\\033[91m'\n",
    "RESET = '\\033[0m'"
   ]
  },
  {
   "cell_type": "code",
   "execution_count": null,
   "id": "bb4d4a1c",
   "metadata": {},
   "outputs": [],
   "source": [
    "\"\"\" \n",
    "SETUP LOGGER \n",
    "\"\"\"\n",
    "logging.basicConfig(level=logging.INFO, format=\"%(asctime)s - %(levelname)s - %(message)s\")\n",
    "logger = logging.getLogger(__name__)"
   ]
  },
  {
   "cell_type": "code",
   "execution_count": null,
   "id": "b66e1249",
   "metadata": {},
   "outputs": [],
   "source": [
    "\"\"\" \n",
    "PATHS \n",
    "\"\"\"\n",
    "try:\n",
    "    repo = git.Repo('.', search_parent_directories=True)\n",
    "    root_path = Path(repo.working_tree_dir)\n",
    "except git.exc.InvalidGitRepositoryError:\n",
    "    logger.error(\"Not inside a valid Git. Exiting.\")\n",
    "    sys.exit(1)"
   ]
  },
  {
   "cell_type": "code",
   "execution_count": null,
   "id": "de3fdbfc",
   "metadata": {},
   "outputs": [],
   "source": [
    "logger.info(f\"Root path: {root_path}\")"
   ]
  },
  {
   "cell_type": "code",
   "execution_count": null,
   "id": "20aa083a",
   "metadata": {},
   "outputs": [],
   "source": [
    "bm_sbml_path = root_path / \"models\" / \"BioModels\" / \"SBML\"\n",
    "reactome_sbml_path = root_path / \"models\" / \"Reactome\" / \"SBML\"\n",
    "reactome_sbgn_path = root_path / \"models\" / \"Reactome\" / \"SBGN\"\n",
    "metadata_path = root_path / \"metadata\""
   ]
  },
  {
   "cell_type": "code",
   "execution_count": null,
   "id": "5b035fb8",
   "metadata": {},
   "outputs": [],
   "source": [
    "# Create directories\n",
    "for path in [bm_sbml_path, reactome_sbml_path, reactome_sbgn_path, metadata_path]:\n",
    "    path.mkdir(parents=True, exist_ok=True)"
   ]
  },
  {
   "cell_type": "code",
   "execution_count": null,
   "id": "273eab92",
   "metadata": {},
   "outputs": [],
   "source": [
    "logger.info(\"Directory structure set up successfully.\")"
   ]
  },
  {
   "cell_type": "code",
   "execution_count": null,
   "id": "a4d0f8fc",
   "metadata": {},
   "outputs": [],
   "source": [
    "\"\"\" \n",
    "METADATA FILES \n",
    "\"\"\"\n",
    "md_path = metadata_path / \"metadata_all.json\"\n",
    "bio_md_path = metadata_path / \"metadata_BioModels.json\"\n",
    "rea_md_path = metadata_path / \"metadata_Reactome.json\""
   ]
  }
 ],
 "metadata": {
  "jupytext": {
   "cell_metadata_filter": "-all",
   "main_language": "python",
   "notebook_metadata_filter": "-all"
  }
 },
 "nbformat": 4,
 "nbformat_minor": 5
}
