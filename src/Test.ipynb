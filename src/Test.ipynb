{
 "cells": [
  {
   "metadata": {
    "ExecuteTime": {
     "end_time": "2025-01-23T21:56:55.761059Z",
     "start_time": "2025-01-23T21:56:55.755864Z"
    }
   },
   "cell_type": "code",
   "source": "from common import *",
   "id": "8072ca8caef36f69",
   "outputs": [
    {
     "name": "stdout",
     "output_type": "stream",
     "text": [
      "Structure : Done.\n"
     ]
    }
   ],
   "execution_count": 33
  },
  {
   "metadata": {
    "ExecuteTime": {
     "end_time": "2025-01-26T15:04:14.116971Z",
     "start_time": "2025-01-26T15:04:11.565156Z"
    }
   },
   "cell_type": "code",
   "source": [
    "try:\n",
    "    from bioservices import *\n",
    "except ImportError:\n",
    "    subprocess.check_call([sys.executable, \"-m\", \"pip\", \"install\", \"bioservices\"])\n",
    "    from bioservices import *\n",
    "\n",
    "s = BioModels()"
   ],
   "id": "fbb5ea5cc52a03b6",
   "outputs": [
    {
     "name": "stderr",
     "output_type": "stream",
     "text": [
      "\u001B[33mWARNING [bioservices.BioModels:130]: \u001B[0m \u001B[32mThe URL (https://www.ebi.ac.uk/biomodels) provided cannot be reached.\u001B[0m\n",
      "\u001B[32mINFO    [bioservices.BioModels:363]: \u001B[0m \u001B[32mInitialising BioModels service (REST)\u001B[0m\n"
     ]
    }
   ],
   "execution_count": 1
  },
  {
   "cell_type": "code",
   "id": "initial_id",
   "metadata": {
    "collapsed": true,
    "ExecuteTime": {
     "end_time": "2025-01-23T23:21:51.990867Z",
     "start_time": "2025-01-23T23:21:51.974231Z"
    }
   },
   "source": [
    "def create_query():\n",
    "    query_parts_full = {\n",
    "        'mode': '*:*',\n",
    "        'species': 'TAXONOMY:9606',\n",
    "        'curation_status': 'curationstatus:\"Manually curated\"',\n",
    "        'formats': 'modelformat:\"SBML\"',\n",
    "        'kw': 'submitter_keywords:\"Immuno-oncology\"'\n",
    "    }\n",
    "\n",
    "    query_parts = [value for value in query_parts_full.values() if value]\n",
    "    query = \" AND \".join(query_parts)\n",
    "\n",
    "    query_parts_simple = {\n",
    "        key: value.split(\":\")[1] if \":\" in value else value\n",
    "        for key, value in query_parts_full.items()\n",
    "    }\n",
    "\n",
    "    query_simple = \" AND \".join(query_parts_simple.values())\n",
    "\n",
    "    return query, query_simple"
   ],
   "outputs": [],
   "execution_count": 118
  },
  {
   "metadata": {
    "ExecuteTime": {
     "end_time": "2025-01-23T23:21:53.611060Z",
     "start_time": "2025-01-23T23:21:53.604820Z"
    }
   },
   "cell_type": "code",
   "source": [
    "quer, squer = create_query()\n",
    "print(f\"Query: {BLUE}{quer}{RESET}\")\n",
    "print(f\"Subquery: {BLUE}{squer}{RESET}\")"
   ],
   "id": "7eb685acad1698de",
   "outputs": [
    {
     "name": "stdout",
     "output_type": "stream",
     "text": [
      "Query: \u001B[94m*:* AND TAXONOMY:9606 AND curationstatus:\"Manually curated\" AND modelformat:\"SBML\" AND submitter_keywords:\"Immuno-oncology\"\u001B[0m\n",
      "Subquery: \u001B[94m* AND 9606 AND \"Manually curated\" AND \"SBML\" AND \"Immuno-oncology\"\u001B[0m\n"
     ]
    }
   ],
   "execution_count": 119
  },
  {
   "metadata": {
    "ExecuteTime": {
     "end_time": "2025-01-23T23:21:56.459784Z",
     "start_time": "2025-01-23T23:21:56.454876Z"
    }
   },
   "cell_type": "code",
   "source": [
    "def get_ids() -> list:\n",
    "    query, sq = create_query()\n",
    "\n",
    "    print(f\"Generated query: {query}\")\n",
    "\n",
    "    try:\n",
    "        search_results = s.search(query)\n",
    "\n",
    "        if not search_results or 'models' not in search_results or not search_results['models']:\n",
    "            print(\"No models found.\")\n",
    "            return []\n",
    "\n",
    "        model_ids = [model['id'] for model in search_results['models']]\n",
    "        return model_ids\n",
    "\n",
    "    except Exception as e:\n",
    "        print(f\"Error during search: {e}\")\n",
    "        return []"
   ],
   "id": "553c2cb1fb7c8332",
   "outputs": [],
   "execution_count": 120
  },
  {
   "metadata": {
    "ExecuteTime": {
     "end_time": "2025-01-23T22:03:42.728959Z",
     "start_time": "2025-01-23T22:03:42.710278Z"
    }
   },
   "cell_type": "code",
   "source": [
    "def download_biomodels(directory: str, model_ids: list):\n",
    "    filenames = []\n",
    "    num_per_download = 100\n",
    "\n",
    "    if not os.path.exists(directory):\n",
    "        os.makedirs(directory)\n",
    "\n",
    "    num_downloads = (len(model_ids) + num_per_download - 1) // num_per_download\n",
    "\n",
    "\"\"\"\n",
    "THE INCREMENT OF FILENAMES BELOW IS BAD ; SHOULD GET PROPER IDs FIRST !\n",
    "\"\"\"\n",
    "\n",
    "    start = 0\n",
    "    for download_number in range(1, num_downloads + 1):\n",
    "        end = min(start + num_per_download, len(model_ids))\n",
    "        fname = os.path.join(directory, f\"Biomodels_{start+1}-{end}.zip\")\n",
    "        filenames.append(fname)\n",
    "\n",
    "        if os.path.isfile(fname):\n",
    "            os.remove(fname)\n",
    "\n",
    "        current_batch_ids = model_ids[start:end]\n",
    "\n",
    "        try:\n",
    "            s.search_download(current_batch_ids, output_filename=fname)\n",
    "            print(f\"Biomodels models from ID {start+1} to {end} saved to {fname}\")\n",
    "        except Exception as e:\n",
    "            print(f\"Error downloading batch {start+1}-{end}: {e}\")\n",
    "            continue\n",
    "\n",
    "        start = end\n",
    "\n",
    "    # Consolidation\n",
    "    consolidated_zip = os.path.join(directory, \"biomodels.zip\")\n",
    "    with z.ZipFile(consolidated_zip, 'w') as zf_out:\n",
    "        for fname in filenames:\n",
    "            try:\n",
    "                with z.ZipFile(fname, 'r') as zf_in:\n",
    "                    for file_name in zf_in.namelist():\n",
    "                        zf_out.writestr(file_name, zf_in.read(file_name))\n",
    "            except Exception as e:\n",
    "                print(f\"Error consolidating {fname}: {e}\")\n",
    "\n",
    "    for fname in filenames:\n",
    "        if os.path.isfile(fname):\n",
    "            os.remove(fname)\n",
    "\n",
    "    print(f\"All models consolidated into {consolidated_zip}\")\n",
    "    return consolidated_zip"
   ],
   "id": "70ac27deb5e3e61c",
   "outputs": [],
   "execution_count": 45
  },
  {
   "metadata": {},
   "cell_type": "markdown",
   "source": "Using the code to answer :",
   "id": "a20342dea2f37392"
  },
  {
   "metadata": {
    "ExecuteTime": {
     "end_time": "2025-01-26T16:34:30.976202Z",
     "start_time": "2025-01-26T16:34:30.837672Z"
    }
   },
   "cell_type": "code",
   "source": [
    "ACTIVATE_DOWNLOAD = True\n",
    "query, sq = create_query()\n",
    "model_ids = get_ids()\n",
    "print(f\"{BLUE}Model IDs: {model_ids}.{RESET}\")\n",
    "print(f\"{BLUE}Found {len(model_ids)} models matching the query.{RESET}\")\n",
    "if ACTIVATE_DOWNLOAD and model_ids:\n",
    "    download_biomodels(modelsDir, model_ids)"
   ],
   "id": "7b21b4f3ee9453e4",
   "outputs": [
    {
     "ename": "NameError",
     "evalue": "name 'create_query' is not defined",
     "output_type": "error",
     "traceback": [
      "\u001B[0;31m---------------------------------------------------------------------------\u001B[0m",
      "\u001B[0;31mNameError\u001B[0m                                 Traceback (most recent call last)",
      "Cell \u001B[0;32mIn[2], line 2\u001B[0m\n\u001B[1;32m      1\u001B[0m ACTIVATE_DOWNLOAD \u001B[38;5;241m=\u001B[39m \u001B[38;5;28;01mTrue\u001B[39;00m\n\u001B[0;32m----> 2\u001B[0m query, sq \u001B[38;5;241m=\u001B[39m \u001B[43mcreate_query\u001B[49m()\n\u001B[1;32m      3\u001B[0m model_ids \u001B[38;5;241m=\u001B[39m get_ids()\n\u001B[1;32m      4\u001B[0m \u001B[38;5;28mprint\u001B[39m(\u001B[38;5;124mf\u001B[39m\u001B[38;5;124m\"\u001B[39m\u001B[38;5;132;01m{\u001B[39;00mBLUE\u001B[38;5;132;01m}\u001B[39;00m\u001B[38;5;124mModel IDs: \u001B[39m\u001B[38;5;132;01m{\u001B[39;00mmodel_ids\u001B[38;5;132;01m}\u001B[39;00m\u001B[38;5;124m.\u001B[39m\u001B[38;5;132;01m{\u001B[39;00mRESET\u001B[38;5;132;01m}\u001B[39;00m\u001B[38;5;124m\"\u001B[39m)\n",
      "\u001B[0;31mNameError\u001B[0m: name 'create_query' is not defined"
     ]
    }
   ],
   "execution_count": 2
  },
  {
   "metadata": {
    "ExecuteTime": {
     "end_time": "2025-01-23T22:10:00.694751Z",
     "start_time": "2025-01-23T22:10:00.485570Z"
    }
   },
   "cell_type": "code",
   "outputs": [
    {
     "name": "stdout",
     "output_type": "stream",
     "text": [
      "Status Code: 401\n",
      "Response Content: \n",
      "Error querying BioModels: 401 Client Error: Unauthorized for url: https://www.ebi.ac.uk/biomodels/api/model/search?q=%2A%3A%2A+AND+curationstatus%3A%22Manually+curated%22+AND+modelformat%3A%22SBML%22+AND+TAXONOMY%3A9606&rows=10\n",
      "No models were downloaded.\n"
     ]
    }
   ],
   "execution_count": 59,
   "source": [
    "\"\"\" FIX BECAUSE IRRELEVANT \"\"\"\n",
    "directory = \"/Users/guillaume.souede/PycharmProjects/immunogit/models/BioModels/SBML\"\n",
    "cs = download_biomodels_from_api(directory)"
   ],
   "id": "8650c06eb6b9fa14"
  }
 ],
 "metadata": {
  "kernelspec": {
   "display_name": "Python 3",
   "language": "python",
   "name": "python3"
  },
  "language_info": {
   "codemirror_mode": {
    "name": "ipython",
    "version": 2
   },
   "file_extension": ".py",
   "mimetype": "text/x-python",
   "name": "python",
   "nbconvert_exporter": "python",
   "pygments_lexer": "ipython2",
   "version": "2.7.6"
  }
 },
 "nbformat": 4,
 "nbformat_minor": 5
}
