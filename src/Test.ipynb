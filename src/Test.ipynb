{
 "cells": [
  {
   "metadata": {},
   "cell_type": "markdown",
   "source": "File for testing purposes only.",
   "id": "df638adcfa964163"
  },
  {
   "metadata": {
    "ExecuteTime": {
     "end_time": "2025-01-20T21:25:59.330456Z",
     "start_time": "2025-01-20T21:25:59.159654Z"
    }
   },
   "cell_type": "code",
   "source": [
    "import os\n",
    "import subprocess\n",
    "import sys\n",
    "import zipfile as z\n",
    "import requests\n",
    "import json\n",
    "\n",
    "try:\n",
    "    from bioservices import BioModels\n",
    "except ImportError:\n",
    "    subprocess.check_call([sys.executable, \"-m\", \"pip\", \"install\", \"bioservices\"])\n",
    "    from bioservices import BioModels\n",
    "\n",
    "modelsDir = '../models'\n",
    "if not os.path.exists(modelsDir):\n",
    "    os.makedirs(modelsDir)\n",
    "\n",
    "s = BioModels()"
   ],
   "id": "fbb5ea5cc52a03b6",
   "outputs": [
    {
     "name": "stderr",
     "output_type": "stream",
     "text": [
      "\u001B[33mWARNING [bioservices.BioModels:130]: \u001B[0m \u001B[32mThe URL (https://www.ebi.ac.uk/biomodels) provided cannot be reached.\u001B[0m\n",
      "\u001B[32mINFO    [bioservices.BioModels:363]: \u001B[0m \u001B[32mInitialising BioModels service (REST)\u001B[0m\n"
     ]
    }
   ],
   "execution_count": 7
  },
  {
   "cell_type": "code",
   "id": "initial_id",
   "metadata": {
    "collapsed": true,
    "ExecuteTime": {
     "end_time": "2025-01-20T21:25:59.352422Z",
     "start_time": "2025-01-20T21:25:59.347224Z"
    }
   },
   "source": [
    "def create_query() -> str:\n",
    "    query_parts_full = {\n",
    "        'mode': '*:*',\n",
    "        'species': 'TAXONOMY:9606',\n",
    "        'curation_status': 'curationstatus:\"Manually curated\"',\n",
    "        'formats': 'modelformat:\"SBML\"',\n",
    "        'kw': 'submitter_keywords:\"Immuno-oncology\"'\n",
    "    }\n",
    "\n",
    "    query_parts = [value for value in query_parts_full.values() if value]\n",
    "    query = \" AND \".join(query_parts)\n",
    "\n",
    "    query_parts_simple = {\n",
    "        key: value.split(\":\")[1] if \":\" in value else value\n",
    "        for key, value in query_parts_full.items()\n",
    "    }\n",
    "\n",
    "    query_simple = \" AND \".join(query_parts_simple.values())\n",
    "\n",
    "    return query, query_simple\n",
    "\n",
    "q, sq = create_query()\n",
    "print(q)\n",
    "print(sq)"
   ],
   "outputs": [
    {
     "name": "stdout",
     "output_type": "stream",
     "text": [
      "*:* AND TAXONOMY:9606 AND curationstatus:\"Manually curated\" AND modelformat:\"SBML\" AND submitter_keywords:\"Immuno-oncology\"\n",
      "* AND 9606 AND \"Manually curated\" AND \"SBML\" AND \"Immuno-oncology\"\n"
     ]
    }
   ],
   "execution_count": 8
  },
  {
   "metadata": {},
   "cell_type": "markdown",
   "source": "Final :",
   "id": "629bb6e46fa077b3"
  },
  {
   "metadata": {
    "ExecuteTime": {
     "end_time": "2025-01-20T21:25:59.372760Z",
     "start_time": "2025-01-20T21:25:59.367682Z"
    }
   },
   "cell_type": "code",
   "source": [
    "def get_ids() -> list:\n",
    "    query, sq = create_query()\n",
    "\n",
    "    print(f\"Generated query: {query}\")\n",
    "\n",
    "    try:\n",
    "        search_results = s.search(query)\n",
    "\n",
    "        if not search_results or 'models' not in search_results or not search_results['models']:\n",
    "            print(\"No models found.\")\n",
    "            return []\n",
    "\n",
    "        model_ids = [model['id'] for model in search_results['models']]\n",
    "        return model_ids\n",
    "\n",
    "    except Exception as e:\n",
    "        print(f\"Error during search: {e}\")\n",
    "        return []"
   ],
   "id": "553c2cb1fb7c8332",
   "outputs": [],
   "execution_count": 9
  },
  {
   "metadata": {
    "ExecuteTime": {
     "end_time": "2025-01-20T21:25:59.389585Z",
     "start_time": "2025-01-20T21:25:59.382208Z"
    }
   },
   "cell_type": "code",
   "source": [
    "def download_biomodels(directory: str, model_ids: list):\n",
    "    filenames = []\n",
    "    num_per_download = 100\n",
    "\n",
    "    if len(model_ids) > num_per_download:\n",
    "        num_downloads = len(model_ids) // num_per_download\n",
    "        remainder = len(model_ids) % num_per_download\n",
    "        if remainder > 0:\n",
    "            num_downloads += 1\n",
    "    else:\n",
    "        num_downloads = 1\n",
    "\n",
    "    start = 0\n",
    "    for download_number in range(1, num_downloads + 1):\n",
    "        if download_number == num_downloads:\n",
    "            end = len(model_ids)\n",
    "        else:\n",
    "            end = start + num_per_download\n",
    "\n",
    "        fname = os.path.join(directory, f\"Biomodels{start+1}-{end}.zip\")\n",
    "        filenames.append(fname)\n",
    "\n",
    "        if os.path.isfile(fname):\n",
    "            os.remove(fname)\n",
    "\n",
    "        current_batch_ids = model_ids[start:end]\n",
    "\n",
    "        s.search_download(current_batch_ids, output_filename=fname)\n",
    "        print(f\"Biomodels models from ID {start+1} to {end} saved to {fname}\")\n",
    "\n",
    "        start = end\n",
    "\n",
    "    # Consolidate all downloaded ZIP files into one\n",
    "    with z.ZipFile(filenames[0], 'a') as z1:\n",
    "        for fname in filenames[1:]:\n",
    "            zf = z.ZipFile(fname, 'r')\n",
    "            for n in zf.namelist():\n",
    "                z1.writestr(n, zf.open(n).read())\n",
    "\n",
    "    # Rename the first zip to \"biomodels.zip\"\n",
    "    biomodels_zip = os.path.join(directory, \"biomodels.zip\")\n",
    "    if not os.path.isfile(biomodels_zip):\n",
    "        os.rename(filenames[0], biomodels_zip)\n",
    "\n",
    "    # Clean up the other zip files\n",
    "    for i in range(1, len(filenames)):\n",
    "        try:\n",
    "            os.remove(filenames[i])\n",
    "        except Exception:\n",
    "            continue\n",
    "\n",
    "    return filenames"
   ],
   "id": "70ac27deb5e3e61c",
   "outputs": [],
   "execution_count": 10
  },
  {
   "metadata": {},
   "cell_type": "markdown",
   "source": "Using the code to answer :",
   "id": "a20342dea2f37392"
  },
  {
   "metadata": {
    "ExecuteTime": {
     "end_time": "2025-01-20T21:26:08.286457Z",
     "start_time": "2025-01-20T21:26:07.416788Z"
    }
   },
   "cell_type": "code",
   "source": [
    "ACTIVATE_DOWNLOAD = True\n",
    "query, sq = create_query()\n",
    "model_ids = get_ids()\n",
    "print(f\"Model IDs: {model_ids}\")\n",
    "print(f\"Found {len(model_ids)} models matching the query.\")\n",
    "if ACTIVATE_DOWNLOAD and model_ids:\n",
    "    download_biomodels(modelsDir, model_ids)"
   ],
   "id": "7b21b4f3ee9453e4",
   "outputs": [
    {
     "name": "stdout",
     "output_type": "stream",
     "text": [
      "Generated query: *:* AND TAXONOMY:9606 AND curationstatus:\"Manually curated\" AND modelformat:\"SBML\" AND submitter_keywords:\"Immuno-oncology\"\n",
      "Model IDs: ['BIOMD0000000919', 'BIOMD0000000921', 'BIOMD0000001011', 'BIOMD0000001012', 'BIOMD0000001013', 'BIOMD0000001014', 'BIOMD0000001022', 'BIOMD0000001023', 'BIOMD0000001024', 'BIOMD0000001025']\n",
      "Found 10 models matching the query.\n"
     ]
    },
    {
     "name": "stderr",
     "output_type": "stream",
     "text": [
      "\u001B[32mINFO    [bioservices.BioModels:240]: \u001B[0m \u001B[32m../models/Biomodels1-10.zip\u001B[0m\n"
     ]
    },
    {
     "name": "stdout",
     "output_type": "stream",
     "text": [
      "Biomodels models from ID 1 to 10 saved to ../models/Biomodels1-10.zip\n"
     ]
    }
   ],
   "execution_count": 12
  }
 ],
 "metadata": {
  "kernelspec": {
   "display_name": "Python 3",
   "language": "python",
   "name": "python3"
  },
  "language_info": {
   "codemirror_mode": {
    "name": "ipython",
    "version": 2
   },
   "file_extension": ".py",
   "mimetype": "text/x-python",
   "name": "python",
   "nbconvert_exporter": "python",
   "pygments_lexer": "ipython2",
   "version": "2.7.6"
  }
 },
 "nbformat": 4,
 "nbformat_minor": 5
}
