{
 "cells": [
  {
   "metadata": {
    "ExecuteTime": {
     "end_time": "2025-01-28T21:27:08.112775Z",
     "start_time": "2025-01-28T21:27:06.633740Z"
    }
   },
   "cell_type": "code",
   "source": "from common_immunogit import *",
   "id": "16a410ba0d6e8101",
   "outputs": [
    {
     "name": "stdout",
     "output_type": "stream",
     "text": [
      "/Users/guillaume.souede/PycharmProjects/immunogit\n",
      "Structure Ok.\n"
     ]
    }
   ],
   "execution_count": 3
  },
  {
   "metadata": {
    "ExecuteTime": {
     "end_time": "2025-01-28T21:27:00.751272Z",
     "start_time": "2025-01-28T21:27:00.737370Z"
    }
   },
   "cell_type": "code",
   "source": [
    "def json_metadata_extractor(json_data):\n",
    "    extracted_data = {}\n",
    "\n",
    "    # Extract relevant metadata from a JSON structure\n",
    "    for model_id, model_data in json_data.items():\n",
    "        extracted_data[model_id] = {\n",
    "            \"name\": model_data.get(\"name\"),\n",
    "            \"description\": model_data.get(\"description\"),\n",
    "            \"format\": model_data.get(\"format\", {}).get(\"name\"),\n",
    "            \"publication\": {\n",
    "                \"title\": model_data.get(\"publication\", {}).get(\"title\"),\n",
    "                \"journal\": model_data.get(\"publication\", {}).get(\"journal\"),\n",
    "                \"year\": model_data.get(\"publication\", {}).get(\"year\"),\n",
    "                \"authors\": [\n",
    "                    {\n",
    "                        \"name\": author.get(\"name\"),\n",
    "                        \"institution\": author.get(\"institution\"),\n",
    "                        \"orcid\": author.get(\"orcid\")\n",
    "                    }\n",
    "                    for author in model_data.get(\"publication\", {}).get(\"authors\", [])\n",
    "                ],\n",
    "                # \"link\": model_data.get(\"publication\", {}).get(\"link\")\n",
    "            },\n",
    "            \"files\": model_data.get(\"files\", {}).get(\"main\", []),\n",
    "            \"contributors\": model_data.get(\"contributors\", {}),\n",
    "            \"tags\": model_data.get(\"modelTags\", [])\n",
    "        }\n",
    "\n",
    "    return extracted_data\n",
    "\n",
    "\n",
    "def process_multiple_json_files(input_folder, delete=False):\n",
    "    \"\"\"Process JSON files and create separate metadata files for models.\"\"\"\n",
    "\n",
    "    models_file = os.path.join(md_path, \"models_metadata.json\")\n",
    "    biomodels_file = os.path.join(md_path, \"metadata_BioModels.json\")\n",
    "    reactome_file = os.path.join(md_path, \"metadata_Reactome.json\")\n",
    "\n",
    "    merged_data = {\"models\": {}}\n",
    "    biomodels_data = {}\n",
    "    reactome_data = {}\n",
    "\n",
    "    for filename in os.listdir(input_folder):\n",
    "        if filename.endswith(\".json\") and not filename.startswith(\".\"):  # Skip hidden files\n",
    "            file_path = os.path.join(input_folder, filename)\n",
    "            with open(file_path, \"r\") as file:\n",
    "                json_data = json.load(file)\n",
    "                metadata = json_metadata_extractor(json_data)\n",
    "\n",
    "                merged_data[\"models\"].append(metadata)\n",
    "\n",
    "                if \"BioModels\" in filename:\n",
    "                    biomodels_data.append(metadata)\n",
    "                elif \"Reactome\" in filename:\n",
    "                    reactome_data.append(metadata)\n",
    "\n",
    "    # merged model\n",
    "    with open(models_file, \"w\") as outfile:\n",
    "        json.dump(merged_data, outfile, indent=4)\n",
    "    print(f\"Created {models_file}\")\n",
    "\n",
    "    # BioModels\n",
    "    with open(biomodels_file, \"w\") as outfile:\n",
    "        json.dump({\"BioModels\": biomodels_data}, outfile, indent=4)\n",
    "    print(f\"Created {biomodels_file}\")\n",
    "\n",
    "    # Reactome\n",
    "    with open(reactome_file, \"w\") as outfile:\n",
    "        json.dump({\"Reactome\": reactome_data}, outfile, indent=4)\n",
    "    print(f\"Created {reactome_file}\")\n",
    "\n",
    "    # Delete source files if True\n",
    "    if delete:\n",
    "        for filename in os.listdir(input_folder):\n",
    "            file_path = os.path.join(input_folder, filename)\n",
    "            if filename.endswith(\".json\") and not filename.startswith(\".\"):\n",
    "                os.remove(file_path)\n",
    "        print(f\"Source files deleted from {input_folder}.\")\n",
    "    else:\n",
    "        print(f\"{BLUE}Source files not deleted. Set delete = True to remove them.{RESET}\")\n",
    "\n",
    "def shrink_json_info(input_path):\n",
    "    with open(input_path, 'r') as f:\n",
    "        json_data = json.load(f)\n",
    "    filtered_data = json_metadata_extractor(json_data)\n",
    "    output_path = input_path.with_name(input_path.stem + \"_filtered.json\")\n",
    "    with open(output_path, 'w') as f:\n",
    "        json.dump(filtered_data, f, indent=4)\n",
    "    print(f\"Filtered metadata saved as : {output_path}\")"
   ],
   "id": "509344a5064eb52f",
   "outputs": [],
   "execution_count": 1
  },
  {
   "metadata": {},
   "cell_type": "code",
   "source": "# process_multiple_json_files(\"../metadata/Raw\", delete=False)",
   "id": "986d509740abcc3b",
   "outputs": [],
   "execution_count": null
  },
  {
   "metadata": {
    "ExecuteTime": {
     "end_time": "2025-01-28T21:27:10.253420Z",
     "start_time": "2025-01-28T21:27:10.233919Z"
    }
   },
   "cell_type": "code",
   "source": [
    "infile = md_path / \"model_metadata.json\"\n",
    "shrink_json_info(infile)"
   ],
   "id": "2a632794877fa112",
   "outputs": [
    {
     "name": "stdout",
     "output_type": "stream",
     "text": [
      "Filtered metadata saved as : /Users/guillaume.souede/PycharmProjects/immunogit/metadata/model_metadata_filtered.json\n"
     ]
    }
   ],
   "execution_count": 4
  },
  {
   "metadata": {},
   "cell_type": "code",
   "outputs": [],
   "execution_count": null,
   "source": "",
   "id": "f815d78f15d90037"
  }
 ],
 "metadata": {
  "kernelspec": {
   "display_name": "Python 3",
   "language": "python",
   "name": "python3"
  },
  "language_info": {
   "codemirror_mode": {
    "name": "ipython",
    "version": 2
   },
   "file_extension": ".py",
   "mimetype": "text/x-python",
   "name": "python",
   "nbconvert_exporter": "python",
   "pygments_lexer": "ipython2",
   "version": "2.7.6"
  }
 },
 "nbformat": 4,
 "nbformat_minor": 5
}
