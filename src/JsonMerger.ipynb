{
 "cells": [
  {
   "cell_type": "markdown",
   "id": "709c5fe9",
   "metadata": {},
   "source": [
    "# JSONMerger"
   ]
  },
  {
   "cell_type": "code",
   "execution_count": 1,
   "id": "16a410ba0d6e8101",
   "metadata": {
    "ExecuteTime": {
     "end_time": "2025-03-26T20:43:34.319960Z",
     "start_time": "2025-03-26T20:43:33.349080Z"
    }
   },
   "outputs": [
    {
     "name": "stderr",
     "output_type": "stream",
     "text": [
      "2025-03-31 00:52:40,371 - INFO - Root path: /Users/guillaume.souede/PycharmProjects/immunogit\n",
      "2025-03-31 00:52:40,372 - INFO - Directory structure set up successfully.\n"
     ]
    }
   ],
   "source": [
    "from common_immunogit import *"
   ]
  },
  {
   "cell_type": "code",
   "execution_count": null,
   "id": "509344a5064eb52f",
   "metadata": {
    "ExecuteTime": {
     "end_time": "2025-01-28T21:27:00.751272Z",
     "start_time": "2025-01-28T21:27:00.737370Z"
    }
   },
   "outputs": [],
   "source": [
    "def json_metadata_extractor_full(json_data):\n",
    "    \"\"\"Extract metadata from a JSON structure.\n",
    "\n",
    "    Args:\n",
    "        json_data (dict): The JSON data. Contains the model metadata.\n",
    "\n",
    "    Returns:\n",
    "        dict: A dictionary containing extracted metadata for each model.\n",
    "    \"\"\"\n",
    "    extracted_data = {}\n",
    "\n",
    "    for model_id, model_data in json_data.items():\n",
    "        extracted_data[model_id] = {\n",
    "            \"name\": model_data.get(\"name\"),\n",
    "            \"description\": model_data.get(\"description\"),\n",
    "            \"format\": model_data.get(\"format\", {}).get(\"name\"),\n",
    "            \"publication\": {\n",
    "                \"title\": model_data.get(\"publication\", {}).get(\"title\"),\n",
    "                \"journal\": model_data.get(\"publication\", {}).get(\"journal\"),\n",
    "                \"year\": model_data.get(\"publication\", {}).get(\"year\"),\n",
    "                \"authors\": [\n",
    "                    {\n",
    "                        \"name\": author.get(\"name\"),\n",
    "                        \"institution\": author.get(\"institution\"),\n",
    "                        \"orcid\": author.get(\"orcid\")\n",
    "                    }\n",
    "                    for author in model_data.get(\"publication\", {}).get(\"authors\", [])\n",
    "                ],\n",
    "            },\n",
    "            \"files\": model_data.get(\"files\", {}).get(\"main\", []),\n",
    "            \"contributors\": model_data.get(\"contributors\", {}),\n",
    "            \"tags\": model_data.get(\"modelTags\", [])\n",
    "        }\n",
    "\n",
    "    return extracted_data\n",
    "\n",
    "\n",
    "def process_multiple_json_files(input_folder, delete=False):\n",
    "    \"\"\"Process multiple JSON files and extract metadata.\n",
    "\n",
    "    Args:\n",
    "        input_folder (str): Path to the folder containing JSON files.\n",
    "        delete (bool): Whether to delete the source JSON files after processing.\n",
    "\n",
    "    Returns:\n",
    "        None\n",
    "    \"\"\"\n",
    "    models_file = os.path.join(md_path, \"models_metadata.json\")\n",
    "    biomodels_file = os.path.join(md_path, \"metadata_BioModels.json\")\n",
    "    reactome_file = os.path.join(md_path, \"metadata_Reactome.json\")\n",
    "\n",
    "    merged_data = {\"models\": {}}\n",
    "    biomodels_data = {}\n",
    "    reactome_data = {}\n",
    "\n",
    "    for filename in os.listdir(input_folder):\n",
    "        if filename.endswith(\".json\") and not filename.startswith(\".\"):  # Skip hidden files\n",
    "            file_path = os.path.join(input_folder, filename)\n",
    "            with open(file_path, \"r\") as file:\n",
    "                json_data = json.load(file)\n",
    "                metadata = json_metadata_extractor(json_data)\n",
    "\n",
    "                merged_data[\"models\"].append(metadata)\n",
    "\n",
    "                if \"BioModels\" in filename:\n",
    "                    biomodels_data.append(metadata)\n",
    "                elif \"Reactome\" in filename:\n",
    "                    reactome_data.append(metadata)\n",
    "\n",
    "    # merged model\n",
    "    with open(models_file, \"w\") as outfile:\n",
    "        json.dump(merged_data, outfile, indent=4)\n",
    "    print(f\"Created {models_file}\")\n",
    "\n",
    "    # BioModels\n",
    "    with open(biomodels_file, \"w\") as outfile:\n",
    "        json.dump({\"BioModels\": biomodels_data}, outfile, indent=4)\n",
    "    print(f\"Created {biomodels_file}\")\n",
    "\n",
    "    # Reactome\n",
    "    with open(reactome_file, \"w\") as outfile:\n",
    "        json.dump({\"Reactome\": reactome_data}, outfile, indent=4)\n",
    "    print(f\"Created {reactome_file}\")\n",
    "\n",
    "    # Delete source files if True\n",
    "    if delete:\n",
    "        for filename in os.listdir(input_folder):\n",
    "            file_path = os.path.join(input_folder, filename)\n",
    "            if filename.endswith(\".json\") and not filename.startswith(\".\"):\n",
    "                os.remove(file_path)\n",
    "        print(f\"Source files deleted from {input_folder}.\")\n",
    "    else:\n",
    "        print(f\"{BLUE}Source files not deleted. Set delete = True to remove them.{RESET}\")\n",
    "\n",
    "\n",
    "def shrink_json_info(input_path):\n",
    "    \"\"\"Filter and save metadata with tags from a JSON file.\n",
    "\n",
    "    Args:\n",
    "        input_path (Path): Path to the input JSON file.\n",
    "\n",
    "    Returns:\n",
    "        None\n",
    "    \"\"\"\n",
    "    with open(input_path, 'r') as f:\n",
    "        json_data = json.load(f)\n",
    "    filtered_data = json_metadata_extractor(json_data)\n",
    "    output_path = input_path.with_name(input_path.stem + \"_filtered.json\")\n",
    "    with open(output_path, 'w') as f:\n",
    "        json.dump(filtered_data, f, indent=4)\n",
    "    print(f\"Filtered metadata saved as : {output_path}\")"
   ]
  },
  {
   "cell_type": "markdown",
   "id": "b54f01be7f5801cc",
   "metadata": {},
   "source": [
    "We manually curated keywords, and can import the dictionary file :"
   ]
  },
  {
   "cell_type": "code",
   "execution_count": 3,
   "id": "71b9f22d26b06730",
   "metadata": {
    "ExecuteTime": {
     "end_time": "2025-03-26T20:43:49.478208Z",
     "start_time": "2025-03-26T20:43:49.463209Z"
    }
   },
   "outputs": [
    {
     "data": {
      "text/plain": [
       "{'Cells': ['T helper cells',\n",
       "  'B cells',\n",
       "  'Cytotoxic T cells',\n",
       "  'Plasma cells',\n",
       "  'Tumor cells',\n",
       "  'Avascular cancerous cells',\n",
       "  'Cancer cells',\n",
       "  'CTL',\n",
       "  'Infected tumor cells',\n",
       "  'Uninfected tumor cells',\n",
       "  'Effector cells',\n",
       "  'Immune system cells',\n",
       "  'Tumor-specific CTL',\n",
       "  'Virus-specific CTL',\n",
       "  'Immune killer cells',\n",
       "  'Tumor-infiltrating lymphocytes'],\n",
       " 'Treatments': ['Immunotherapy',\n",
       "  'Monoclonal antibody therapy',\n",
       "  'Radiovirotherapy',\n",
       "  'Virotherapy',\n",
       "  'Radiotherapy',\n",
       "  'Cancer therapy',\n",
       "  'Chemotherapy',\n",
       "  'Optimal chemotherapy',\n",
       "  'Strongly targeted agent',\n",
       "  'Cancer immunotherapy',\n",
       "  'Immune checkpoint inhibitors',\n",
       "  'Adoptive cell therapy'],\n",
       " 'Interactions': ['Cancer-immune system interaction',\n",
       "  'Immune cell killing',\n",
       "  'Tumor remission',\n",
       "  'Tumor growth',\n",
       "  'Virus replication',\n",
       "  'Virus infection',\n",
       "  'Immune suppression',\n",
       "  'Immunostimulatory signals',\n",
       "  'Bistability',\n",
       "  'Antibody-mediated killing',\n",
       "  'Optimal control',\n",
       "  'Tumor immune-system interactions',\n",
       "  'Immune response',\n",
       "  'Immune escape',\n",
       "  'Tumor microenvironment',\n",
       "  'Cytokine signaling'],\n",
       " 'Diseases': ['Cancer',\n",
       "  'Tumor',\n",
       "  'Head and neck cancer',\n",
       "  'Adenovirus',\n",
       "  'ONYX-015',\n",
       "  'Genetically engineered viruses',\n",
       "  'Malignant tumor',\n",
       "  'Benign tumor',\n",
       "  'Metastatic cancer',\n",
       "  'Solid tumors',\n",
       "  'Hematological malignancies'],\n",
       " 'Immunology': ['Immune response',\n",
       "  'Immune system cells',\n",
       "  'Virus-specific CTL response',\n",
       "  'Tumor-specific CTL',\n",
       "  'Immune effector cells',\n",
       "  'Immune-induced',\n",
       "  'Monoclonal antibodies',\n",
       "  'Immunosuppressive effects',\n",
       "  'Immunological barrier',\n",
       "  'Immune dynamics',\n",
       "  'Immune stability',\n",
       "  'Innate immunity',\n",
       "  'Adaptive immunity'],\n",
       " 'Biology': ['Transcritical bifurcation',\n",
       "  'Global stability',\n",
       "  'Local stability',\n",
       "  'Cytotoxic virus',\n",
       "  'Non-cytotoxic virus',\n",
       "  'Logistic growth',\n",
       "  'Generalized logistic growth',\n",
       "  'Gompertzian model',\n",
       "  'Exponential growth',\n",
       "  'Cellular proliferation',\n",
       "  'Apoptosis',\n",
       "  'Angiogenesis'],\n",
       " 'Mathematics': ['Ordinary differential equations',\n",
       "  'Cancer model',\n",
       "  'Virus model',\n",
       "  'Cancer-immune system interaction model',\n",
       "  'Basic CISI model',\n",
       "  'Radiovirotherapy model',\n",
       "  'Optimal control',\n",
       "  'Multi-stable dynamics',\n",
       "  'Equilibria stability',\n",
       "  'Stable manifold',\n",
       "  'Saddle point',\n",
       "  'Asymptotic stability',\n",
       "  'Bifurcation analysis',\n",
       "  'Parameter sensitivity'],\n",
       " 'Pharmacology': ['Phase I',\n",
       "  'Phase II',\n",
       "  'Clinical trials',\n",
       "  'Drug stability',\n",
       "  'Pharmacokinetics',\n",
       "  'Pharmacodynamics',\n",
       "  'Dose-response relationship'],\n",
       " 'Global': ['Immuno-oncology',\n",
       "  'BioModels',\n",
       "  'Reactome',\n",
       "  'SBML',\n",
       "  'SBGN',\n",
       "  'Mathematical modeling',\n",
       "  'Computational biology',\n",
       "  'Numerical analysis',\n",
       "  'Systems biology',\n",
       "  'Bioinformatics',\n",
       "  'Data integration']}"
      ]
     },
     "execution_count": 3,
     "metadata": {},
     "output_type": "execute_result"
    }
   ],
   "source": [
    "with open(\"../tmp/keywords.json\", \"r\", encoding=\"utf-8\") as f:\n",
    "    keywords_dict = json.load(f)\n",
    "keywords_dict"
   ]
  },
  {
   "cell_type": "markdown",
   "id": "12fcf2ee2ef1ed5d",
   "metadata": {},
   "source": [
    "Attempt :"
   ]
  },
  {
   "cell_type": "code",
   "execution_count": null,
   "id": "bca509e7261a753e",
   "metadata": {
    "ExecuteTime": {
     "end_time": "2025-01-29T13:30:00.994961Z",
     "start_time": "2025-01-29T13:30:00.984517Z"
    }
   },
   "outputs": [],
   "source": [
    "def json_metadata_extractor(json_data):\n",
    "    \"\"\"Extract metadata from a JSON structure and generate tags based on keywords.\n",
    "\n",
    "    Args:\n",
    "        json_data (dict): The JSON data. Contains the model metadata.\n",
    "\n",
    "    Returns:\n",
    "        dict: A dictionary containing extracted metadata for each model.\n",
    "    \"\"\"\n",
    "    extracted_data = {}\n",
    "\n",
    "    for model_id, model_data in json_data.items():\n",
    "        tags = model_data.get(\"modelTags\", [])\n",
    "        new_tags = []\n",
    "\n",
    "        for category, keywords in keywords_dict.items():\n",
    "            found_keywords = [\n",
    "                keyword for keyword in keywords \n",
    "                if keyword.lower() in model_data.get(\"name\", \"\").lower() or \n",
    "                   keyword.lower() in model_data.get(\"description\", \"\").lower()\n",
    "            ]\n",
    "            if found_keywords:\n",
    "                new_tags.append(f\"{category} : \" + ', '.join(found_keywords))\n",
    "\n",
    "        global_tag = [f\"Main: {tag}\" for tag in tags]\n",
    "\n",
    "        extracted_data[model_id] = {\n",
    "            \"name\": model_data.get(\"name\"),\n",
    "            \"description\": model_data.get(\"description\"),\n",
    "            \"format\": model_data.get(\"format\", {}).get(\"name\"),\n",
    "            \"publication\": {\n",
    "                \"title\": model_data.get(\"publication\", {}).get(\"title\"),\n",
    "                \"journal\": model_data.get(\"publication\", {}).get(\"journal\"),\n",
    "                \"year\": model_data.get(\"publication\", {}).get(\"year\"),\n",
    "                \"authors\": [\n",
    "                    {\n",
    "                        \"name\": unicode_fixer(author.get(\"name\", \"\")),\n",
    "                        \"institution\": author.get(\"institution\"),\n",
    "                        \"orcid\": author.get(\"orcid\")\n",
    "                    }\n",
    "                    for author in model_data.get(\"publication\", {}).get(\"authors\", [])\n",
    "                ],\n",
    "            },\n",
    "            \"files\": model_data.get(\"files\", {}).get(\"main\", []),\n",
    "            \"contributors\": model_data.get(\"contributors\", {}),\n",
    "            \"tags\": list(set(global_tag + new_tags))\n",
    "        }\n",
    "\n",
    "    return extracted_data\n",
    "\n",
    "def process_multiple_json_files(input_folder, delete=False):\n",
    "    \"\"\"Process multiple JSON files and extract metadata.\n",
    "\n",
    "    Args:\n",
    "        input_folder (str): Path to the folder containing JSON files.\n",
    "        delete (bool): Whether to delete the source JSON files after processing.\n",
    "\n",
    "    Returns:\n",
    "        None\n",
    "    \"\"\"\n",
    "    pass\n",
    "\n",
    "def shrink_json_tags(input_path):\n",
    "    \"\"\"Filter and save metadata with tags from a JSON file.\n",
    "\n",
    "    Args:\n",
    "        input_path (Path): Path to the input JSON file.\n",
    "\n",
    "    Returns:\n",
    "        None\n",
    "    \"\"\"\n",
    "    with open(input_path, 'r') as f:\n",
    "        json_data = json.load(f)\n",
    "    filtered_data = json_metadata_extractor(json_data)\n",
    "    output_path = input_path.with_name(input_path.stem + \"_tags.json\")\n",
    "    with open(output_path, 'w') as f:\n",
    "        json.dump(filtered_data, f, indent=4)\n",
    "    print(f\"Filtered metadata saved as : {output_path}\")"
   ]
  },
  {
   "cell_type": "code",
   "execution_count": null,
   "id": "a4f98cb89aca6d5b",
   "metadata": {
    "ExecuteTime": {
     "end_time": "2025-01-29T13:30:01.404628Z",
     "start_time": "2025-01-29T13:30:01.402021Z"
    }
   },
   "outputs": [],
   "source": [
    "def unicode_fixer(phrase):\n",
    "    \"\"\"\n",
    "    Fixes encoding issues in a given string by attempting multiple decoding strategies.\n",
    "\n",
    "    Args:\n",
    "        phrase (str): The input string to fix.\n",
    "\n",
    "    Returns:\n",
    "        str: The fixed string with encoding issues resolved.\n",
    "    \"\"\"\n",
    "    if isinstance(phrase, str):\n",
    "        try:\n",
    "            # Decode using 'utf-8' with replacements\n",
    "            return phrase.encode('latin1').decode('utf-8')\n",
    "        except (UnicodeEncodeError, UnicodeDecodeError):\n",
    "            try:\n",
    "                # Re-encode back to 'utf-8' after error fix\n",
    "                return phrase.encode('latin1').decode('utf-8', errors='replace')\n",
    "            except Exception as e:\n",
    "                print(f\"Error fixing unicode: {e}\")\n",
    "                return phrase\n",
    "    return phrase"
   ]
  },
  {
   "cell_type": "code",
   "execution_count": 15,
   "id": "902c199c10d986bc",
   "metadata": {
    "ExecuteTime": {
     "end_time": "2025-01-29T13:29:40.904188Z",
     "start_time": "2025-01-29T13:29:40.857479Z"
    }
   },
   "outputs": [],
   "source": [
    "infile = md_path / \"model_metadata.json\"\n",
    "shrink_json_tags(infile)"
   ]
  },
  {
   "cell_type": "code",
   "execution_count": 16,
   "id": "a9d32df5585c462e",
   "metadata": {
    "ExecuteTime": {
     "end_time": "2025-01-29T13:27:40.715944Z",
     "start_time": "2025-01-29T13:27:40.705622Z"
    }
   },
   "outputs": [
    {
     "name": "stdout",
     "output_type": "stream",
     "text": [
      "Heinz Schättler\n"
     ]
    }
   ],
   "source": [
    "print(unicode_fixer(\"Heinz Sch\\u00c3\\u00a4ttler\"))"
   ]
  }
 ],
 "metadata": {
  "kernelspec": {
   "display_name": "Python 3",
   "language": "python",
   "name": "python3"
  },
  "language_info": {
   "codemirror_mode": {
    "name": "ipython",
    "version": 3
   },
   "file_extension": ".py",
   "mimetype": "text/x-python",
   "name": "python",
   "nbconvert_exporter": "python",
   "pygments_lexer": "ipython3",
   "version": "3.12.7"
  }
 },
 "nbformat": 4,
 "nbformat_minor": 5
}
