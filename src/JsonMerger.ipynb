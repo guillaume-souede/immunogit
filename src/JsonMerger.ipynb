{
 "cells": [
  {
   "metadata": {
    "ExecuteTime": {
     "end_time": "2025-03-26T20:43:34.319960Z",
     "start_time": "2025-03-26T20:43:33.349080Z"
    }
   },
   "cell_type": "code",
   "source": "from common_immunogit import *",
   "id": "16a410ba0d6e8101",
   "outputs": [
    {
     "name": "stderr",
     "output_type": "stream",
     "text": [
      "2025-03-26 21:43:34,317 - INFO - Root path: /Users/guillaume.souede/PycharmProjects/immunogit\n",
      "2025-03-26 21:43:34,318 - INFO - Directory structure set up successfully.\n"
     ]
    }
   ],
   "execution_count": 2
  },
  {
   "metadata": {
    "ExecuteTime": {
     "end_time": "2025-01-28T21:27:00.751272Z",
     "start_time": "2025-01-28T21:27:00.737370Z"
    }
   },
   "cell_type": "code",
   "source": [
    "def json_metadata_extractor(json_data):\n",
    "    extracted_data = {}\n",
    "\n",
    "    # Extract relevant metadata from a JSON structure\n",
    "    for model_id, model_data in json_data.items():\n",
    "        extracted_data[model_id] = {\n",
    "            \"name\": model_data.get(\"name\"),\n",
    "            \"description\": model_data.get(\"description\"),\n",
    "            \"format\": model_data.get(\"format\", {}).get(\"name\"),\n",
    "            \"publication\": {\n",
    "                \"title\": model_data.get(\"publication\", {}).get(\"title\"),\n",
    "                \"journal\": model_data.get(\"publication\", {}).get(\"journal\"),\n",
    "                \"year\": model_data.get(\"publication\", {}).get(\"year\"),\n",
    "                \"authors\": [\n",
    "                    {\n",
    "                        \"name\": author.get(\"name\"),\n",
    "                        \"institution\": author.get(\"institution\"),\n",
    "                        \"orcid\": author.get(\"orcid\")\n",
    "                    }\n",
    "                    for author in model_data.get(\"publication\", {}).get(\"authors\", [])\n",
    "                ],\n",
    "                # \"link\": model_data.get(\"publication\", {}).get(\"link\")\n",
    "            },\n",
    "            \"files\": model_data.get(\"files\", {}).get(\"main\", []),\n",
    "            \"contributors\": model_data.get(\"contributors\", {}),\n",
    "            \"tags\": model_data.get(\"modelTags\", [])\n",
    "        }\n",
    "\n",
    "    return extracted_data\n",
    "\n",
    "\n",
    "def process_multiple_json_files(input_folder, delete=False):\n",
    "    \"\"\"Process JSON files and create separate metadata files for models.\"\"\"\n",
    "\n",
    "    models_file = os.path.join(md_path, \"models_metadata.json\")\n",
    "    biomodels_file = os.path.join(md_path, \"metadata_BioModels.json\")\n",
    "    reactome_file = os.path.join(md_path, \"metadata_Reactome.json\")\n",
    "\n",
    "    merged_data = {\"models\": {}}\n",
    "    biomodels_data = {}\n",
    "    reactome_data = {}\n",
    "\n",
    "    for filename in os.listdir(input_folder):\n",
    "        if filename.endswith(\".json\") and not filename.startswith(\".\"):  # Skip hidden files\n",
    "            file_path = os.path.join(input_folder, filename)\n",
    "            with open(file_path, \"r\") as file:\n",
    "                json_data = json.load(file)\n",
    "                metadata = json_metadata_extractor(json_data)\n",
    "\n",
    "                merged_data[\"models\"].append(metadata)\n",
    "\n",
    "                if \"BioModels\" in filename:\n",
    "                    biomodels_data.append(metadata)\n",
    "                elif \"Reactome\" in filename:\n",
    "                    reactome_data.append(metadata)\n",
    "\n",
    "    # merged model\n",
    "    with open(models_file, \"w\") as outfile:\n",
    "        json.dump(merged_data, outfile, indent=4)\n",
    "    print(f\"Created {models_file}\")\n",
    "\n",
    "    # BioModels\n",
    "    with open(biomodels_file, \"w\") as outfile:\n",
    "        json.dump({\"BioModels\": biomodels_data}, outfile, indent=4)\n",
    "    print(f\"Created {biomodels_file}\")\n",
    "\n",
    "    # Reactome\n",
    "    with open(reactome_file, \"w\") as outfile:\n",
    "        json.dump({\"Reactome\": reactome_data}, outfile, indent=4)\n",
    "    print(f\"Created {reactome_file}\")\n",
    "\n",
    "    # Delete source files if True\n",
    "    if delete:\n",
    "        for filename in os.listdir(input_folder):\n",
    "            file_path = os.path.join(input_folder, filename)\n",
    "            if filename.endswith(\".json\") and not filename.startswith(\".\"):\n",
    "                os.remove(file_path)\n",
    "        print(f\"Source files deleted from {input_folder}.\")\n",
    "    else:\n",
    "        print(f\"{BLUE}Source files not deleted. Set delete = True to remove them.{RESET}\")\n",
    "\n",
    "def shrink_json_info(input_path):\n",
    "    with open(input_path, 'r') as f:\n",
    "        json_data = json.load(f)\n",
    "    filtered_data = json_metadata_extractor(json_data)\n",
    "    output_path = input_path.with_name(input_path.stem + \"_filtered.json\")\n",
    "    with open(output_path, 'w') as f:\n",
    "        json.dump(filtered_data, f, indent=4)\n",
    "    print(f\"Filtered metadata saved as : {output_path}\")"
   ],
   "id": "509344a5064eb52f",
   "outputs": [],
   "execution_count": 1
  },
  {
   "metadata": {},
   "cell_type": "code",
   "source": "# process_multiple_json_files(\"../metadata/Raw\", delete=False)",
   "id": "986d509740abcc3b",
   "outputs": [],
   "execution_count": null
  },
  {
   "metadata": {
    "ExecuteTime": {
     "end_time": "2025-01-28T21:27:10.253420Z",
     "start_time": "2025-01-28T21:27:10.233919Z"
    }
   },
   "cell_type": "code",
   "source": [
    "infile = md_path / \"model_metadata.json\"\n",
    "shrink_json_info(infile)"
   ],
   "id": "2a632794877fa112",
   "outputs": [
    {
     "name": "stdout",
     "output_type": "stream",
     "text": [
      "Filtered metadata saved as : /Users/guillaume.souede/PycharmProjects/immunogit/metadata/model_metadata_filtered.json\n"
     ]
    }
   ],
   "execution_count": 4
  },
  {
   "metadata": {
    "ExecuteTime": {
     "end_time": "2025-01-29T12:03:19.755955Z",
     "start_time": "2025-01-29T12:03:19.748559Z"
    }
   },
   "cell_type": "code",
   "source": [
    "\"\"\"\n",
    "Attempt to retrieve keywords and make custom tags.\n",
    "\"\"\"\n",
    "def json_name_extractor(json_data):\n",
    "    extracted_data = {}\n",
    "\n",
    "    # Extract relevant names from a JSON structure\n",
    "    for model_id, model_data in json_data.items():\n",
    "        extracted_data[model_id] = {\n",
    "            \"name\": model_data.get(\"name\"),\n",
    "            \"description\": model_data.get(\"description\")\n",
    "        }\n",
    "\n",
    "    return extracted_data\n",
    "\n",
    "def shrink_json_names(input_path):\n",
    "    with open(input_path, 'r') as f:\n",
    "        json_data = json.load(f)\n",
    "    filtered_data = json_name_extractor(json_data)\n",
    "    output_path = input_path.with_name(input_path.stem + \"_names.json\")\n",
    "    with open(output_path, 'w') as f:\n",
    "        json.dump(filtered_data, f, indent=4)\n",
    "    print(f\"Name/desc. metadata saved as : {output_path}\")"
   ],
   "id": "f815d78f15d90037",
   "outputs": [],
   "execution_count": 1
  },
  {
   "metadata": {
    "ExecuteTime": {
     "end_time": "2025-01-29T12:03:51.388236Z",
     "start_time": "2025-01-29T12:03:51.367310Z"
    }
   },
   "cell_type": "code",
   "source": [
    "infile = md_path / \"model_metadata.json\"\n",
    "shrink_json_names(infile)"
   ],
   "id": "9ac472baf3f37dfa",
   "outputs": [
    {
     "name": "stdout",
     "output_type": "stream",
     "text": [
      "Name/desc. metadata saved as : /Users/guillaume.souede/PycharmProjects/immunogit/metadata/model_metadata_names.json\n"
     ]
    }
   ],
   "execution_count": 3
  },
  {
   "metadata": {},
   "cell_type": "markdown",
   "source": "We manually curated keywords, and can import the dictionary file :",
   "id": "b54f01be7f5801cc"
  },
  {
   "metadata": {
    "ExecuteTime": {
     "end_time": "2025-03-26T20:43:49.478208Z",
     "start_time": "2025-03-26T20:43:49.463209Z"
    }
   },
   "cell_type": "code",
   "source": [
    "with open(\"../tmp/keywords.json\", \"r\", encoding=\"utf-8\") as f:\n",
    "    keywords_dict = json.load(f)\n",
    "keywords_dict"
   ],
   "id": "71b9f22d26b06730",
   "outputs": [
    {
     "data": {
      "text/plain": [
       "{'Cells': ['T helper cells',\n",
       "  'B cells',\n",
       "  'Cytotoxic T cells',\n",
       "  'Plasma cells',\n",
       "  'Tumor cells',\n",
       "  'Avascular cancerous cells',\n",
       "  'Cancer cells',\n",
       "  'CTL',\n",
       "  'Infected tumor cells',\n",
       "  'Uninfected tumor cells',\n",
       "  'Effector cells',\n",
       "  'Immune system cells',\n",
       "  'Tumor-specific CTL',\n",
       "  'Virus-specific CTL',\n",
       "  'Immune killer cells',\n",
       "  'Tumor-infiltrating lymphocytes'],\n",
       " 'Treatments': ['Immunotherapy',\n",
       "  'Monoclonal antibody therapy',\n",
       "  'Radiovirotherapy',\n",
       "  'Virotherapy',\n",
       "  'Radiotherapy',\n",
       "  'Cancer therapy',\n",
       "  'Chemotherapy',\n",
       "  'Optimal chemotherapy',\n",
       "  'Strongly targeted agent',\n",
       "  'Cancer immunotherapy',\n",
       "  'Immune checkpoint inhibitors',\n",
       "  'Adoptive cell therapy'],\n",
       " 'Interactions': ['Cancer-immune system interaction',\n",
       "  'Immune cell killing',\n",
       "  'Tumor remission',\n",
       "  'Tumor growth',\n",
       "  'Virus replication',\n",
       "  'Virus infection',\n",
       "  'Immune suppression',\n",
       "  'Immunostimulatory signals',\n",
       "  'Bistability',\n",
       "  'Antibody-mediated killing',\n",
       "  'Optimal control',\n",
       "  'Tumor immune-system interactions',\n",
       "  'Immune response',\n",
       "  'Immune escape',\n",
       "  'Tumor microenvironment',\n",
       "  'Cytokine signaling'],\n",
       " 'Diseases': ['Cancer',\n",
       "  'Tumor',\n",
       "  'Head and neck cancer',\n",
       "  'Adenovirus',\n",
       "  'ONYX-015',\n",
       "  'Genetically engineered viruses',\n",
       "  'Malignant tumor',\n",
       "  'Benign tumor',\n",
       "  'Metastatic cancer',\n",
       "  'Solid tumors',\n",
       "  'Hematological malignancies'],\n",
       " 'Immunology': ['Immune response',\n",
       "  'Immune system cells',\n",
       "  'Virus-specific CTL response',\n",
       "  'Tumor-specific CTL',\n",
       "  'Immune effector cells',\n",
       "  'Immune-induced',\n",
       "  'Monoclonal antibodies',\n",
       "  'Immunosuppressive effects',\n",
       "  'Immunological barrier',\n",
       "  'Immune dynamics',\n",
       "  'Immune stability',\n",
       "  'Innate immunity',\n",
       "  'Adaptive immunity'],\n",
       " 'Biology': ['Transcritical bifurcation',\n",
       "  'Global stability',\n",
       "  'Local stability',\n",
       "  'Cytotoxic virus',\n",
       "  'Non-cytotoxic virus',\n",
       "  'Logistic growth',\n",
       "  'Generalized logistic growth',\n",
       "  'Gompertzian model',\n",
       "  'Exponential growth',\n",
       "  'Cellular proliferation',\n",
       "  'Apoptosis',\n",
       "  'Angiogenesis'],\n",
       " 'Mathematics': ['Ordinary differential equations',\n",
       "  'Cancer model',\n",
       "  'Virus model',\n",
       "  'Cancer-immune system interaction model',\n",
       "  'Basic CISI model',\n",
       "  'Radiovirotherapy model',\n",
       "  'Optimal control',\n",
       "  'Multi-stable dynamics',\n",
       "  'Equilibria stability',\n",
       "  'Stable manifold',\n",
       "  'Saddle point',\n",
       "  'Asymptotic stability',\n",
       "  'Bifurcation analysis',\n",
       "  'Parameter sensitivity'],\n",
       " 'Pharmacology': ['Phase I',\n",
       "  'Phase II',\n",
       "  'Clinical trials',\n",
       "  'Drug stability',\n",
       "  'Pharmacokinetics',\n",
       "  'Pharmacodynamics',\n",
       "  'Dose-response relationship'],\n",
       " 'Global': ['Immuno-oncology',\n",
       "  'BioModels',\n",
       "  'Reactome',\n",
       "  'SBML',\n",
       "  'SBGN',\n",
       "  'Mathematical modeling',\n",
       "  'Computational biology',\n",
       "  'Numerical analysis',\n",
       "  'Systems biology',\n",
       "  'Bioinformatics',\n",
       "  'Data integration']}"
      ]
     },
     "execution_count": 3,
     "metadata": {},
     "output_type": "execute_result"
    }
   ],
   "execution_count": 3
  },
  {
   "metadata": {},
   "cell_type": "markdown",
   "source": "Attempt :",
   "id": "12fcf2ee2ef1ed5d"
  },
  {
   "metadata": {
    "ExecuteTime": {
     "end_time": "2025-01-29T13:30:00.994961Z",
     "start_time": "2025-01-29T13:30:00.984517Z"
    }
   },
   "cell_type": "code",
   "source": [
    "def json_metadata_extractor(json_data):\n",
    "    extracted_data = {}\n",
    "\n",
    "    for model_id, model_data in json_data.items():\n",
    "        tags = model_data.get(\"modelTags\", [])\n",
    "        new_tags = []\n",
    "\n",
    "        for category, keywords in keywords_dict.items():\n",
    "            found_keywords = [keyword for keyword in keywords if keyword.lower() in model_data.get(\"name\", \"\").lower() or keyword.lower() in model_data.get(\"description\", \"\").lower()]\n",
    "            if found_keywords:\n",
    "                new_tags.append(f\"{category} : \" + ', '.join(found_keywords))\n",
    "\n",
    "        global_tag = [f\"Main: {tag}\" for tag in tags]\n",
    "\n",
    "        extracted_data[model_id] = {\n",
    "            \"name\": model_data.get(\"name\"),\n",
    "            \"description\": model_data.get(\"description\"),\n",
    "            \"format\": model_data.get(\"format\", {}).get(\"name\"),\n",
    "            \"publication\": {\n",
    "                \"title\": model_data.get(\"publication\", {}).get(\"title\"),\n",
    "                \"journal\": model_data.get(\"publication\", {}).get(\"journal\"),\n",
    "                \"year\": model_data.get(\"publication\", {}).get(\"year\"),\n",
    "                \"authors\": [\n",
    "                    {\n",
    "                        \"name\": unicode_fixer(author.get(\"name\", \"\")),\n",
    "                        \"institution\": author.get(\"institution\"),\n",
    "                        \"orcid\": author.get(\"orcid\")\n",
    "                    }\n",
    "                    for author in model_data.get(\"publication\", {}).get(\"authors\", [])\n",
    "                ],\n",
    "            },\n",
    "            \"files\": model_data.get(\"files\", {}).get(\"main\", []),\n",
    "            \"contributors\": model_data.get(\"contributors\", {}),\n",
    "            \"tags\": list(set(global_tag + new_tags))\n",
    "        }\n",
    "\n",
    "    return extracted_data\n",
    "\n",
    "\n",
    "def process_multiple_json_files(input_folder, delete=False):\n",
    "    pass\n",
    "\n",
    "def shrink_json_tags(input_path):\n",
    "    with open(input_path, 'r') as f:\n",
    "        json_data = json.load(f)\n",
    "    filtered_data = json_metadata_extractor(json_data)\n",
    "    output_path = input_path.with_name(input_path.stem + \"_tags.json\")\n",
    "    with open(output_path, 'w') as f:\n",
    "        json.dump(filtered_data, f, indent=4)\n",
    "    print(f\"Filtered metadata saved as : {output_path}\")\n"
   ],
   "id": "bca509e7261a753e",
   "outputs": [],
   "execution_count": 102
  },
  {
   "metadata": {
    "ExecuteTime": {
     "end_time": "2025-01-29T13:30:01.404628Z",
     "start_time": "2025-01-29T13:30:01.402021Z"
    }
   },
   "cell_type": "code",
   "source": [
    "\"\"\" BAD CODE\n",
    "DELETES BAD TEXT ON FILE BUT WORKS BELOW\n",
    "\"\"\"\n",
    "def unicode_fixer(phrase):\n",
    "    if isinstance(phrase, str):\n",
    "        # cannot decode if no encoding before..\n",
    "        return phrase.encode('latin1').decode('utf-4', 'ignore')\n",
    "    return phrase"
   ],
   "id": "a4f98cb89aca6d5b",
   "outputs": [],
   "execution_count": 103
  },
  {
   "metadata": {
    "ExecuteTime": {
     "end_time": "2025-01-29T13:29:40.378477Z",
     "start_time": "2025-01-29T13:29:40.375700Z"
    }
   },
   "cell_type": "code",
   "source": [
    "def unicode_fixer(phrase):\n",
    "    pass"
   ],
   "id": "dc774d201c703dda",
   "outputs": [],
   "execution_count": 100
  },
  {
   "metadata": {
    "ExecuteTime": {
     "end_time": "2025-01-29T13:29:40.904188Z",
     "start_time": "2025-01-29T13:29:40.857479Z"
    }
   },
   "cell_type": "code",
   "source": [
    "infile = md_path / \"model_metadata.json\"\n",
    "shrink_json_tags(infile)"
   ],
   "id": "902c199c10d986bc",
   "outputs": [
    {
     "name": "stdout",
     "output_type": "stream",
     "text": [
      "Filtered metadata saved as : /Users/guillaume.souede/PycharmProjects/immunogit/metadata/model_metadata_tags.json\n"
     ]
    }
   ],
   "execution_count": 101
  },
  {
   "metadata": {
    "ExecuteTime": {
     "end_time": "2025-01-29T13:27:40.715944Z",
     "start_time": "2025-01-29T13:27:40.705622Z"
    }
   },
   "cell_type": "code",
   "source": "unicode_fixer(\"Heinz Sch\\u00c3\\u00a4ttler\")",
   "id": "a9d32df5585c462e",
   "outputs": [],
   "execution_count": 84
  }
 ],
 "metadata": {
  "kernelspec": {
   "display_name": "Python 3",
   "language": "python",
   "name": "python3"
  },
  "language_info": {
   "codemirror_mode": {
    "name": "ipython",
    "version": 2
   },
   "file_extension": ".py",
   "mimetype": "text/x-python",
   "name": "python",
   "nbconvert_exporter": "python",
   "pygments_lexer": "ipython2",
   "version": "2.7.6"
  }
 },
 "nbformat": 4,
 "nbformat_minor": 5
}
