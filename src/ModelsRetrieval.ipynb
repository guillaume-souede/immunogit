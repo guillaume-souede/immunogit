{
 "cells": [
  {
   "metadata": {},
   "cell_type": "markdown",
   "source": "",
   "id": "da2fb23e1a3e8dfc"
  },
  {
   "metadata": {},
   "cell_type": "code",
   "source": [
    "import os\n",
    "import subprocess\n",
    "import sys\n",
    "from bioservices import BioModels\n",
    "import json\n",
    "import zipfile as z"
   ],
   "id": "c4c27df1fd808bca",
   "outputs": [],
   "execution_count": null
  },
  {
   "cell_type": "code",
   "id": "initial_id",
   "metadata": {
    "collapsed": true,
    "ExecuteTime": {
     "end_time": "2025-01-26T21:36:04.269335Z",
     "start_time": "2025-01-26T21:36:04.254351Z"
    }
   },
   "source": [
    "import os\n",
    "import zipfile as z\n",
    "\n",
    "def download_biomodels(directory: str, ids_agreg: list, num_per_download=100):\n",
    "    if num_per_download > 100:\n",
    "        raise ValueError(\"Maximum number of models that can be downloaded at a time is 100\")\n",
    "\n",
    "    filenames = []\n",
    "    total_models = len(ids_agreg)\n",
    "    start = 0\n",
    "\n",
    "    while start < total_models:\n",
    "        end = min(start + num_per_download, total_models)\n",
    "        chunk_ids = ids_agreg[start:end]\n",
    "\n",
    "        fname = os.path.join(directory, f\"Biomodels{start + 1}-{end}.zip\")\n",
    "        filenames.append(fname)\n",
    "\n",
    "        if os.path.isfile(fname):\n",
    "            os.remove(fname)\n",
    "\n",
    "        s.search_download(chunk_ids, output_filename=fname)\n",
    "        print(f\"Biomodels models from ID {start + 1} to {end} saved to {fname}\")\n",
    "\n",
    "        start = end\n",
    "\n",
    "    with z.ZipFile(filenames[0], 'a') as z1:\n",
    "        for fname in filenames[1:]:\n",
    "            with z.ZipFile(fname, 'r') as zf:\n",
    "                for n in zf.namelist():\n",
    "                    z1.writestr(n, zf.open(n).read())\n",
    "\n",
    "    biomodels_zip = os.path.join(directory, \"biomodels.zip\")\n",
    "    if not os.path.isfile(biomodels_zip):\n",
    "        os.rename(filenames[0], biomodels_zip)\n",
    "\n",
    "    for fname in filenames[1:]:\n",
    "        try:\n",
    "            os.remove(fname)\n",
    "        except Exception:\n",
    "            continue\n",
    "\n",
    "    return filenames\n"
   ],
   "outputs": [],
   "execution_count": 17
  },
  {
   "metadata": {
    "ExecuteTime": {
     "end_time": "2025-01-26T21:40:48.940621Z",
     "start_time": "2025-01-26T21:40:46.603749Z"
    }
   },
   "cell_type": "code",
   "source": [
    "\"\"\"\n",
    "NEEDS TO BE FIXED !!\n",
    "\"\"\"\n",
    "\n",
    "downloads = \"/Users/guillaume.souede/PycharmProjects/immunogit/models/BioModels/SBML\"\n",
    "with open(\"ids_agreg.json\", \"w\") as f:\n",
    "    json.dump(ids_agreg, f)\n",
    "download_biomodels(directory, ids_agreg)\n",
    "\n",
    "os.makedirs(downloads, exist_ok=True)\n",
    "\n",
    "ACTIVATE_DOWNLOAD = True\n",
    "if ACTIVATE_DOWNLOAD:\n",
    "    download_biomodels(download_directory, ids_agreg)"
   ],
   "id": "baf8a72588aad4a2",
   "outputs": [
    {
     "name": "stderr",
     "output_type": "stream",
     "text": [
      "\u001B[32mINFO    [bioservices.BioModels:240]: \u001B[0m \u001B[32m/Users/guillaume.souede/PycharmProjects/immunogit/src/models/Biomodels/SBML/Biomodels1-68.zip\u001B[0m\n"
     ]
    },
    {
     "ename": "FileNotFoundError",
     "evalue": "[Errno 2] No such file or directory: '/Users/guillaume.souede/PycharmProjects/immunogit/src/models/Biomodels/SBML/Biomodels1-68.zip'",
     "output_type": "error",
     "traceback": [
      "\u001B[0;31m---------------------------------------------------------------------------\u001B[0m",
      "\u001B[0;31mFileNotFoundError\u001B[0m                         Traceback (most recent call last)",
      "Cell \u001B[0;32mIn[25], line 4\u001B[0m\n\u001B[1;32m      2\u001B[0m \u001B[38;5;28;01mwith\u001B[39;00m \u001B[38;5;28mopen\u001B[39m(\u001B[38;5;124m\"\u001B[39m\u001B[38;5;124mids_agreg.json\u001B[39m\u001B[38;5;124m\"\u001B[39m, \u001B[38;5;124m\"\u001B[39m\u001B[38;5;124mw\u001B[39m\u001B[38;5;124m\"\u001B[39m) \u001B[38;5;28;01mas\u001B[39;00m f:\n\u001B[1;32m      3\u001B[0m     json\u001B[38;5;241m.\u001B[39mdump(ids_agreg, f)\n\u001B[0;32m----> 4\u001B[0m \u001B[43mdownload_biomodels\u001B[49m\u001B[43m(\u001B[49m\u001B[43mdirectory\u001B[49m\u001B[43m,\u001B[49m\u001B[43m \u001B[49m\u001B[43mids_agreg\u001B[49m\u001B[43m)\u001B[49m\n\u001B[1;32m      6\u001B[0m os\u001B[38;5;241m.\u001B[39mmakedirs(downloads, exist_ok\u001B[38;5;241m=\u001B[39m\u001B[38;5;28;01mTrue\u001B[39;00m)\n\u001B[1;32m      8\u001B[0m ACTIVATE_DOWNLOAD \u001B[38;5;241m=\u001B[39m \u001B[38;5;28;01mTrue\u001B[39;00m\n",
      "Cell \u001B[0;32mIn[17], line 22\u001B[0m, in \u001B[0;36mdownload_biomodels\u001B[0;34m(directory, ids_agreg, num_per_download)\u001B[0m\n\u001B[1;32m     19\u001B[0m \u001B[38;5;28;01mif\u001B[39;00m os\u001B[38;5;241m.\u001B[39mpath\u001B[38;5;241m.\u001B[39misfile(fname):\n\u001B[1;32m     20\u001B[0m     os\u001B[38;5;241m.\u001B[39mremove(fname)\n\u001B[0;32m---> 22\u001B[0m \u001B[43ms\u001B[49m\u001B[38;5;241;43m.\u001B[39;49m\u001B[43msearch_download\u001B[49m\u001B[43m(\u001B[49m\u001B[43mchunk_ids\u001B[49m\u001B[43m,\u001B[49m\u001B[43m \u001B[49m\u001B[43moutput_filename\u001B[49m\u001B[38;5;241;43m=\u001B[39;49m\u001B[43mfname\u001B[49m\u001B[43m)\u001B[49m\n\u001B[1;32m     23\u001B[0m \u001B[38;5;28mprint\u001B[39m(\u001B[38;5;124mf\u001B[39m\u001B[38;5;124m\"\u001B[39m\u001B[38;5;124mBiomodels models from ID \u001B[39m\u001B[38;5;132;01m{\u001B[39;00mstart\u001B[38;5;250m \u001B[39m\u001B[38;5;241m+\u001B[39m\u001B[38;5;250m \u001B[39m\u001B[38;5;241m1\u001B[39m\u001B[38;5;132;01m}\u001B[39;00m\u001B[38;5;124m to \u001B[39m\u001B[38;5;132;01m{\u001B[39;00mend\u001B[38;5;132;01m}\u001B[39;00m\u001B[38;5;124m saved to \u001B[39m\u001B[38;5;132;01m{\u001B[39;00mfname\u001B[38;5;132;01m}\u001B[39;00m\u001B[38;5;124m\"\u001B[39m)\n\u001B[1;32m     25\u001B[0m start \u001B[38;5;241m=\u001B[39m end\n",
      "File \u001B[0;32m/Library/Frameworks/Python.framework/Versions/3.12/lib/python3.12/site-packages/bioservices/biomodels.py:246\u001B[0m, in \u001B[0;36mBioModels.search_download\u001B[0;34m(self, models, output_filename, force)\u001B[0m\n\u001B[1;32m    241\u001B[0m \u001B[38;5;28;01mif\u001B[39;00m os\u001B[38;5;241m.\u001B[39mpath\u001B[38;5;241m.\u001B[39mexists(output_filename) \u001B[38;5;129;01mand\u001B[39;00m force \u001B[38;5;129;01mis\u001B[39;00m \u001B[38;5;28;01mFalse\u001B[39;00m:\n\u001B[1;32m    242\u001B[0m     \u001B[38;5;28;01mraise\u001B[39;00m \u001B[38;5;167;01mIOError\u001B[39;00m(\n\u001B[1;32m    243\u001B[0m         \u001B[38;5;124m\"\u001B[39m\u001B[38;5;132;01m{}\u001B[39;00m\u001B[38;5;124m exists already. Set force to True or change the output_filename argument\u001B[39m\u001B[38;5;124m\"\u001B[39m\u001B[38;5;241m.\u001B[39mformat(output_filename)\n\u001B[1;32m    244\u001B[0m     )\n\u001B[0;32m--> 246\u001B[0m \u001B[38;5;28;01mwith\u001B[39;00m \u001B[38;5;28;43mopen\u001B[39;49m\u001B[43m(\u001B[49m\u001B[43moutput_filename\u001B[49m\u001B[43m,\u001B[49m\u001B[43m \u001B[49m\u001B[38;5;124;43m\"\u001B[39;49m\u001B[38;5;124;43mwb\u001B[39;49m\u001B[38;5;124;43m\"\u001B[39;49m\u001B[43m)\u001B[49m \u001B[38;5;28;01mas\u001B[39;00m fout:\n\u001B[1;32m    247\u001B[0m     fout\u001B[38;5;241m.\u001B[39mwrite(res\u001B[38;5;241m.\u001B[39mcontent)\n",
      "\u001B[0;31mFileNotFoundError\u001B[0m: [Errno 2] No such file or directory: '/Users/guillaume.souede/PycharmProjects/immunogit/src/models/Biomodels/SBML/Biomodels1-68.zip'"
     ]
    }
   ],
   "execution_count": 25
  }
 ],
 "metadata": {
  "kernelspec": {
   "display_name": "Python 3",
   "language": "python",
   "name": "python3"
  },
  "language_info": {
   "codemirror_mode": {
    "name": "ipython",
    "version": 2
   },
   "file_extension": ".py",
   "mimetype": "text/x-python",
   "name": "python",
   "nbconvert_exporter": "python",
   "pygments_lexer": "ipython2",
   "version": "2.7.6"
  }
 },
 "nbformat": 4,
 "nbformat_minor": 5
}
