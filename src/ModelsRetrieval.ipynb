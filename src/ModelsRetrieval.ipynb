{
 "cells": [
  {
   "metadata": {},
   "cell_type": "markdown",
   "source": [
    "Retrieve models from BioModels.\n",
    "Adapted from"
   ],
   "id": "da2fb23e1a3e8dfc"
  },
  {
   "cell_type": "code",
   "id": "initial_id",
   "metadata": {
    "collapsed": true,
    "ExecuteTime": {
     "end_time": "2025-01-20T15:23:49.188062Z",
     "start_time": "2025-01-20T15:23:39.847627Z"
    }
   },
   "source": [
    "import os\n",
    "import subprocess\n",
    "import sys\n",
    "import zipfile as z\n",
    "import requests\n",
    "\n",
    "try:\n",
    "    from bioservices import BioModels\n",
    "except ImportError:\n",
    "    subprocess.check_call([sys.executable, \"-m\", \"pip\", \"install\", \"bioservices\"])\n",
    "    from bioservices import BioModels\n",
    "\n",
    "# Set custom directory for storing the models (outside of current directory)\n",
    "modelsDir = '../models'  # Change this path as needed\n",
    "\n",
    "# Create models directory if it doesn't exist\n",
    "if not os.path.exists(modelsDir):\n",
    "    os.makedirs(modelsDir)\n",
    "\n",
    "s = BioModels()\n",
    "\n",
    "def get_filtered_models() -> list:\n",
    "    query_parts_dc = {\n",
    "        'mode': '*:*',\n",
    "        'species': 'TAXONOMY:9606',\n",
    "        'curation_status': 'curationstatus:\"Manually curated\"',\n",
    "        'formats': 'modelformat:\"SBML\"',\n",
    "        'kw': 'submitter_keywords:\"Immuno-oncology\"'\n",
    "    }\n",
    "\n",
    "    query_parts = [value for value in query_parts_dc.values() if value]\n",
    "    query = \" AND \".join(query_parts)\n",
    "\n",
    "    print(f\"Generated query: {query}\")\n",
    "\n",
    "    try:\n",
    "        # Perform the search with the generated query\n",
    "        search_results = s.search(query)\n",
    "\n",
    "        if not search_results or 'models' not in search_results or not search_results['models']:\n",
    "            print(\"No models found.\")\n",
    "            return []\n",
    "\n",
    "        models_and_metadata = []\n",
    "        for model in search_results['models']:\n",
    "            model_id = model['id']\n",
    "            metadata = {\n",
    "                'name': model['name'],\n",
    "                'organism': model.get('organism', ''),\n",
    "                'curation_status': model.get('curationstatus', ''),\n",
    "                'go_terms': model.get('go', [])\n",
    "            }\n",
    "            models_and_metadata.append({'model_id': model_id, 'metadata': metadata})\n",
    "\n",
    "        return models_and_metadata\n",
    "\n",
    "    except Exception as e:\n",
    "        print(f\"Error during search: {e}\")\n",
    "        return []\n",
    "\n",
    "def download_biomodels(directory: str, num_per_download=100):\n",
    "    \"\"\"downloads sbml models from the curated section of biomodels\n",
    "\n",
    "    Biomodels has a strict limit of 100 models per download so in this\n",
    "    function we have to dance around this fact and compute appropriate\n",
    "    chunk sizes.\n",
    "\n",
    "    :param directory: (str) where to put zip files containing num_per_download sbml models\n",
    "    :param num_per_download: How many sbml models to download at a time.\n",
    "    :return:\n",
    "    \"\"\"\n",
    "    if num_per_download > 100:\n",
    "        raise ValueError(\"Maximum number of models that can be downloaded at a time is 100\")\n",
    "\n",
    "    # do index math.\n",
    "    total_models = get_number_of_curated_models()\n",
    "    num_downloads = int(total_models / num_per_download)\n",
    "    remainder = total_models % num_per_download\n",
    "    if remainder > 0:\n",
    "        num_downloads += 1\n",
    "\n",
    "    filenames = []\n",
    "\n",
    "    start = 1\n",
    "    for download_number in range(1, num_downloads + 1):\n",
    "        if download_number == num_downloads:\n",
    "            # handle last, which may have remainder\n",
    "            end = total_models + 1  # account for 0 indexed python, 1 indexed biomodels\n",
    "        else:\n",
    "            end = (download_number * num_per_download) + 1  # account for 0 indexed python, 1 indexed biomodels\n",
    "        # do something ...\n",
    "\n",
    "        fname = os.path.join(directory, f\"Biomodels{start}-{end - 1}.zip\")\n",
    "        filenames.append(fname)\n",
    "\n",
    "        if os.path.isfile(fname):\n",
    "            os.remove(fname)\n",
    "\n",
    "        biomodels_ids = [f\"BIOMD{i:010}\" for i in range(start, end)]\n",
    "\n",
    "        s.search_download(biomodels_ids, output_filename=fname)\n",
    "        print(f\"Biomodels models from id {start} to {end - 1} saved to {fname}\")\n",
    "\n",
    "        start = end\n",
    "\n",
    "    # consolidate zips\n",
    "    with z.ZipFile(filenames[0], 'a') as z1:\n",
    "        for fname in filenames[1:]:\n",
    "            zf = z.ZipFile(fname, 'r')\n",
    "            for n in zf.namelist():\n",
    "                z1.writestr(n, zf.open(n).read())\n",
    "\n",
    "    # rename first zip\n",
    "    biomodels_zip = os.path.join(directory, \"biomodels.zip\")\n",
    "    if not os.path.isfile(biomodels_zip):\n",
    "        os.rename(filenames[0], biomodels_zip)\n",
    "\n",
    "    # try to get rid of the rest. Windows likes to hang on to them though so might fail\n",
    "    for i in range(1, len(filenames)):\n",
    "        try:\n",
    "            os.remove(filenames[i])\n",
    "        except Exception:\n",
    "            continue\n",
    "\n",
    "    return filenames\n",
    "\n",
    "if __name__ == \"__main__\":\n",
    "    # Set to True to actually perform the download\n",
    "    ACTIVATE_DOWNLOAD = True\n",
    "\n",
    "    if ACTIVATE_DOWNLOAD:\n",
    "        models_and_metadata = get_filtered_models()\n",
    "        if models_and_metadata:\n",
    "            final_zip = download_biomodels(modelsDir, models_and_metadata)\n",
    "            print(f\"All models saved in {final_zip}\")\n"
   ],
   "outputs": [
    {
     "name": "stderr",
     "output_type": "stream",
     "text": [
      "\u001B[33mWARNING [bioservices.BioModels:130]: \u001B[0m \u001B[32mThe URL (https://www.ebi.ac.uk/biomodels) provided cannot be reached.\u001B[0m\n",
      "\u001B[32mINFO    [bioservices.BioModels:363]: \u001B[0m \u001B[32mInitialising BioModels service (REST)\u001B[0m\n"
     ]
    },
    {
     "name": "stdout",
     "output_type": "stream",
     "text": [
      "Generated query: *:* AND TAXONOMY:9606 AND curationstatus:\"Manually curated\" AND modelformat:\"SBML\" AND submitter_keywords:\"Immuno-oncology\"\n"
     ]
    },
    {
     "name": "stderr",
     "output_type": "stream",
     "text": [
      "\u001B[32mINFO    [bioservices.BioModels:171]: \u001B[0m \u001B[32mSaving file BIOMD0000000919.zip\u001B[0m\n"
     ]
    },
    {
     "name": "stdout",
     "output_type": "stream",
     "text": [
      "Error on model BIOMD0000000919: 'NoneType' object has no attribute 'encode'\n"
     ]
    },
    {
     "name": "stderr",
     "output_type": "stream",
     "text": [
      "\u001B[32mINFO    [bioservices.BioModels:171]: \u001B[0m \u001B[32mSaving file BIOMD0000000921.zip\u001B[0m\n"
     ]
    },
    {
     "name": "stdout",
     "output_type": "stream",
     "text": [
      "Error on model BIOMD0000000921: 'NoneType' object has no attribute 'encode'\n"
     ]
    },
    {
     "name": "stderr",
     "output_type": "stream",
     "text": [
      "\u001B[32mINFO    [bioservices.BioModels:171]: \u001B[0m \u001B[32mSaving file BIOMD0000001011.zip\u001B[0m\n"
     ]
    },
    {
     "name": "stdout",
     "output_type": "stream",
     "text": [
      "Error on model BIOMD0000001011: 'NoneType' object has no attribute 'encode'\n"
     ]
    },
    {
     "name": "stderr",
     "output_type": "stream",
     "text": [
      "\u001B[32mINFO    [bioservices.BioModels:171]: \u001B[0m \u001B[32mSaving file BIOMD0000001012.zip\u001B[0m\n"
     ]
    },
    {
     "name": "stdout",
     "output_type": "stream",
     "text": [
      "Error on model BIOMD0000001012: 'NoneType' object has no attribute 'encode'\n"
     ]
    },
    {
     "name": "stderr",
     "output_type": "stream",
     "text": [
      "\u001B[32mINFO    [bioservices.BioModels:171]: \u001B[0m \u001B[32mSaving file BIOMD0000001013.zip\u001B[0m\n"
     ]
    },
    {
     "name": "stdout",
     "output_type": "stream",
     "text": [
      "Error on model BIOMD0000001013: 'NoneType' object has no attribute 'encode'\n"
     ]
    },
    {
     "name": "stderr",
     "output_type": "stream",
     "text": [
      "\u001B[32mINFO    [bioservices.BioModels:171]: \u001B[0m \u001B[32mSaving file BIOMD0000001014.zip\u001B[0m\n"
     ]
    },
    {
     "name": "stdout",
     "output_type": "stream",
     "text": [
      "Error on model BIOMD0000001014: 'NoneType' object has no attribute 'encode'\n"
     ]
    },
    {
     "name": "stderr",
     "output_type": "stream",
     "text": [
      "\u001B[32mINFO    [bioservices.BioModels:171]: \u001B[0m \u001B[32mSaving file BIOMD0000001022.zip\u001B[0m\n"
     ]
    },
    {
     "name": "stdout",
     "output_type": "stream",
     "text": [
      "Error on model BIOMD0000001022: 'NoneType' object has no attribute 'encode'\n"
     ]
    },
    {
     "name": "stderr",
     "output_type": "stream",
     "text": [
      "\u001B[32mINFO    [bioservices.BioModels:171]: \u001B[0m \u001B[32mSaving file BIOMD0000001023.zip\u001B[0m\n"
     ]
    },
    {
     "name": "stdout",
     "output_type": "stream",
     "text": [
      "Error on model BIOMD0000001023: 'NoneType' object has no attribute 'encode'\n"
     ]
    },
    {
     "name": "stderr",
     "output_type": "stream",
     "text": [
      "\u001B[32mINFO    [bioservices.BioModels:171]: \u001B[0m \u001B[32mSaving file BIOMD0000001024.zip\u001B[0m\n"
     ]
    },
    {
     "name": "stdout",
     "output_type": "stream",
     "text": [
      "Error on model BIOMD0000001024: 'NoneType' object has no attribute 'encode'\n"
     ]
    },
    {
     "name": "stderr",
     "output_type": "stream",
     "text": [
      "\u001B[32mINFO    [bioservices.BioModels:171]: \u001B[0m \u001B[32mSaving file BIOMD0000001025.zip\u001B[0m\n"
     ]
    },
    {
     "name": "stdout",
     "output_type": "stream",
     "text": [
      "Error on model BIOMD0000001025: 'NoneType' object has no attribute 'encode'\n",
      "All models saved in ../models/biomodels.zip\n"
     ]
    }
   ],
   "execution_count": 37
  },
  {
   "metadata": {},
   "cell_type": "code",
   "outputs": [],
   "execution_count": null,
   "source": "",
   "id": "e28185b35cef30a6"
  }
 ],
 "metadata": {
  "kernelspec": {
   "display_name": "Python 3",
   "language": "python",
   "name": "python3"
  },
  "language_info": {
   "codemirror_mode": {
    "name": "ipython",
    "version": 2
   },
   "file_extension": ".py",
   "mimetype": "text/x-python",
   "name": "python",
   "nbconvert_exporter": "python",
   "pygments_lexer": "ipython2",
   "version": "2.7.6"
  }
 },
 "nbformat": 4,
 "nbformat_minor": 5
}
