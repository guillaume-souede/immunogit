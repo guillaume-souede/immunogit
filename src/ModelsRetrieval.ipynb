{
 "cells": [
  {
   "metadata": {},
   "cell_type": "markdown",
   "source": "",
   "id": "da2fb23e1a3e8dfc"
  },
  {
   "metadata": {
    "ExecuteTime": {
     "end_time": "2025-01-28T09:59:26.107811Z",
     "start_time": "2025-01-28T09:59:25.971270Z"
    }
   },
   "cell_type": "code",
   "source": [
    "import os\n",
    "import subprocess\n",
    "import sys\n",
    "\n",
    "try:\n",
    "    from bioservices import BioModels\n",
    "except ImportError:\n",
    "    subprocess.check_call([sys.executable, \"-m\", \"pip\", \"install\", \"bioservices\"])\n",
    "    from bioservices import BioModels\n",
    "\n",
    "import json\n",
    "import zipfile as z\n",
    "s = BioModels()\n"
   ],
   "id": "c4c27df1fd808bca",
   "outputs": [
    {
     "name": "stderr",
     "output_type": "stream",
     "text": [
      "\u001B[33mWARNING [bioservices.BioModels:130]: \u001B[0m \u001B[32mThe URL (https://www.ebi.ac.uk/biomodels) provided cannot be reached.\u001B[0m\n",
      "\u001B[32mINFO    [bioservices.BioModels:363]: \u001B[0m \u001B[32mInitialising BioModels service (REST)\u001B[0m\n"
     ]
    }
   ],
   "execution_count": 14
  },
  {
   "cell_type": "code",
   "id": "initial_id",
   "metadata": {
    "collapsed": true,
    "ExecuteTime": {
     "end_time": "2025-01-28T09:59:19.046517Z",
     "start_time": "2025-01-28T09:59:19.035110Z"
    }
   },
   "source": [
    "def download_biomodels(directory: str, ids_agreg: list, num_per_download=100):\n",
    "    if num_per_download > 100:\n",
    "        raise ValueError(\"Maximum number of models that can be downloaded at a time is 100\")\n",
    "\n",
    "    if not os.path.exists(directory):\n",
    "        os.makedirs(directory)\n",
    "\n",
    "    filenames = []\n",
    "    total_models = len(ids_agreg)\n",
    "    start = 0\n",
    "\n",
    "    while start < total_models:\n",
    "        end = min(start + num_per_download, total_models)\n",
    "        fname = os.path.join(directory, f\"Biomodels_{start + 1}_{end}.zip\")\n",
    "        filenames.append(fname)\n",
    "\n",
    "        if os.path.isfile(fname):\n",
    "            os.remove(fname)\n",
    "\n",
    "        s.search_download(ids_agreg[start:end], output_filename=fname)\n",
    "        print(f\"Downloaded models from ID {start + 1} to {end} into {fname}\")\n",
    "\n",
    "        start = end\n",
    "\n",
    "    with z.ZipFile(filenames[0], 'a') as z1:\n",
    "        for fname in filenames[1:]:\n",
    "            with z.ZipFile(fname, 'r') as zf:\n",
    "                for n in zf.namelist():\n",
    "                    z1.writestr(n, zf.open(n).read())\n",
    "\n",
    "    biomodels_zip = os.path.join(directory, \"biomodels.zip\")\n",
    "    if not os.path.isfile(biomodels_zip):\n",
    "        os.rename(filenames[0], biomodels_zip)\n",
    "\n",
    "    for fname in filenames[1:]:\n",
    "        try:\n",
    "            os.remove(fname)\n",
    "        except Exception:\n",
    "            continue\n",
    "\n",
    "    return biomodels_zip\n"
   ],
   "outputs": [],
   "execution_count": 11
  },
  {
   "metadata": {
    "ExecuteTime": {
     "end_time": "2025-01-28T09:59:47.818675Z",
     "start_time": "2025-01-28T09:59:45.207496Z"
    }
   },
   "cell_type": "code",
   "source": [
    "\"\"\"\n",
    "NEEDS TO BE FIXED !!\n",
    "\"\"\"\n",
    "directory = \"/Users/guillaume.souede/PycharmProjects/immunogit/models/BioModels/SBML\"\n",
    "ids_file = \"/Users/guillaume.souede/PycharmProjects/immunogit/src/ids_agreg.json\"\n",
    "with open(ids_file, \"r\") as f:\n",
    "    ids_agreg = json.load(f)\n",
    "download_biomodels(directory, ids_agreg)\n",
    "\n",
    "ACTIVATE_DOWNLOAD = True\n",
    "if ACTIVATE_DOWNLOAD:\n",
    "    download_biomodels(directory, ids_agreg)"
   ],
   "id": "baf8a72588aad4a2",
   "outputs": [
    {
     "name": "stderr",
     "output_type": "stream",
     "text": [
      "\u001B[32mINFO    [bioservices.BioModels:240]: \u001B[0m \u001B[32m/Users/guillaume.souede/PycharmProjects/immunogit/models/BioModels/SBML/Biomodels_1_68.zip\u001B[0m\n"
     ]
    },
    {
     "name": "stdout",
     "output_type": "stream",
     "text": [
      "Downloaded models from ID 1 to 68 into /Users/guillaume.souede/PycharmProjects/immunogit/models/BioModels/SBML/Biomodels_1_68.zip\n"
     ]
    },
    {
     "name": "stderr",
     "output_type": "stream",
     "text": [
      "\u001B[32mINFO    [bioservices.BioModels:240]: \u001B[0m \u001B[32m/Users/guillaume.souede/PycharmProjects/immunogit/models/BioModels/SBML/Biomodels_1_68.zip\u001B[0m\n"
     ]
    },
    {
     "name": "stdout",
     "output_type": "stream",
     "text": [
      "Downloaded models from ID 1 to 68 into /Users/guillaume.souede/PycharmProjects/immunogit/models/BioModels/SBML/Biomodels_1_68.zip\n"
     ]
    }
   ],
   "execution_count": 16
  },
  {
   "metadata": {},
   "cell_type": "code",
   "outputs": [],
   "execution_count": null,
   "source": "",
   "id": "2b6babd2eaf56ebe"
  }
 ],
 "metadata": {
  "kernelspec": {
   "display_name": "Python 3",
   "language": "python",
   "name": "python3"
  },
  "language_info": {
   "codemirror_mode": {
    "name": "ipython",
    "version": 2
   },
   "file_extension": ".py",
   "mimetype": "text/x-python",
   "name": "python",
   "nbconvert_exporter": "python",
   "pygments_lexer": "ipython2",
   "version": "2.7.6"
  }
 },
 "nbformat": 4,
 "nbformat_minor": 5
}
