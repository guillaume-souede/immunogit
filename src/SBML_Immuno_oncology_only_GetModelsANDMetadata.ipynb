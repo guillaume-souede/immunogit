{
  "cells": [
    {
      "cell_type": "code",
      "execution_count": 4,
      "id": "cef4d214",
      "metadata": {
        "colab": {
          "base_uri": "https://localhost:8080/"
        },
        "id": "cef4d214",
        "outputId": "e913ec9f-29c2-4c6e-8be7-e681c6ef41dc"
      },
      "outputs": [
        {
          "output_type": "stream",
          "name": "stdout",
          "text": [
            "Creating directory /root/.config/bioservices \n"
          ]
        }
      ],
      "source": [
        "import os\n",
        "import zipfile\n",
        "import requests\n",
        "import json\n",
        "from bioservices import BioModels"
      ]
    },
    {
      "cell_type": "code",
      "execution_count": 5,
      "id": "34d1c83a",
      "metadata": {
        "lines_to_next_cell": 1,
        "colab": {
          "base_uri": "https://localhost:8080/"
        },
        "id": "34d1c83a",
        "outputId": "8aa849c1-8481-41aa-cf2c-79a9ca6c1bee"
      },
      "outputs": [
        {
          "output_type": "stream",
          "name": "stderr",
          "text": [
            "\u001b[32mINFO    [bioservices.BioModels:363]: \u001b[0m \u001b[32mInitialising BioModels service (REST)\u001b[0m\n",
            "INFO:bioservices.BioModels:Initialising BioModels service (REST)\n"
          ]
        },
        {
          "output_type": "stream",
          "name": "stdout",
          "text": [
            "Creating directory /root/.cache/bioservices \n",
            "Welcome to Bioservices\n",
            "======================\n",
            "It looks like you do not have a configuration file.\n",
            "We are creating one with default values in /root/.config/bioservices/bioservices.cfg .\n",
            "Done\n"
          ]
        }
      ],
      "source": [
        "s = BioModels()"
      ]
    },
    {
      "cell_type": "code",
      "execution_count": 6,
      "id": "b61d3da6",
      "metadata": {
        "lines_to_next_cell": 1,
        "id": "b61d3da6"
      },
      "outputs": [],
      "source": [
        "def get_all_models(query, page_size=10):\n",
        "    \"\"\"\n",
        "    Fonction pour récupérer tous les modèles correspondant à la requête avec pagination.\n",
        "    \"\"\"\n",
        "    models = []\n",
        "    offset = 0\n",
        "\n",
        "    while True:\n",
        "        try:\n",
        "            search_results = s.search(query, offset=offset)\n",
        "\n",
        "            if 'models' not in search_results or not search_results['models']:\n",
        "                break\n",
        "\n",
        "            models.extend(search_results['models'])\n",
        "            offset += page_size\n",
        "            print(f\"Page {offset // page_size} téléchargée, {len(search_results['models'])} modèles récupérés.\")\n",
        "\n",
        "        except Exception as e:\n",
        "            print(f\"Erreur lors de la récupération des modèles : {e}\")\n",
        "            break\n",
        "\n",
        "    return models"
      ]
    },
    {
      "cell_type": "code",
      "execution_count": 25,
      "id": "b991edce",
      "metadata": {
        "lines_to_next_cell": 1,
        "id": "b991edce"
      },
      "outputs": [],
      "source": [
        "def download_model_file(model_id, directory):\n",
        "    \"\"\"\n",
        "    Télécharge le fichier ZIP du modèle BioModels, extrait uniquement le premier fichier .xml,\n",
        "    et supprime le ZIP ensuite.\n",
        "    \"\"\"\n",
        "    try:\n",
        "        # Créer le chemin du ZIP\n",
        "        zip_filename = f\"{model_id}.zip\"\n",
        "        zip_path = os.path.join(directory, zip_filename)\n",
        "\n",
        "        # Télécharger le ZIP\n",
        "        s.get_model_download(model_id, output_filename=zip_path)\n",
        "\n",
        "        # Extraire uniquement le premier fichier .xml trouvé\n",
        "        with zipfile.ZipFile(zip_path, 'r') as zip_ref:\n",
        "            xml_files = [f for f in zip_ref.namelist() if f.endswith('.xml') and not f.lower().endswith('_urn.xml') and not f.lower().endswith('manifest.xml')]\n",
        "            if not xml_files:\n",
        "                print(f\"Aucun fichier XML trouvé dans le ZIP pour {model_id}\")\n",
        "                return None\n",
        "\n",
        "            xml_filename = xml_files[0]  # Prendre le premier fichier .xml\n",
        "            zip_ref.extract(xml_filename, directory)\n",
        "\n",
        "            extracted_path = os.path.join(directory, os.path.basename(xml_filename))\n",
        "            print(f\"Fichier SBML extrait : {extracted_path}\")\n",
        "\n",
        "        # Supprimer le fichier ZIP\n",
        "        os.remove(zip_path)\n",
        "\n",
        "        return extracted_path\n",
        "\n",
        "    except Exception as e:\n",
        "        print(f\"Erreur lors du téléchargement du modèle {model_id}: {e}\")\n",
        "        return None"
      ]
    },
    {
      "cell_type": "code",
      "execution_count": 26,
      "id": "d97be188",
      "metadata": {
        "lines_to_next_cell": 1,
        "id": "d97be188"
      },
      "outputs": [],
      "source": [
        "def download_model_with_metadata(model_data, base_directory):\n",
        "    \"\"\"\n",
        "    Télécharge le modèle et ses métadonnées, puis les enregistre dans un fichier zip.\n",
        "    \"\"\"\n",
        "    try:\n",
        "        model_id = model_data['id']\n",
        "        #sbml_url = f\"https://www.ebi.ac.uk/biomodels/download?mid={model_id}&format=sbml\"\n",
        "        title = model_data.get('name', \"\").lower()\n",
        "        keywords = model_data.get('submitter_keywords', \"\").lower()\n",
        "\n",
        "        #if not sbml_url:\n",
        "        #    print(f\"Aucune URL trouvée pour le modèle {model_id}.\")\n",
        "        #    return\n",
        "\n",
        "        # Déterminer le dossier de destination\n",
        "\n",
        "        directory = os.path.join(base_directory, \"Immuno_oncology\")\n",
        "        # Créer le dossier s'il n'existe pas\n",
        "        os.makedirs(directory, exist_ok=True)\n",
        "\n",
        "        # Télécharger le fichier SBML\n",
        "        model_path = download_model_file(model_id, directory)\n",
        "        if model_path is None:\n",
        "            return\n",
        "\n",
        "        # Récupérer les métadonnées complètes\n",
        "        try:\n",
        "            full_metadata = s.get_model(model_id)\n",
        "        except Exception as e:\n",
        "            print(f\"Erreur lors de la récupération des métadonnées complètes pour {model_id}: {e}\")\n",
        "            return\n",
        "\n",
        "        # Sauvegarder les métadonnées en JSON\n",
        "        metadata_filename = f\"{model_id}_metadata.json\"\n",
        "        metadata_path = os.path.join(directory, metadata_filename)\n",
        "        with open(metadata_path, 'w', encoding='utf-8') as f:\n",
        "            json.dump(full_metadata, f, ensure_ascii=False, indent=4)\n",
        "\n",
        "        # Créer un fichier zip contenant le modèle et ses métadonnées\n",
        "        zip_filename = os.path.join(directory, f\"{model_id}.zip\")\n",
        "        with zipfile.ZipFile(zip_filename, 'w') as zipf:\n",
        "            zipf.write(model_path, os.path.basename(model_path))\n",
        "            zipf.write(metadata_path, os.path.basename(metadata_path))\n",
        "\n",
        "        # Supprimer les fichiers temporaires après zippage\n",
        "        os.remove(model_path)\n",
        "        os.remove(metadata_path)\n",
        "\n",
        "        print(f\"Modèle {model_id} et ses métadonnées enregistrés dans {zip_filename}\")\n",
        "\n",
        "    except Exception as e:\n",
        "        print(f\"Erreur lors du traitement du modèle {model_data['id']} : {e}\")"
      ]
    },
    {
      "cell_type": "code",
      "execution_count": 27,
      "id": "7ade3ee5",
      "metadata": {
        "lines_to_next_cell": 1,
        "id": "7ade3ee5"
      },
      "outputs": [],
      "source": [
        "def main():\n",
        "    # Requête mise à jour\n",
        "    query = (\n",
        "        'immun* AND curationstatus:\"Manually curated\" AND modelformat:\"SBML\" AND TAXONOMY:9606 AND submitter_keywords:\"Immuno-oncology\"'\n",
        "    )\n",
        "\n",
        "    # Répertoire principal\n",
        "    base_directory = \"downloaded_models_SBML_Immuno_oncology\"\n",
        "    os.makedirs(base_directory, exist_ok=True)\n",
        "\n",
        "    # Obtenir tous les modèles\n",
        "    models = get_all_models(query)\n",
        "\n",
        "    # Télécharger chaque modèle et les classer\n",
        "    for model_data in models:\n",
        "        download_model_with_metadata(model_data, base_directory)"
      ]
    },
    {
      "cell_type": "code",
      "execution_count": 28,
      "id": "ecfe2658",
      "metadata": {
        "colab": {
          "base_uri": "https://localhost:8080/"
        },
        "id": "ecfe2658",
        "outputId": "33dc02f6-6721-4d12-8c1a-4d3731d5ac0b"
      },
      "outputs": [
        {
          "output_type": "stream",
          "name": "stdout",
          "text": [
            "Page 1 téléchargée, 10 modèles récupérés.\n",
            "Page 2 téléchargée, 10 modèles récupérés.\n",
            "Page 3 téléchargée, 10 modèles récupérés.\n",
            "Page 4 téléchargée, 10 modèles récupérés.\n",
            "Page 5 téléchargée, 10 modèles récupérés.\n",
            "Page 6 téléchargée, 10 modèles récupérés.\n",
            "Page 7 téléchargée, 8 modèles récupérés.\n"
          ]
        },
        {
          "output_type": "stream",
          "name": "stderr",
          "text": [
            "\u001b[32mINFO    [bioservices.BioModels:171]: \u001b[0m \u001b[32mSaving file BIOMD0000000919.zip\u001b[0m\n",
            "INFO:bioservices.BioModels:Saving file BIOMD0000000919.zip\n"
          ]
        },
        {
          "output_type": "stream",
          "name": "stdout",
          "text": [
            "Fichier SBML extrait : downloaded_models_SBML_Immuno_oncology/Immuno_oncology/Ledzewicz2013.xml\n",
            "Modèle BIOMD0000000919 et ses métadonnées enregistrés dans downloaded_models_SBML_Immuno_oncology/Immuno_oncology/BIOMD0000000919.zip\n"
          ]
        },
        {
          "output_type": "stream",
          "name": "stderr",
          "text": [
            "\u001b[32mINFO    [bioservices.BioModels:171]: \u001b[0m \u001b[32mSaving file BIOMD0000000921.zip\u001b[0m\n",
            "INFO:bioservices.BioModels:Saving file BIOMD0000000921.zip\n"
          ]
        },
        {
          "output_type": "stream",
          "name": "stdout",
          "text": [
            "Fichier SBML extrait : downloaded_models_SBML_Immuno_oncology/Immuno_oncology/khajanchi2017.xml\n",
            "Modèle BIOMD0000000921 et ses métadonnées enregistrés dans downloaded_models_SBML_Immuno_oncology/Immuno_oncology/BIOMD0000000921.zip\n"
          ]
        },
        {
          "output_type": "stream",
          "name": "stderr",
          "text": [
            "\u001b[32mINFO    [bioservices.BioModels:171]: \u001b[0m \u001b[32mSaving file BIOMD0000001022.zip\u001b[0m\n",
            "INFO:bioservices.BioModels:Saving file BIOMD0000001022.zip\n"
          ]
        },
        {
          "output_type": "stream",
          "name": "stdout",
          "text": [
            "Fichier SBML extrait : downloaded_models_SBML_Immuno_oncology/Immuno_oncology/Creemers2021.xml\n",
            "Modèle BIOMD0000001022 et ses métadonnées enregistrés dans downloaded_models_SBML_Immuno_oncology/Immuno_oncology/BIOMD0000001022.zip\n"
          ]
        },
        {
          "output_type": "stream",
          "name": "stderr",
          "text": [
            "\u001b[32mINFO    [bioservices.BioModels:171]: \u001b[0m \u001b[32mSaving file BIOMD0000001023.zip\u001b[0m\n",
            "INFO:bioservices.BioModels:Saving file BIOMD0000001023.zip\n"
          ]
        },
        {
          "output_type": "stream",
          "name": "stdout",
          "text": [
            "Fichier SBML extrait : downloaded_models_SBML_Immuno_oncology/Immuno_oncology/Alharbi2020.xml\n",
            "Modèle BIOMD0000001023 et ses métadonnées enregistrés dans downloaded_models_SBML_Immuno_oncology/Immuno_oncology/BIOMD0000001023.zip\n"
          ]
        },
        {
          "output_type": "stream",
          "name": "stderr",
          "text": [
            "\u001b[32mINFO    [bioservices.BioModels:171]: \u001b[0m \u001b[32mSaving file BIOMD0000001034.zip\u001b[0m\n",
            "INFO:bioservices.BioModels:Saving file BIOMD0000001034.zip\n"
          ]
        },
        {
          "output_type": "stream",
          "name": "stdout",
          "text": [
            "Fichier SBML extrait : downloaded_models_SBML_Immuno_oncology/Immuno_oncology/Bunimovich-Mendrazitsky2007.xml\n",
            "Modèle BIOMD0000001034 et ses métadonnées enregistrés dans downloaded_models_SBML_Immuno_oncology/Immuno_oncology/BIOMD0000001034.zip\n"
          ]
        },
        {
          "output_type": "stream",
          "name": "stderr",
          "text": [
            "\u001b[32mINFO    [bioservices.BioModels:171]: \u001b[0m \u001b[32mSaving file BIOMD0000001035.zip\u001b[0m\n",
            "INFO:bioservices.BioModels:Saving file BIOMD0000001035.zip\n"
          ]
        },
        {
          "output_type": "stream",
          "name": "stdout",
          "text": [
            "Fichier SBML extrait : downloaded_models_SBML_Immuno_oncology/Immuno_oncology/Al-Tuwairqi2020 - Virotherapy.xml\n",
            "Modèle BIOMD0000001035 et ses métadonnées enregistrés dans downloaded_models_SBML_Immuno_oncology/Immuno_oncology/BIOMD0000001035.zip\n"
          ]
        },
        {
          "output_type": "stream",
          "name": "stderr",
          "text": [
            "\u001b[32mINFO    [bioservices.BioModels:171]: \u001b[0m \u001b[32mSaving file BIOMD0000001036.zip\u001b[0m\n",
            "INFO:bioservices.BioModels:Saving file BIOMD0000001036.zip\n"
          ]
        },
        {
          "output_type": "stream",
          "name": "stdout",
          "text": [
            "Fichier SBML extrait : downloaded_models_SBML_Immuno_oncology/Immuno_oncology/Cappuccio2007.xml\n",
            "Modèle BIOMD0000001036 et ses métadonnées enregistrés dans downloaded_models_SBML_Immuno_oncology/Immuno_oncology/BIOMD0000001036.zip\n"
          ]
        },
        {
          "output_type": "stream",
          "name": "stderr",
          "text": [
            "\u001b[32mINFO    [bioservices.BioModels:171]: \u001b[0m \u001b[32mSaving file BIOMD0000001042.zip\u001b[0m\n",
            "INFO:bioservices.BioModels:Saving file BIOMD0000001042.zip\n"
          ]
        },
        {
          "output_type": "stream",
          "name": "stdout",
          "text": [
            "Fichier SBML extrait : downloaded_models_SBML_Immuno_oncology/Immuno_oncology/Makhlouf2020.xml\n",
            "Modèle BIOMD0000001042 et ses métadonnées enregistrés dans downloaded_models_SBML_Immuno_oncology/Immuno_oncology/BIOMD0000001042.zip\n"
          ]
        },
        {
          "output_type": "stream",
          "name": "stderr",
          "text": [
            "\u001b[32mINFO    [bioservices.BioModels:171]: \u001b[0m \u001b[32mSaving file BIOMD0000000743.zip\u001b[0m\n",
            "INFO:bioservices.BioModels:Saving file BIOMD0000000743.zip\n"
          ]
        },
        {
          "output_type": "stream",
          "name": "stdout",
          "text": [
            "Fichier SBML extrait : downloaded_models_SBML_Immuno_oncology/Immuno_oncology/Gallaher2018.xml\n",
            "Modèle BIOMD0000000743 et ses métadonnées enregistrés dans downloaded_models_SBML_Immuno_oncology/Immuno_oncology/BIOMD0000000743.zip\n"
          ]
        },
        {
          "output_type": "stream",
          "name": "stderr",
          "text": [
            "\u001b[32mINFO    [bioservices.BioModels:171]: \u001b[0m \u001b[32mSaving file BIOMD0000000741.zip\u001b[0m\n",
            "INFO:bioservices.BioModels:Saving file BIOMD0000000741.zip\n"
          ]
        },
        {
          "output_type": "stream",
          "name": "stdout",
          "text": [
            "Fichier SBML extrait : downloaded_models_SBML_Immuno_oncology/Immuno_oncology/Eftimie2018.xml\n",
            "Modèle BIOMD0000000741 et ses métadonnées enregistrés dans downloaded_models_SBML_Immuno_oncology/Immuno_oncology/BIOMD0000000741.zip\n"
          ]
        },
        {
          "output_type": "stream",
          "name": "stderr",
          "text": [
            "\u001b[32mINFO    [bioservices.BioModels:171]: \u001b[0m \u001b[32mSaving file BIOMD0000000742.zip\u001b[0m\n",
            "INFO:bioservices.BioModels:Saving file BIOMD0000000742.zip\n"
          ]
        },
        {
          "output_type": "stream",
          "name": "stdout",
          "text": [
            "Fichier SBML extrait : downloaded_models_SBML_Immuno_oncology/Immuno_oncology/Garcia2018basic.xml\n",
            "Modèle BIOMD0000000742 et ses métadonnées enregistrés dans downloaded_models_SBML_Immuno_oncology/Immuno_oncology/BIOMD0000000742.zip\n"
          ]
        },
        {
          "output_type": "stream",
          "name": "stderr",
          "text": [
            "\u001b[32mINFO    [bioservices.BioModels:171]: \u001b[0m \u001b[32mSaving file BIOMD0000000746.zip\u001b[0m\n",
            "INFO:bioservices.BioModels:Saving file BIOMD0000000746.zip\n"
          ]
        },
        {
          "output_type": "stream",
          "name": "stdout",
          "text": [
            "Fichier SBML extrait : downloaded_models_SBML_Immuno_oncology/Immuno_oncology/Saad2017.xml\n",
            "Modèle BIOMD0000000746 et ses métadonnées enregistrés dans downloaded_models_SBML_Immuno_oncology/Immuno_oncology/BIOMD0000000746.zip\n"
          ]
        },
        {
          "output_type": "stream",
          "name": "stderr",
          "text": [
            "\u001b[32mINFO    [bioservices.BioModels:171]: \u001b[0m \u001b[32mSaving file BIOMD0000000748.zip\u001b[0m\n",
            "INFO:bioservices.BioModels:Saving file BIOMD0000000748.zip\n"
          ]
        },
        {
          "output_type": "stream",
          "name": "stdout",
          "text": [
            "Fichier SBML extrait : downloaded_models_SBML_Immuno_oncology/Immuno_oncology/Phan2017.xml\n",
            "Modèle BIOMD0000000748 et ses métadonnées enregistrés dans downloaded_models_SBML_Immuno_oncology/Immuno_oncology/BIOMD0000000748.zip\n"
          ]
        },
        {
          "output_type": "stream",
          "name": "stderr",
          "text": [
            "\u001b[32mINFO    [bioservices.BioModels:171]: \u001b[0m \u001b[32mSaving file BIOMD0000000749.zip\u001b[0m\n",
            "INFO:bioservices.BioModels:Saving file BIOMD0000000749.zip\n"
          ]
        },
        {
          "output_type": "stream",
          "name": "stdout",
          "text": [
            "Fichier SBML extrait : downloaded_models_SBML_Immuno_oncology/Immuno_oncology/Reppas2015.xml\n",
            "Modèle BIOMD0000000749 et ses métadonnées enregistrés dans downloaded_models_SBML_Immuno_oncology/Immuno_oncology/BIOMD0000000749.zip\n"
          ]
        },
        {
          "output_type": "stream",
          "name": "stderr",
          "text": [
            "\u001b[32mINFO    [bioservices.BioModels:171]: \u001b[0m \u001b[32mSaving file BIOMD0000000751.zip\u001b[0m\n",
            "INFO:bioservices.BioModels:Saving file BIOMD0000000751.zip\n"
          ]
        },
        {
          "output_type": "stream",
          "name": "stdout",
          "text": [
            "Fichier SBML extrait : downloaded_models_SBML_Immuno_oncology/Immuno_oncology/Wilkie2013b.xml\n",
            "Modèle BIOMD0000000751 et ses métadonnées enregistrés dans downloaded_models_SBML_Immuno_oncology/Immuno_oncology/BIOMD0000000751.zip\n"
          ]
        },
        {
          "output_type": "stream",
          "name": "stderr",
          "text": [
            "\u001b[32mINFO    [bioservices.BioModels:171]: \u001b[0m \u001b[32mSaving file BIOMD0000000752.zip\u001b[0m\n",
            "INFO:bioservices.BioModels:Saving file BIOMD0000000752.zip\n"
          ]
        },
        {
          "output_type": "stream",
          "name": "stdout",
          "text": [
            "Fichier SBML extrait : downloaded_models_SBML_Immuno_oncology/Immuno_oncology/Wilkie2013r.xml\n",
            "Modèle BIOMD0000000752 et ses métadonnées enregistrés dans downloaded_models_SBML_Immuno_oncology/Immuno_oncology/BIOMD0000000752.zip\n"
          ]
        },
        {
          "output_type": "stream",
          "name": "stderr",
          "text": [
            "\u001b[32mINFO    [bioservices.BioModels:171]: \u001b[0m \u001b[32mSaving file BIOMD0000000753.zip\u001b[0m\n",
            "INFO:bioservices.BioModels:Saving file BIOMD0000000753.zip\n"
          ]
        },
        {
          "output_type": "stream",
          "name": "stdout",
          "text": [
            "Fichier SBML extrait : downloaded_models_SBML_Immuno_oncology/Immuno_oncology/Figueredo2013:1.xml\n",
            "Modèle BIOMD0000000753 et ses métadonnées enregistrés dans downloaded_models_SBML_Immuno_oncology/Immuno_oncology/BIOMD0000000753.zip\n"
          ]
        },
        {
          "output_type": "stream",
          "name": "stderr",
          "text": [
            "\u001b[32mINFO    [bioservices.BioModels:171]: \u001b[0m \u001b[32mSaving file BIOMD0000000754.zip\u001b[0m\n",
            "INFO:bioservices.BioModels:Saving file BIOMD0000000754.zip\n"
          ]
        },
        {
          "output_type": "stream",
          "name": "stdout",
          "text": [
            "Fichier SBML extrait : downloaded_models_SBML_Immuno_oncology/Immuno_oncology/Figueredo2013:2.xml\n",
            "Modèle BIOMD0000000754 et ses métadonnées enregistrés dans downloaded_models_SBML_Immuno_oncology/Immuno_oncology/BIOMD0000000754.zip\n"
          ]
        },
        {
          "output_type": "stream",
          "name": "stderr",
          "text": [
            "\u001b[32mINFO    [bioservices.BioModels:171]: \u001b[0m \u001b[32mSaving file BIOMD0000000756.zip\u001b[0m\n",
            "INFO:bioservices.BioModels:Saving file BIOMD0000000756.zip\n"
          ]
        },
        {
          "output_type": "stream",
          "name": "stdout",
          "text": [
            "Fichier SBML extrait : downloaded_models_SBML_Immuno_oncology/Immuno_oncology/Figueredo2013_3.xml\n",
            "Modèle BIOMD0000000756 et ses métadonnées enregistrés dans downloaded_models_SBML_Immuno_oncology/Immuno_oncology/BIOMD0000000756.zip\n"
          ]
        },
        {
          "output_type": "stream",
          "name": "stderr",
          "text": [
            "\u001b[32mINFO    [bioservices.BioModels:171]: \u001b[0m \u001b[32mSaving file BIOMD0000000758.zip\u001b[0m\n",
            "INFO:bioservices.BioModels:Saving file BIOMD0000000758.zip\n"
          ]
        },
        {
          "output_type": "stream",
          "name": "stdout",
          "text": [
            "Fichier SBML extrait : downloaded_models_SBML_Immuno_oncology/Immuno_oncology/Babbs2012.xml\n",
            "Modèle BIOMD0000000758 et ses métadonnées enregistrés dans downloaded_models_SBML_Immuno_oncology/Immuno_oncology/BIOMD0000000758.zip\n"
          ]
        },
        {
          "output_type": "stream",
          "name": "stderr",
          "text": [
            "\u001b[32mINFO    [bioservices.BioModels:171]: \u001b[0m \u001b[32mSaving file BIOMD0000000760.zip\u001b[0m\n",
            "INFO:bioservices.BioModels:Saving file BIOMD0000000760.zip\n"
          ]
        },
        {
          "output_type": "stream",
          "name": "stdout",
          "text": [
            "Fichier SBML extrait : downloaded_models_SBML_Immuno_oncology/Immuno_oncology/Feizabadi2011_1.xml\n",
            "Modèle BIOMD0000000760 et ses métadonnées enregistrés dans downloaded_models_SBML_Immuno_oncology/Immuno_oncology/BIOMD0000000760.zip\n"
          ]
        },
        {
          "output_type": "stream",
          "name": "stderr",
          "text": [
            "\u001b[32mINFO    [bioservices.BioModels:171]: \u001b[0m \u001b[32mSaving file BIOMD0000000768.zip\u001b[0m\n",
            "INFO:bioservices.BioModels:Saving file BIOMD0000000768.zip\n"
          ]
        },
        {
          "output_type": "stream",
          "name": "stdout",
          "text": [
            "Fichier SBML extrait : downloaded_models_SBML_Immuno_oncology/Immuno_oncology/Eftimie2010.xml\n",
            "Modèle BIOMD0000000768 et ses métadonnées enregistrés dans downloaded_models_SBML_Immuno_oncology/Immuno_oncology/BIOMD0000000768.zip\n"
          ]
        },
        {
          "output_type": "stream",
          "name": "stderr",
          "text": [
            "\u001b[32mINFO    [bioservices.BioModels:171]: \u001b[0m \u001b[32mSaving file BIOMD0000000880.zip\u001b[0m\n",
            "INFO:bioservices.BioModels:Saving file BIOMD0000000880.zip\n"
          ]
        },
        {
          "output_type": "stream",
          "name": "stdout",
          "text": [
            "Fichier SBML extrait : downloaded_models_SBML_Immuno_oncology/Immuno_oncology/Trisilowati2018.xml\n",
            "Modèle BIOMD0000000880 et ses métadonnées enregistrés dans downloaded_models_SBML_Immuno_oncology/Immuno_oncology/BIOMD0000000880.zip\n"
          ]
        },
        {
          "output_type": "stream",
          "name": "stderr",
          "text": [
            "\u001b[32mINFO    [bioservices.BioModels:171]: \u001b[0m \u001b[32mSaving file BIOMD0000000885.zip\u001b[0m\n",
            "INFO:bioservices.BioModels:Saving file BIOMD0000000885.zip\n"
          ]
        },
        {
          "output_type": "stream",
          "name": "stdout",
          "text": [
            "Fichier SBML extrait : downloaded_models_SBML_Immuno_oncology/Immuno_oncology/Sumana2018.xml\n",
            "Modèle BIOMD0000000885 et ses métadonnées enregistrés dans downloaded_models_SBML_Immuno_oncology/Immuno_oncology/BIOMD0000000885.zip\n"
          ]
        },
        {
          "output_type": "stream",
          "name": "stderr",
          "text": [
            "\u001b[32mINFO    [bioservices.BioModels:171]: \u001b[0m \u001b[32mSaving file BIOMD0000000886.zip\u001b[0m\n",
            "INFO:bioservices.BioModels:Saving file BIOMD0000000886.zip\n"
          ]
        },
        {
          "output_type": "stream",
          "name": "stdout",
          "text": [
            "Fichier SBML extrait : downloaded_models_SBML_Immuno_oncology/Immuno_oncology/Dubey2008.xml\n",
            "Modèle BIOMD0000000886 et ses métadonnées enregistrés dans downloaded_models_SBML_Immuno_oncology/Immuno_oncology/BIOMD0000000886.zip\n"
          ]
        },
        {
          "output_type": "stream",
          "name": "stderr",
          "text": [
            "\u001b[32mINFO    [bioservices.BioModels:171]: \u001b[0m \u001b[32mSaving file BIOMD0000000891.zip\u001b[0m\n",
            "INFO:bioservices.BioModels:Saving file BIOMD0000000891.zip\n"
          ]
        },
        {
          "output_type": "stream",
          "name": "stdout",
          "text": [
            "Fichier SBML extrait : downloaded_models_SBML_Immuno_oncology/Immuno_oncology/Khajanchi2019.xml\n",
            "Modèle BIOMD0000000891 et ses métadonnées enregistrés dans downloaded_models_SBML_Immuno_oncology/Immuno_oncology/BIOMD0000000891.zip\n"
          ]
        },
        {
          "output_type": "stream",
          "name": "stderr",
          "text": [
            "\u001b[32mINFO    [bioservices.BioModels:171]: \u001b[0m \u001b[32mSaving file BIOMD0000000900.zip\u001b[0m\n",
            "INFO:bioservices.BioModels:Saving file BIOMD0000000900.zip\n"
          ]
        },
        {
          "output_type": "stream",
          "name": "stdout",
          "text": [
            "Fichier SBML extrait : downloaded_models_SBML_Immuno_oncology/Immuno_oncology/Bianca2013.xml\n",
            "Modèle BIOMD0000000900 et ses métadonnées enregistrés dans downloaded_models_SBML_Immuno_oncology/Immuno_oncology/BIOMD0000000900.zip\n"
          ]
        },
        {
          "output_type": "stream",
          "name": "stderr",
          "text": [
            "\u001b[32mINFO    [bioservices.BioModels:171]: \u001b[0m \u001b[32mSaving file BIOMD0000000904.zip\u001b[0m\n",
            "INFO:bioservices.BioModels:Saving file BIOMD0000000904.zip\n"
          ]
        },
        {
          "output_type": "stream",
          "name": "stdout",
          "text": [
            "Fichier SBML extrait : downloaded_models_SBML_Immuno_oncology/Immuno_oncology/Admon2017.xml\n",
            "Modèle BIOMD0000000904 et ses métadonnées enregistrés dans downloaded_models_SBML_Immuno_oncology/Immuno_oncology/BIOMD0000000904.zip\n"
          ]
        },
        {
          "output_type": "stream",
          "name": "stderr",
          "text": [
            "\u001b[32mINFO    [bioservices.BioModels:171]: \u001b[0m \u001b[32mSaving file BIOMD0000000910.zip\u001b[0m\n",
            "INFO:bioservices.BioModels:Saving file BIOMD0000000910.zip\n"
          ]
        },
        {
          "output_type": "stream",
          "name": "stdout",
          "text": [
            "Fichier SBML extrait : downloaded_models_SBML_Immuno_oncology/Immuno_oncology/Isaeva2008.xml\n",
            "Modèle BIOMD0000000910 et ses métadonnées enregistrés dans downloaded_models_SBML_Immuno_oncology/Immuno_oncology/BIOMD0000000910.zip\n"
          ]
        },
        {
          "output_type": "stream",
          "name": "stderr",
          "text": [
            "\u001b[32mINFO    [bioservices.BioModels:171]: \u001b[0m \u001b[32mSaving file BIOMD0000000912.zip\u001b[0m\n",
            "INFO:bioservices.BioModels:Saving file BIOMD0000000912.zip\n"
          ]
        },
        {
          "output_type": "stream",
          "name": "stdout",
          "text": [
            "Fichier SBML extrait : downloaded_models_SBML_Immuno_oncology/Immuno_oncology/Caravagna2010.xml\n",
            "Modèle BIOMD0000000912 et ses métadonnées enregistrés dans downloaded_models_SBML_Immuno_oncology/Immuno_oncology/BIOMD0000000912.zip\n"
          ]
        },
        {
          "output_type": "stream",
          "name": "stderr",
          "text": [
            "\u001b[32mINFO    [bioservices.BioModels:171]: \u001b[0m \u001b[32mSaving file BIOMD0000000913.zip\u001b[0m\n",
            "INFO:bioservices.BioModels:Saving file BIOMD0000000913.zip\n"
          ]
        },
        {
          "output_type": "stream",
          "name": "stdout",
          "text": [
            "Fichier SBML extrait : downloaded_models_SBML_Immuno_oncology/Immuno_oncology/dePillis2008.xml\n",
            "Modèle BIOMD0000000913 et ses métadonnées enregistrés dans downloaded_models_SBML_Immuno_oncology/Immuno_oncology/BIOMD0000000913.zip\n"
          ]
        },
        {
          "output_type": "stream",
          "name": "stderr",
          "text": [
            "\u001b[32mINFO    [bioservices.BioModels:171]: \u001b[0m \u001b[32mSaving file BIOMD0000000926.zip\u001b[0m\n",
            "INFO:bioservices.BioModels:Saving file BIOMD0000000926.zip\n"
          ]
        },
        {
          "output_type": "stream",
          "name": "stdout",
          "text": [
            "Fichier SBML extrait : downloaded_models_SBML_Immuno_oncology/Immuno_oncology/Rhodes2019-Immune-Mediated theory of Metastasis_V1.xml\n",
            "Modèle BIOMD0000000926 et ses métadonnées enregistrés dans downloaded_models_SBML_Immuno_oncology/Immuno_oncology/BIOMD0000000926.zip\n"
          ]
        },
        {
          "output_type": "stream",
          "name": "stderr",
          "text": [
            "\u001b[32mINFO    [bioservices.BioModels:171]: \u001b[0m \u001b[32mSaving file BIOMD0000000894.zip\u001b[0m\n",
            "INFO:bioservices.BioModels:Saving file BIOMD0000000894.zip\n"
          ]
        },
        {
          "output_type": "stream",
          "name": "stdout",
          "text": [
            "Fichier SBML extrait : downloaded_models_SBML_Immuno_oncology/Immuno_oncology/Bose2011.xml\n",
            "Modèle BIOMD0000000894 et ses métadonnées enregistrés dans downloaded_models_SBML_Immuno_oncology/Immuno_oncology/BIOMD0000000894.zip\n"
          ]
        },
        {
          "output_type": "stream",
          "name": "stderr",
          "text": [
            "\u001b[32mINFO    [bioservices.BioModels:171]: \u001b[0m \u001b[32mSaving file BIOMD0000001013.zip\u001b[0m\n",
            "INFO:bioservices.BioModels:Saving file BIOMD0000001013.zip\n"
          ]
        },
        {
          "output_type": "stream",
          "name": "stdout",
          "text": [
            "Fichier SBML extrait : downloaded_models_SBML_Immuno_oncology/Immuno_oncology/Leon-Triana2021 (eqs 1 and 2).xml\n",
            "Modèle BIOMD0000001013 et ses métadonnées enregistrés dans downloaded_models_SBML_Immuno_oncology/Immuno_oncology/BIOMD0000001013.zip\n"
          ]
        },
        {
          "output_type": "stream",
          "name": "stderr",
          "text": [
            "\u001b[32mINFO    [bioservices.BioModels:171]: \u001b[0m \u001b[32mSaving file BIOMD0000001014.zip\u001b[0m\n",
            "INFO:bioservices.BioModels:Saving file BIOMD0000001014.zip\n"
          ]
        },
        {
          "output_type": "stream",
          "name": "stdout",
          "text": [
            "Fichier SBML extrait : downloaded_models_SBML_Immuno_oncology/Immuno_oncology/Leon-Triana2021 (eqs 3-6).xml\n",
            "Modèle BIOMD0000001014 et ses métadonnées enregistrés dans downloaded_models_SBML_Immuno_oncology/Immuno_oncology/BIOMD0000001014.zip\n"
          ]
        },
        {
          "output_type": "stream",
          "name": "stderr",
          "text": [
            "\u001b[32mINFO    [bioservices.BioModels:171]: \u001b[0m \u001b[32mSaving file BIOMD0000000744.zip\u001b[0m\n",
            "INFO:bioservices.BioModels:Saving file BIOMD0000000744.zip\n"
          ]
        },
        {
          "output_type": "stream",
          "name": "stdout",
          "text": [
            "Fichier SBML extrait : downloaded_models_SBML_Immuno_oncology/Immuno_oncology/Hu2019.xml\n",
            "Modèle BIOMD0000000744 et ses métadonnées enregistrés dans downloaded_models_SBML_Immuno_oncology/Immuno_oncology/BIOMD0000000744.zip\n"
          ]
        },
        {
          "output_type": "stream",
          "name": "stderr",
          "text": [
            "\u001b[32mINFO    [bioservices.BioModels:171]: \u001b[0m \u001b[32mSaving file BIOMD0000000766.zip\u001b[0m\n",
            "INFO:bioservices.BioModels:Saving file BIOMD0000000766.zip\n"
          ]
        },
        {
          "output_type": "stream",
          "name": "stdout",
          "text": [
            "Fichier SBML extrait : downloaded_models_SBML_Immuno_oncology/Immuno_oncology/Macnamara2015:1.xml\n",
            "Modèle BIOMD0000000766 et ses métadonnées enregistrés dans downloaded_models_SBML_Immuno_oncology/Immuno_oncology/BIOMD0000000766.zip\n"
          ]
        },
        {
          "output_type": "stream",
          "name": "stderr",
          "text": [
            "\u001b[32mINFO    [bioservices.BioModels:171]: \u001b[0m \u001b[32mSaving file BIOMD0000000767.zip\u001b[0m\n",
            "INFO:bioservices.BioModels:Saving file BIOMD0000000767.zip\n"
          ]
        },
        {
          "output_type": "stream",
          "name": "stdout",
          "text": [
            "Fichier SBML extrait : downloaded_models_SBML_Immuno_oncology/Immuno_oncology/Macnamara2015_2.xml\n",
            "Modèle BIOMD0000000767 et ses métadonnées enregistrés dans downloaded_models_SBML_Immuno_oncology/Immuno_oncology/BIOMD0000000767.zip\n"
          ]
        },
        {
          "output_type": "stream",
          "name": "stderr",
          "text": [
            "\u001b[32mINFO    [bioservices.BioModels:171]: \u001b[0m \u001b[32mSaving file BIOMD0000000769.zip\u001b[0m\n",
            "INFO:bioservices.BioModels:Saving file BIOMD0000000769.zip\n"
          ]
        },
        {
          "output_type": "stream",
          "name": "stdout",
          "text": [
            "Fichier SBML extrait : downloaded_models_SBML_Immuno_oncology/Immuno_oncology/Eftimie2017_2.xml\n",
            "Modèle BIOMD0000000769 et ses métadonnées enregistrés dans downloaded_models_SBML_Immuno_oncology/Immuno_oncology/BIOMD0000000769.zip\n"
          ]
        },
        {
          "output_type": "stream",
          "name": "stderr",
          "text": [
            "\u001b[32mINFO    [bioservices.BioModels:171]: \u001b[0m \u001b[32mSaving file BIOMD0000000770.zip\u001b[0m\n",
            "INFO:bioservices.BioModels:Saving file BIOMD0000000770.zip\n"
          ]
        },
        {
          "output_type": "stream",
          "name": "stdout",
          "text": [
            "Fichier SBML extrait : downloaded_models_SBML_Immuno_oncology/Immuno_oncology/Eftimie2017_1.xml\n",
            "Modèle BIOMD0000000770 et ses métadonnées enregistrés dans downloaded_models_SBML_Immuno_oncology/Immuno_oncology/BIOMD0000000770.zip\n"
          ]
        },
        {
          "output_type": "stream",
          "name": "stderr",
          "text": [
            "\u001b[32mINFO    [bioservices.BioModels:171]: \u001b[0m \u001b[32mSaving file BIOMD0000000778.zip\u001b[0m\n",
            "INFO:bioservices.BioModels:Saving file BIOMD0000000778.zip\n"
          ]
        },
        {
          "output_type": "stream",
          "name": "stdout",
          "text": [
            "Fichier SBML extrait : downloaded_models_SBML_Immuno_oncology/Immuno_oncology/Wei2017.xml\n",
            "Modèle BIOMD0000000778 et ses métadonnées enregistrés dans downloaded_models_SBML_Immuno_oncology/Immuno_oncology/BIOMD0000000778.zip\n"
          ]
        },
        {
          "output_type": "stream",
          "name": "stderr",
          "text": [
            "\u001b[32mINFO    [bioservices.BioModels:171]: \u001b[0m \u001b[32mSaving file BIOMD0000000791.zip\u001b[0m\n",
            "INFO:bioservices.BioModels:Saving file BIOMD0000000791.zip\n"
          ]
        },
        {
          "output_type": "stream",
          "name": "stdout",
          "text": [
            "Fichier SBML extrait : downloaded_models_SBML_Immuno_oncology/Immuno_oncology/Wilson2012.xml\n",
            "Modèle BIOMD0000000791 et ses métadonnées enregistrés dans downloaded_models_SBML_Immuno_oncology/Immuno_oncology/BIOMD0000000791.zip\n"
          ]
        },
        {
          "output_type": "stream",
          "name": "stderr",
          "text": [
            "\u001b[32mINFO    [bioservices.BioModels:171]: \u001b[0m \u001b[32mSaving file BIOMD0000001011.zip\u001b[0m\n",
            "INFO:bioservices.BioModels:Saving file BIOMD0000001011.zip\n"
          ]
        },
        {
          "output_type": "stream",
          "name": "stdout",
          "text": [
            "Fichier SBML extrait : downloaded_models_SBML_Immuno_oncology/Immuno_oncology/Leon-Triana2020 (eqs 4).xml\n",
            "Modèle BIOMD0000001011 et ses métadonnées enregistrés dans downloaded_models_SBML_Immuno_oncology/Immuno_oncology/BIOMD0000001011.zip\n"
          ]
        },
        {
          "output_type": "stream",
          "name": "stderr",
          "text": [
            "\u001b[32mINFO    [bioservices.BioModels:171]: \u001b[0m \u001b[32mSaving file BIOMD0000001012.zip\u001b[0m\n",
            "INFO:bioservices.BioModels:Saving file BIOMD0000001012.zip\n"
          ]
        },
        {
          "output_type": "stream",
          "name": "stdout",
          "text": [
            "Fichier SBML extrait : downloaded_models_SBML_Immuno_oncology/Immuno_oncology/Leon-Triana2020 (eqs 3).xml\n",
            "Modèle BIOMD0000001012 et ses métadonnées enregistrés dans downloaded_models_SBML_Immuno_oncology/Immuno_oncology/BIOMD0000001012.zip\n"
          ]
        },
        {
          "output_type": "stream",
          "name": "stderr",
          "text": [
            "\u001b[32mINFO    [bioservices.BioModels:171]: \u001b[0m \u001b[32mSaving file BIOMD0000001024.zip\u001b[0m\n",
            "INFO:bioservices.BioModels:Saving file BIOMD0000001024.zip\n"
          ]
        },
        {
          "output_type": "stream",
          "name": "stdout",
          "text": [
            "Fichier SBML extrait : downloaded_models_SBML_Immuno_oncology/Immuno_oncology/Chaudhury2020 Eq 4-5.xml\n",
            "Modèle BIOMD0000001024 et ses métadonnées enregistrés dans downloaded_models_SBML_Immuno_oncology/Immuno_oncology/BIOMD0000001024.zip\n"
          ]
        },
        {
          "output_type": "stream",
          "name": "stderr",
          "text": [
            "\u001b[32mINFO    [bioservices.BioModels:171]: \u001b[0m \u001b[32mSaving file BIOMD0000001025.zip\u001b[0m\n",
            "INFO:bioservices.BioModels:Saving file BIOMD0000001025.zip\n"
          ]
        },
        {
          "output_type": "stream",
          "name": "stdout",
          "text": [
            "Fichier SBML extrait : downloaded_models_SBML_Immuno_oncology/Immuno_oncology/Chaudhury2020 Eq 7-9.xml\n",
            "Modèle BIOMD0000001025 et ses métadonnées enregistrés dans downloaded_models_SBML_Immuno_oncology/Immuno_oncology/BIOMD0000001025.zip\n"
          ]
        },
        {
          "output_type": "stream",
          "name": "stderr",
          "text": [
            "\u001b[32mINFO    [bioservices.BioModels:171]: \u001b[0m \u001b[32mSaving file BIOMD0000001033.zip\u001b[0m\n",
            "INFO:bioservices.BioModels:Saving file BIOMD0000001033.zip\n"
          ]
        },
        {
          "output_type": "stream",
          "name": "stdout",
          "text": [
            "Fichier SBML extrait : downloaded_models_SBML_Immuno_oncology/Immuno_oncology/Almuallem2020.xml\n",
            "Modèle BIOMD0000001033 et ses métadonnées enregistrés dans downloaded_models_SBML_Immuno_oncology/Immuno_oncology/BIOMD0000001033.zip\n"
          ]
        },
        {
          "output_type": "stream",
          "name": "stderr",
          "text": [
            "\u001b[32mINFO    [bioservices.BioModels:171]: \u001b[0m \u001b[32mSaving file BIOMD0000001041.zip\u001b[0m\n",
            "INFO:bioservices.BioModels:Saving file BIOMD0000001041.zip\n"
          ]
        },
        {
          "output_type": "stream",
          "name": "stdout",
          "text": [
            "Fichier SBML extrait : downloaded_models_SBML_Immuno_oncology/Immuno_oncology/Kimmel2021.xml\n",
            "Modèle BIOMD0000001041 et ses métadonnées enregistrés dans downloaded_models_SBML_Immuno_oncology/Immuno_oncology/BIOMD0000001041.zip\n"
          ]
        },
        {
          "output_type": "stream",
          "name": "stderr",
          "text": [
            "\u001b[32mINFO    [bioservices.BioModels:171]: \u001b[0m \u001b[32mSaving file BIOMD0000001043.zip\u001b[0m\n",
            "INFO:bioservices.BioModels:Saving file BIOMD0000001043.zip\n"
          ]
        },
        {
          "output_type": "stream",
          "name": "stdout",
          "text": [
            "Fichier SBML extrait : downloaded_models_SBML_Immuno_oncology/Immuno_oncology/Wodarz2001.xml\n",
            "Modèle BIOMD0000001043 et ses métadonnées enregistrés dans downloaded_models_SBML_Immuno_oncology/Immuno_oncology/BIOMD0000001043.zip\n"
          ]
        },
        {
          "output_type": "stream",
          "name": "stderr",
          "text": [
            "\u001b[32mINFO    [bioservices.BioModels:171]: \u001b[0m \u001b[32mSaving file BIOMD0000000757.zip\u001b[0m\n",
            "INFO:bioservices.BioModels:Saving file BIOMD0000000757.zip\n"
          ]
        },
        {
          "output_type": "stream",
          "name": "stdout",
          "text": [
            "Fichier SBML extrait : downloaded_models_SBML_Immuno_oncology/Immuno_oncology/Abernathy2016.xml\n",
            "Modèle BIOMD0000000757 et ses métadonnées enregistrés dans downloaded_models_SBML_Immuno_oncology/Immuno_oncology/BIOMD0000000757.zip\n"
          ]
        },
        {
          "output_type": "stream",
          "name": "stderr",
          "text": [
            "\u001b[32mINFO    [bioservices.BioModels:171]: \u001b[0m \u001b[32mSaving file BIOMD0000000759.zip\u001b[0m\n",
            "INFO:bioservices.BioModels:Saving file BIOMD0000000759.zip\n"
          ]
        },
        {
          "output_type": "stream",
          "name": "stdout",
          "text": [
            "Fichier SBML extrait : downloaded_models_SBML_Immuno_oncology/Immuno_oncology/denBreems2015.xml\n",
            "Modèle BIOMD0000000759 et ses métadonnées enregistrés dans downloaded_models_SBML_Immuno_oncology/Immuno_oncology/BIOMD0000000759.zip\n"
          ]
        },
        {
          "output_type": "stream",
          "name": "stderr",
          "text": [
            "\u001b[32mINFO    [bioservices.BioModels:171]: \u001b[0m \u001b[32mSaving file BIOMD0000000798.zip\u001b[0m\n",
            "INFO:bioservices.BioModels:Saving file BIOMD0000000798.zip\n"
          ]
        },
        {
          "output_type": "stream",
          "name": "stdout",
          "text": [
            "Fichier SBML extrait : downloaded_models_SBML_Immuno_oncology/Immuno_oncology/Sharp2019.xml\n",
            "Modèle BIOMD0000000798 et ses métadonnées enregistrés dans downloaded_models_SBML_Immuno_oncology/Immuno_oncology/BIOMD0000000798.zip\n"
          ]
        },
        {
          "output_type": "stream",
          "name": "stderr",
          "text": [
            "\u001b[32mINFO    [bioservices.BioModels:171]: \u001b[0m \u001b[32mSaving file BIOMD0000000801.zip\u001b[0m\n",
            "INFO:bioservices.BioModels:Saving file BIOMD0000000801.zip\n"
          ]
        },
        {
          "output_type": "stream",
          "name": "stdout",
          "text": [
            "Fichier SBML extrait : downloaded_models_SBML_Immuno_oncology/Immuno_oncology/Sturrock2015.xml\n",
            "Modèle BIOMD0000000801 et ses métadonnées enregistrés dans downloaded_models_SBML_Immuno_oncology/Immuno_oncology/BIOMD0000000801.zip\n"
          ]
        },
        {
          "output_type": "stream",
          "name": "stderr",
          "text": [
            "\u001b[32mINFO    [bioservices.BioModels:171]: \u001b[0m \u001b[32mSaving file BIOMD0000000802.zip\u001b[0m\n",
            "INFO:bioservices.BioModels:Saving file BIOMD0000000802.zip\n"
          ]
        },
        {
          "output_type": "stream",
          "name": "stdout",
          "text": [
            "Fichier SBML extrait : downloaded_models_SBML_Immuno_oncology/Immuno_oncology/Hoffman2017.xml\n",
            "Modèle BIOMD0000000802 et ses métadonnées enregistrés dans downloaded_models_SBML_Immuno_oncology/Immuno_oncology/BIOMD0000000802.zip\n"
          ]
        },
        {
          "output_type": "stream",
          "name": "stderr",
          "text": [
            "\u001b[32mINFO    [bioservices.BioModels:171]: \u001b[0m \u001b[32mSaving file BIOMD0000000879.zip\u001b[0m\n",
            "INFO:bioservices.BioModels:Saving file BIOMD0000000879.zip\n"
          ]
        },
        {
          "output_type": "stream",
          "name": "stdout",
          "text": [
            "Fichier SBML extrait : downloaded_models_SBML_Immuno_oncology/Immuno_oncology/Rodrigues2019.xml\n",
            "Modèle BIOMD0000000879 et ses métadonnées enregistrés dans downloaded_models_SBML_Immuno_oncology/Immuno_oncology/BIOMD0000000879.zip\n"
          ]
        },
        {
          "output_type": "stream",
          "name": "stderr",
          "text": [
            "\u001b[32mINFO    [bioservices.BioModels:171]: \u001b[0m \u001b[32mSaving file BIOMD0000000888.zip\u001b[0m\n",
            "INFO:bioservices.BioModels:Saving file BIOMD0000000888.zip\n"
          ]
        },
        {
          "output_type": "stream",
          "name": "stdout",
          "text": [
            "Fichier SBML extrait : downloaded_models_SBML_Immuno_oncology/Immuno_oncology/unni2019.xml\n",
            "Modèle BIOMD0000000888 et ses métadonnées enregistrés dans downloaded_models_SBML_Immuno_oncology/Immuno_oncology/BIOMD0000000888.zip\n"
          ]
        },
        {
          "output_type": "stream",
          "name": "stderr",
          "text": [
            "\u001b[32mINFO    [bioservices.BioModels:171]: \u001b[0m \u001b[32mSaving file BIOMD0000000908.zip\u001b[0m\n",
            "INFO:bioservices.BioModels:Saving file BIOMD0000000908.zip\n"
          ]
        },
        {
          "output_type": "stream",
          "name": "stdout",
          "text": [
            "Fichier SBML extrait : downloaded_models_SBML_Immuno_oncology/Immuno_oncology/dePillis2013.xml\n",
            "Modèle BIOMD0000000908 et ses métadonnées enregistrés dans downloaded_models_SBML_Immuno_oncology/Immuno_oncology/BIOMD0000000908.zip\n"
          ]
        },
        {
          "output_type": "stream",
          "name": "stderr",
          "text": [
            "\u001b[32mINFO    [bioservices.BioModels:171]: \u001b[0m \u001b[32mSaving file BIOMD0000000909.zip\u001b[0m\n",
            "INFO:bioservices.BioModels:Saving file BIOMD0000000909.zip\n"
          ]
        },
        {
          "output_type": "stream",
          "name": "stdout",
          "text": [
            "Fichier SBML extrait : downloaded_models_SBML_Immuno_oncology/Immuno_oncology/dePillis2003.xml\n",
            "Modèle BIOMD0000000909 et ses métadonnées enregistrés dans downloaded_models_SBML_Immuno_oncology/Immuno_oncology/BIOMD0000000909.zip\n"
          ]
        },
        {
          "output_type": "stream",
          "name": "stderr",
          "text": [
            "\u001b[32mINFO    [bioservices.BioModels:171]: \u001b[0m \u001b[32mSaving file BIOMD0000000911.zip\u001b[0m\n",
            "INFO:bioservices.BioModels:Saving file BIOMD0000000911.zip\n"
          ]
        },
        {
          "output_type": "stream",
          "name": "stdout",
          "text": [
            "Fichier SBML extrait : downloaded_models_SBML_Immuno_oncology/Immuno_oncology/Merola2008.xml\n",
            "Modèle BIOMD0000000911 et ses métadonnées enregistrés dans downloaded_models_SBML_Immuno_oncology/Immuno_oncology/BIOMD0000000911.zip\n"
          ]
        },
        {
          "output_type": "stream",
          "name": "stderr",
          "text": [
            "\u001b[32mINFO    [bioservices.BioModels:171]: \u001b[0m \u001b[32mSaving file BIOMD0000000812.zip\u001b[0m\n",
            "INFO:bioservices.BioModels:Saving file BIOMD0000000812.zip\n"
          ]
        },
        {
          "output_type": "stream",
          "name": "stdout",
          "text": [
            "Fichier SBML extrait : downloaded_models_SBML_Immuno_oncology/Immuno_oncology/Galante2012.xml\n",
            "Modèle BIOMD0000000812 et ses métadonnées enregistrés dans downloaded_models_SBML_Immuno_oncology/Immuno_oncology/BIOMD0000000812.zip\n"
          ]
        },
        {
          "output_type": "stream",
          "name": "stderr",
          "text": [
            "\u001b[32mINFO    [bioservices.BioModels:171]: \u001b[0m \u001b[32mSaving file BIOMD0000000813.zip\u001b[0m\n",
            "INFO:bioservices.BioModels:Saving file BIOMD0000000813.zip\n"
          ]
        },
        {
          "output_type": "stream",
          "name": "stdout",
          "text": [
            "Fichier SBML extrait : downloaded_models_SBML_Immuno_oncology/Immuno_oncology/Anderson2015.xml\n",
            "Modèle BIOMD0000000813 et ses métadonnées enregistrés dans downloaded_models_SBML_Immuno_oncology/Immuno_oncology/BIOMD0000000813.zip\n"
          ]
        },
        {
          "output_type": "stream",
          "name": "stderr",
          "text": [
            "\u001b[32mINFO    [bioservices.BioModels:171]: \u001b[0m \u001b[32mSaving file BIOMD0000000877.zip\u001b[0m\n",
            "INFO:bioservices.BioModels:Saving file BIOMD0000000877.zip\n"
          ]
        },
        {
          "output_type": "stream",
          "name": "stdout",
          "text": [
            "Fichier SBML extrait : downloaded_models_SBML_Immuno_oncology/Immuno_oncology/Ontah2019.xml\n",
            "Modèle BIOMD0000000877 et ses métadonnées enregistrés dans downloaded_models_SBML_Immuno_oncology/Immuno_oncology/BIOMD0000000877.zip\n"
          ]
        },
        {
          "output_type": "stream",
          "name": "stderr",
          "text": [
            "\u001b[32mINFO    [bioservices.BioModels:171]: \u001b[0m \u001b[32mSaving file BIOMD0000001031.zip\u001b[0m\n",
            "INFO:bioservices.BioModels:Saving file BIOMD0000001031.zip\n"
          ]
        },
        {
          "output_type": "stream",
          "name": "stdout",
          "text": [
            "Fichier SBML extrait : downloaded_models_SBML_Immuno_oncology/Immuno_oncology/Al-Tuwairqi2020 - Phase I virotherapy.xml\n",
            "Modèle BIOMD0000001031 et ses métadonnées enregistrés dans downloaded_models_SBML_Immuno_oncology/Immuno_oncology/BIOMD0000001031.zip\n"
          ]
        },
        {
          "output_type": "stream",
          "name": "stderr",
          "text": [
            "\u001b[32mINFO    [bioservices.BioModels:171]: \u001b[0m \u001b[32mSaving file BIOMD0000001032.zip\u001b[0m\n",
            "INFO:bioservices.BioModels:Saving file BIOMD0000001032.zip\n"
          ]
        },
        {
          "output_type": "stream",
          "name": "stdout",
          "text": [
            "Fichier SBML extrait : downloaded_models_SBML_Immuno_oncology/Immuno_oncology/Al-Tuwairqi2020 - Phase II radiovirotherapy treatment.xml\n",
            "Modèle BIOMD0000001032 et ses métadonnées enregistrés dans downloaded_models_SBML_Immuno_oncology/Immuno_oncology/BIOMD0000001032.zip\n"
          ]
        },
        {
          "output_type": "stream",
          "name": "stderr",
          "text": [
            "\u001b[32mINFO    [bioservices.BioModels:171]: \u001b[0m \u001b[32mSaving file BIOMD0000000764.zip\u001b[0m\n",
            "INFO:bioservices.BioModels:Saving file BIOMD0000000764.zip\n"
          ]
        },
        {
          "output_type": "stream",
          "name": "stdout",
          "text": [
            "Fichier SBML extrait : downloaded_models_SBML_Immuno_oncology/Immuno_oncology/Malinzi2019.xml\n",
            "Modèle BIOMD0000000764 et ses métadonnées enregistrés dans downloaded_models_SBML_Immuno_oncology/Immuno_oncology/BIOMD0000000764.zip\n"
          ]
        },
        {
          "output_type": "stream",
          "name": "stderr",
          "text": [
            "\u001b[32mINFO    [bioservices.BioModels:171]: \u001b[0m \u001b[32mSaving file BIOMD0000000780.zip\u001b[0m\n",
            "INFO:bioservices.BioModels:Saving file BIOMD0000000780.zip\n"
          ]
        },
        {
          "output_type": "stream",
          "name": "stdout",
          "text": [
            "Fichier SBML extrait : downloaded_models_SBML_Immuno_oncology/Immuno_oncology/Wang2016_1.xml\n",
            "Modèle BIOMD0000000780 et ses métadonnées enregistrés dans downloaded_models_SBML_Immuno_oncology/Immuno_oncology/BIOMD0000000780.zip\n"
          ]
        },
        {
          "output_type": "stream",
          "name": "stderr",
          "text": [
            "\u001b[32mINFO    [bioservices.BioModels:171]: \u001b[0m \u001b[32mSaving file BIOMD0000000781.zip\u001b[0m\n",
            "INFO:bioservices.BioModels:Saving file BIOMD0000000781.zip\n"
          ]
        },
        {
          "output_type": "stream",
          "name": "stdout",
          "text": [
            "Fichier SBML extrait : downloaded_models_SBML_Immuno_oncology/Immuno_oncology/Wang2016_2.xml\n",
            "Modèle BIOMD0000000781 et ses métadonnées enregistrés dans downloaded_models_SBML_Immuno_oncology/Immuno_oncology/BIOMD0000000781.zip\n"
          ]
        },
        {
          "output_type": "stream",
          "name": "stderr",
          "text": [
            "\u001b[32mINFO    [bioservices.BioModels:171]: \u001b[0m \u001b[32mSaving file BIOMD0000000782.zip\u001b[0m\n",
            "INFO:bioservices.BioModels:Saving file BIOMD0000000782.zip\n"
          ]
        },
        {
          "output_type": "stream",
          "name": "stdout",
          "text": [
            "Fichier SBML extrait : downloaded_models_SBML_Immuno_oncology/Immuno_oncology/Wang2016:3.xml\n",
            "Modèle BIOMD0000000782 et ses métadonnées enregistrés dans downloaded_models_SBML_Immuno_oncology/Immuno_oncology/BIOMD0000000782.zip\n"
          ]
        }
      ],
      "source": [
        "if __name__ == \"__main__\":\n",
        "    main()"
      ]
    }
  ],
  "metadata": {
    "jupytext": {
      "cell_metadata_filter": "-all",
      "encoding": "# -*- coding: utf-8 -*-",
      "executable": "/usr/bin/env python3",
      "main_language": "python",
      "notebook_metadata_filter": "-all"
    },
    "language_info": {
      "name": "python"
    },
    "colab": {
      "provenance": []
    },
    "kernelspec": {
      "name": "python3",
      "display_name": "Python 3"
    }
  },
  "nbformat": 4,
  "nbformat_minor": 5
}