{
 "cells": [
  {
   "cell_type": "code",
   "execution_count": null,
   "id": "initial_id",
   "metadata": {
    "collapsed": true
   },
   "outputs": [],
   "source": [
    "\"\"\"\n",
    "MODULES\n",
    "\"\"\"\n",
    "import os\n",
    "import subprocess\n",
    "import sys\n",
    "import zipfile as z\n",
    "import requests\n",
    "import json\n",
    "from re import *\n",
    "from bs4 import BeautifulSoup\n",
    "\"\"\"\n",
    "PATHS\n",
    "\"\"\"\n",
    "current_path = os.getcwd()\n",
    "# BELOW PATH IS IMPORTANT AND TO RE-USE !\n",
    "root_path = os.path.abspath(os.path.join(current_path, \"..\"))\n",
    "\n",
    "os.makedirs(os.path.join(root_path, \"models/BioModels/SBML\"), exist_ok=True)\n",
    "os.makedirs(os.path.join(root_path, \"models/Reactome/SBML\"), exist_ok=True)\n",
    "os.makedirs(os.path.join(root_path, \"models/Reactome/SBGN\"), exist_ok=True)\n",
    "os.makedirs(os.path.join(root_path, \"metadata\"), exist_ok=True)\n",
    "print(\"Structure : Done.\")\n",
    "\n",
    "\"\"\"\n",
    "COMMON VARIABLES\n",
    "\"\"\"\n",
    "BLUE = '\\033[94m'\n",
    "RED = '\\033[91m'\n",
    "RESET = '\\033[0m'"
   ]
  }
 ],
 "metadata": {
  "kernelspec": {
   "display_name": "Python 3",
   "language": "python",
   "name": "python3"
  },
  "language_info": {
   "codemirror_mode": {
    "name": "ipython",
    "version": 2
   },
   "file_extension": ".py",
   "mimetype": "text/x-python",
   "name": "python",
   "nbconvert_exporter": "python",
   "pygments_lexer": "ipython2",
   "version": "2.7.6"
  }
 },
 "nbformat": 4,
 "nbformat_minor": 5
}
