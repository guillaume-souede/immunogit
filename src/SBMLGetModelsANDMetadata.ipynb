{
 "cells": [
  {
   "cell_type": "code",
   "execution_count": 1,
   "id": "581ade3b-f749-469b-b29c-8e4cb8e6a834",
   "metadata": {},
   "outputs": [],
   "source": [
    "import os\n",
    "import zipfile\n",
    "import requests\n",
    "import json\n",
    "from bioservices import BioModels"
   ]
  },
  {
   "cell_type": "code",
   "execution_count": 2,
   "id": "c596b0a2-e96c-47d3-89e8-cdc11493980c",
   "metadata": {},
   "outputs": [
    {
     "name": "stderr",
     "output_type": "stream",
     "text": [
      "\u001b[32mINFO    [bioservices.BioModels:363]: \u001b[0m \u001b[32mInitialising BioModels service (REST)\u001b[0m\n"
     ]
    }
   ],
   "source": [
    "s = BioModels()"
   ]
  },
  {
   "cell_type": "code",
   "execution_count": 3,
   "id": "21e9c9c8-bd13-4ecf-977b-ea62a45a10d6",
   "metadata": {},
   "outputs": [],
   "source": [
    "def get_all_models(query, page_size=10):\n",
    "    \"\"\"\n",
    "    Fonction pour récupérer tous les modèles correspondant à la requête avec pagination.\n",
    "    \"\"\"\n",
    "    models = []\n",
    "    offset = 0\n",
    "\n",
    "    while True:\n",
    "        try:\n",
    "            search_results = s.search(query, offset=offset)\n",
    "            \n",
    "            if 'models' not in search_results or not search_results['models']:\n",
    "                break\n",
    "            \n",
    "            models.extend(search_results['models'])\n",
    "            offset += page_size\n",
    "            print(f\"Page {offset // page_size} téléchargée, {len(search_results['models'])} modèles récupérés.\")\n",
    "        \n",
    "        except Exception as e:\n",
    "            print(f\"Erreur lors de la récupération des modèles : {e}\")\n",
    "            break\n",
    "    \n",
    "    return models"
   ]
  },
  {
   "cell_type": "code",
   "execution_count": 10,
   "id": "9503e0b0-cf7d-4900-9eb0-396c4b216e1f",
   "metadata": {},
   "outputs": [],
   "source": [
    "def download_model_file(model_id, directory):\n",
    "    \"\"\"\n",
    "    Télécharge le fichier ZIP du modèle BioModels, extrait uniquement le premier fichier .xml,\n",
    "    et supprime le ZIP ensuite.\n",
    "    \"\"\"\n",
    "    try:\n",
    "        # Créer le chemin du ZIP\n",
    "        zip_filename = f\"{model_id}.zip\"\n",
    "        zip_path = os.path.join(directory, zip_filename)\n",
    "\n",
    "        # Télécharger le ZIP\n",
    "        s.get_model_download(model_id, output_filename=zip_path)\n",
    "\n",
    "        # Extraire uniquement le premier fichier .xml trouvé\n",
    "        with zipfile.ZipFile(zip_path, 'r') as zip_ref:\n",
    "            xml_files = [f for f in zip_ref.namelist() if f.endswith('.xml') and not f.lower().endswith('_urn.xml') and not f.lower().endswith('manifest.xml')]\n",
    "            if not xml_files:\n",
    "                print(f\"Aucun fichier XML trouvé dans le ZIP pour {model_id}\")\n",
    "                return None\n",
    "\n",
    "            xml_filename = xml_files[0]  # Prendre le premier fichier .xml\n",
    "            zip_ref.extract(xml_filename, directory)\n",
    "\n",
    "            extracted_path = os.path.join(directory, os.path.basename(xml_filename))\n",
    "            print(f\"Fichier SBML extrait : {extracted_path}\")\n",
    "\n",
    "        # Supprimer le fichier ZIP\n",
    "        os.remove(zip_path)\n",
    "\n",
    "        return extracted_path\n",
    "\n",
    "    except Exception as e:\n",
    "        print(f\"Erreur lors du téléchargement du modèle {model_id}: {e}\")\n",
    "        return None"
   ]
  },
  {
   "cell_type": "code",
   "execution_count": 14,
   "id": "4850e9ab-fb98-4847-9093-75e0e7e00e32",
   "metadata": {},
   "outputs": [],
   "source": [
    "def download_model_with_metadata(model_data, base_directory):\n",
    "    \"\"\"\n",
    "    Télécharge le modèle et ses métadonnées, puis les enregistre dans un fichier zip.\n",
    "    \"\"\"\n",
    "    try:\n",
    "        model_id = model_data['id']\n",
    "        #sbml_url = f\"https://www.ebi.ac.uk/biomodels/download?mid={model_id}&format=sbml\"\n",
    "        title = model_data.get('name', \"\").lower()\n",
    "        keywords = model_data.get('submitter_keywords', \"\").lower()\n",
    "\n",
    "        #if not sbml_url:\n",
    "        #    print(f\"Aucune URL trouvée pour le modèle {model_id}.\")\n",
    "        #    return\n",
    "\n",
    "        # Déterminer le dossier de destination\n",
    "        if \"therapy\" in title:\n",
    "            directory = os.path.join(base_directory, \"Therapy\")\n",
    "        elif \"immune system\" in title:\n",
    "            directory = os.path.join(base_directory, \"Immune_system\")\n",
    "        elif \"immune response\" in title:\n",
    "            directory = os.path.join(base_directory, \"Immune_response\")\n",
    "        elif \"cell\" in title:\n",
    "            directory = os.path.join(base_directory, \"Cell_Immune\")\n",
    "        elif \"apopto\" in title:\n",
    "            directory = os.path.join(base_directory, \"Cell_Immune\")\n",
    "        elif \"lympho\" in title:\n",
    "            directory = os.path.join(base_directory, \"Cell_Immune\")\n",
    "        elif \"regulation\" in title:\n",
    "            directory = os.path.join(base_directory, \"Immune_Regulation\")\n",
    "        elif \"interaction\" in title:\n",
    "            directory = os.path.join(base_directory, \"Immuno_interaction\")\n",
    "        elif \"infection\" in title:\n",
    "            directory = os.path.join(base_directory, \"Infection\")\n",
    "        elif \"memory\" in title:\n",
    "            directory = os.path.join(base_directory, \"Memory_Response\")\n",
    "        elif \"body\" in title:\n",
    "            directory = os.path.join(base_directory, \"Antibody\")\n",
    "        elif \"bodies\" in title:\n",
    "            directory = os.path.join(base_directory, \"Antibody\")\n",
    "        elif \"complement system\" in title:\n",
    "            directory = os.path.join(base_directory, \"Complement_System\")\n",
    "        elif \"complement_system\" in title:\n",
    "            directory = os.path.join(base_directory, \"Complement_System\")\n",
    "        elif \"amyloid-beta\" in title:\n",
    "            directory = os.path.join(base_directory, \"Nervous_System\")\n",
    "        elif \"aβ\" in title:\n",
    "            directory = os.path.join(base_directory, \"Nervous_System\")\n",
    "        elif \"signal transduction\" in title:\n",
    "            directory = os.path.join(base_directory, \"Immune_Signal_Transduction\")\n",
    "        elif \"beta arrestin\" in title:\n",
    "            directory = os.path.join(base_directory, \"Immune_Signal_Transduction\")\n",
    "        else:\n",
    "            directory = os.path.join(base_directory, \"Immune\")\n",
    "        # Créer le dossier s'il n'existe pas\n",
    "        os.makedirs(directory, exist_ok=True)\n",
    "\n",
    "        # Télécharger le fichier SBML\n",
    "        model_path = download_model_file(model_id, directory)\n",
    "        if model_path is None:\n",
    "            return\n",
    "\n",
    "        # Récupérer les métadonnées complètes\n",
    "        try:\n",
    "            full_metadata = s.get_model(model_id)\n",
    "        except Exception as e:\n",
    "            print(f\"Erreur lors de la récupération des métadonnées complètes pour {model_id}: {e}\")\n",
    "            return\n",
    "\n",
    "        # Sauvegarder les métadonnées en JSON\n",
    "        metadata_filename = f\"{model_id}_metadata.json\"\n",
    "        metadata_path = os.path.join(directory, metadata_filename)\n",
    "        with open(metadata_path, 'w', encoding='utf-8') as f:\n",
    "            json.dump(full_metadata, f, ensure_ascii=False, indent=4)\n",
    "\n",
    "        # Créer un fichier zip contenant le modèle et ses métadonnées\n",
    "        zip_filename = os.path.join(directory, f\"{model_id}.zip\")\n",
    "        with zipfile.ZipFile(zip_filename, 'w') as zipf:\n",
    "            zipf.write(model_path, os.path.basename(model_path))\n",
    "            zipf.write(metadata_path, os.path.basename(metadata_path))\n",
    "\n",
    "        # Supprimer les fichiers temporaires après zippage\n",
    "        os.remove(model_path)\n",
    "        os.remove(metadata_path)\n",
    "\n",
    "        print(f\"Modèle {model_id} et ses métadonnées enregistrés dans {zip_filename}\")\n",
    "\n",
    "    except Exception as e:\n",
    "        print(f\"Erreur lors du traitement du modèle {model_data['id']} : {e}\")"
   ]
  },
  {
   "cell_type": "code",
   "execution_count": 12,
   "id": "19fd1571-3782-44c0-b41e-be0416862fc5",
   "metadata": {},
   "outputs": [],
   "source": [
    "def main():\n",
    "    # Requête mise à jour\n",
    "    query = (\n",
    "        'immun* AND curationstatus:\"Manually curated\" AND modelformat:\"SBML\" AND TAXONOMY:9606 AND NOT submitter_keywords:\"Immuno-oncology\"'\n",
    "    )\n",
    "\n",
    "    # Répertoire principal\n",
    "    base_directory = \"downloaded_models_SBML\"\n",
    "    os.makedirs(base_directory, exist_ok=True)\n",
    "\n",
    "    # Obtenir tous les modèles\n",
    "    models = get_all_models(query)\n",
    "\n",
    "    # Télécharger chaque modèle et les classer\n",
    "    for model_data in models:\n",
    "        download_model_with_metadata(model_data, base_directory)"
   ]
  },
  {
   "cell_type": "code",
   "execution_count": 15,
   "id": "bb115c43-fcc1-4037-af0b-fa0bf9efa4c4",
   "metadata": {},
   "outputs": [
    {
     "name": "stdout",
     "output_type": "stream",
     "text": [
      "Page 1 téléchargée, 10 modèles récupérés.\n",
      "Page 2 téléchargée, 10 modèles récupérés.\n",
      "Page 3 téléchargée, 10 modèles récupérés.\n",
      "Page 4 téléchargée, 10 modèles récupérés.\n",
      "Page 5 téléchargée, 10 modèles récupérés.\n",
      "Page 6 téléchargée, 10 modèles récupérés.\n",
      "Page 7 téléchargée, 3 modèles récupérés.\n"
     ]
    },
    {
     "name": "stderr",
     "output_type": "stream",
     "text": [
      "\u001b[32mINFO    [bioservices.BioModels:171]: \u001b[0m \u001b[32mSaving file BIOMD0000000573.zip\u001b[0m\n"
     ]
    },
    {
     "name": "stdout",
     "output_type": "stream",
     "text": [
      "Fichier SBML extrait : downloaded_models_logical\\Immune_response\\BIOMD0000000573_url.xml\n",
      "Modèle BIOMD0000000573 et ses métadonnées enregistrés dans downloaded_models_logical\\Immune_response\\BIOMD0000000573.zip\n"
     ]
    },
    {
     "name": "stderr",
     "output_type": "stream",
     "text": [
      "\u001b[32mINFO    [bioservices.BioModels:171]: \u001b[0m \u001b[32mSaving file BIOMD0000000684.zip\u001b[0m\n"
     ]
    },
    {
     "name": "stdout",
     "output_type": "stream",
     "text": [
      "Fichier SBML extrait : downloaded_models_logical\\Memory_Response\\BIOMD0000000684_url.xml\n",
      "Modèle BIOMD0000000684 et ses métadonnées enregistrés dans downloaded_models_logical\\Memory_Response\\BIOMD0000000684.zip\n"
     ]
    },
    {
     "name": "stderr",
     "output_type": "stream",
     "text": [
      "\u001b[32mINFO    [bioservices.BioModels:171]: \u001b[0m \u001b[32mSaving file BIOMD0000000929.zip\u001b[0m\n"
     ]
    },
    {
     "name": "stdout",
     "output_type": "stream",
     "text": [
      "Fichier SBML extrait : downloaded_models_logical\\Therapy\\Li2016.xml\n",
      "Modèle BIOMD0000000929 et ses métadonnées enregistrés dans downloaded_models_logical\\Therapy\\BIOMD0000000929.zip\n"
     ]
    },
    {
     "name": "stderr",
     "output_type": "stream",
     "text": [
      "\u001b[32mINFO    [bioservices.BioModels:171]: \u001b[0m \u001b[32mSaving file BIOMD0000000711.zip\u001b[0m\n"
     ]
    },
    {
     "name": "stdout",
     "output_type": "stream",
     "text": [
      "Fichier SBML extrait : downloaded_models_logical\\Immune_response\\Hancioglu2007 - Human Immune Response to Influenza A virus.xml\n",
      "Modèle BIOMD0000000711 et ses métadonnées enregistrés dans downloaded_models_logical\\Immune_response\\BIOMD0000000711.zip\n"
     ]
    },
    {
     "name": "stderr",
     "output_type": "stream",
     "text": [
      "\u001b[32mINFO    [bioservices.BioModels:171]: \u001b[0m \u001b[32mSaving file BIOMD0000000710.zip\u001b[0m\n"
     ]
    },
    {
     "name": "stdout",
     "output_type": "stream",
     "text": [
      "Fichier SBML extrait : downloaded_models_logical\\Immune_system\\Hernandez-Vargas2012 - Innate immune system dynamics to Influenza virus.xml\n",
      "Modèle BIOMD0000000710 et ses métadonnées enregistrés dans downloaded_models_logical\\Immune_system\\BIOMD0000000710.zip\n"
     ]
    },
    {
     "name": "stderr",
     "output_type": "stream",
     "text": [
      "\u001b[32mINFO    [bioservices.BioModels:171]: \u001b[0m \u001b[32mSaving file BIOMD0000000924.zip\u001b[0m\n"
     ]
    },
    {
     "name": "stdout",
     "output_type": "stream",
     "text": [
      "Fichier SBML extrait : downloaded_models_logical\\Immune_response\\Final Version (7).xml\n",
      "Modèle BIOMD0000000924 et ses métadonnées enregistrés dans downloaded_models_logical\\Immune_response\\BIOMD0000000924.zip\n"
     ]
    },
    {
     "name": "stderr",
     "output_type": "stream",
     "text": [
      "\u001b[32mINFO    [bioservices.BioModels:171]: \u001b[0m \u001b[32mSaving file BIOMD0000000731.zip\u001b[0m\n"
     ]
    },
    {
     "name": "stdout",
     "output_type": "stream",
     "text": [
      "Fichier SBML extrait : downloaded_models_logical\\Immuno_interaction\\22051568_Tessi.xml\n",
      "Modèle BIOMD0000000731 et ses métadonnées enregistrés dans downloaded_models_logical\\Immuno_interaction\\BIOMD0000000731.zip\n"
     ]
    },
    {
     "name": "stderr",
     "output_type": "stream",
     "text": [
      "\u001b[32mINFO    [bioservices.BioModels:171]: \u001b[0m \u001b[32mSaving file BIOMD0000001052.zip\u001b[0m\n"
     ]
    },
    {
     "name": "stdout",
     "output_type": "stream",
     "text": [
      "Fichier SBML extrait : downloaded_models_logical\\Immune_system\\Tumor_cells_immune_system_competition.xml\n",
      "Modèle BIOMD0000001052 et ses métadonnées enregistrés dans downloaded_models_logical\\Immune_system\\BIOMD0000001052.zip\n"
     ]
    },
    {
     "name": "stderr",
     "output_type": "stream",
     "text": [
      "\u001b[32mINFO    [bioservices.BioModels:171]: \u001b[0m \u001b[32mSaving file BIOMD0000000876.zip\u001b[0m\n"
     ]
    },
    {
     "name": "stdout",
     "output_type": "stream",
     "text": [
      "Fichier SBML extrait : downloaded_models_logical\\Immune_system\\Aavani2019.xml\n",
      "Modèle BIOMD0000000876 et ses métadonnées enregistrés dans downloaded_models_logical\\Immune_system\\BIOMD0000000876.zip\n"
     ]
    },
    {
     "name": "stderr",
     "output_type": "stream",
     "text": [
      "\u001b[32mINFO    [bioservices.BioModels:171]: \u001b[0m \u001b[32mSaving file BIOMD0000000905.zip\u001b[0m\n"
     ]
    },
    {
     "name": "stdout",
     "output_type": "stream",
     "text": [
      "Fichier SBML extrait : downloaded_models_logical\\Immune_system\\Dubey2007_model2.xml\n",
      "Modèle BIOMD0000000905 et ses métadonnées enregistrés dans downloaded_models_logical\\Immune_system\\BIOMD0000000905.zip\n"
     ]
    },
    {
     "name": "stderr",
     "output_type": "stream",
     "text": [
      "\u001b[32mINFO    [bioservices.BioModels:171]: \u001b[0m \u001b[32mSaving file BIOMD0000000906.zip\u001b[0m\n"
     ]
    },
    {
     "name": "stdout",
     "output_type": "stream",
     "text": [
      "Fichier SBML extrait : downloaded_models_logical\\Immune_system\\Dubey2007_model1.xml\n",
      "Modèle BIOMD0000000906 et ses métadonnées enregistrés dans downloaded_models_logical\\Immune_system\\BIOMD0000000906.zip\n"
     ]
    },
    {
     "name": "stderr",
     "output_type": "stream",
     "text": [
      "\u001b[32mINFO    [bioservices.BioModels:171]: \u001b[0m \u001b[32mSaving file BIOMD0000000529.zip\u001b[0m\n"
     ]
    },
    {
     "name": "stdout",
     "output_type": "stream",
     "text": [
      "Fichier SBML extrait : downloaded_models_logical\\Immune_response\\BIOMD0000000529_url.xml\n",
      "Modèle BIOMD0000000529 et ses métadonnées enregistrés dans downloaded_models_logical\\Immune_response\\BIOMD0000000529.zip\n"
     ]
    },
    {
     "name": "stderr",
     "output_type": "stream",
     "text": [
      "\u001b[32mINFO    [bioservices.BioModels:171]: \u001b[0m \u001b[32mSaving file BIOMD0000000528.zip\u001b[0m\n"
     ]
    },
    {
     "name": "stdout",
     "output_type": "stream",
     "text": [
      "Fichier SBML extrait : downloaded_models_logical\\Immune_response\\BIOMD0000000528_url.xml\n",
      "Modèle BIOMD0000000528 et ses métadonnées enregistrés dans downloaded_models_logical\\Immune_response\\BIOMD0000000528.zip\n"
     ]
    },
    {
     "name": "stderr",
     "output_type": "stream",
     "text": [
      "\u001b[32mINFO    [bioservices.BioModels:171]: \u001b[0m \u001b[32mSaving file BIOMD0000000930.zip\u001b[0m\n"
     ]
    },
    {
     "name": "stdout",
     "output_type": "stream",
     "text": [
      "Fichier SBML extrait : downloaded_models_logical\\Therapy\\Liu2017.xml\n",
      "Modèle BIOMD0000000930 et ses métadonnées enregistrés dans downloaded_models_logical\\Therapy\\BIOMD0000000930.zip\n"
     ]
    },
    {
     "name": "stderr",
     "output_type": "stream",
     "text": [
      "\u001b[32mINFO    [bioservices.BioModels:171]: \u001b[0m \u001b[32mSaving file BIOMD0000000634.zip\u001b[0m\n"
     ]
    },
    {
     "name": "stdout",
     "output_type": "stream",
     "text": [
      "Fichier SBML extrait : downloaded_models_logical\\Nervous_System\\BIOMD0000000634_url.xml\n",
      "Modèle BIOMD0000000634 et ses métadonnées enregistrés dans downloaded_models_logical\\Nervous_System\\BIOMD0000000634.zip\n"
     ]
    },
    {
     "name": "stderr",
     "output_type": "stream",
     "text": [
      "\u001b[32mINFO    [bioservices.BioModels:171]: \u001b[0m \u001b[32mSaving file BIOMD0000000724.zip\u001b[0m\n"
     ]
    },
    {
     "name": "stdout",
     "output_type": "stream",
     "text": [
      "Fichier SBML extrait : downloaded_models_logical\\Immune_Regulation\\Theinmozhi_2018.xml\n",
      "Modèle BIOMD0000000724 et ses métadonnées enregistrés dans downloaded_models_logical\\Immune_Regulation\\BIOMD0000000724.zip\n"
     ]
    },
    {
     "name": "stderr",
     "output_type": "stream",
     "text": [
      "\u001b[32mINFO    [bioservices.BioModels:171]: \u001b[0m \u001b[32mSaving file BIOMD0000000732.zip\u001b[0m\n"
     ]
    },
    {
     "name": "stdout",
     "output_type": "stream",
     "text": [
      "Fichier SBML extrait : downloaded_models_logical\\Therapy\\Kirschner_1998.xml\n",
      "Modèle BIOMD0000000732 et ses métadonnées enregistrés dans downloaded_models_logical\\Therapy\\BIOMD0000000732.zip\n"
     ]
    },
    {
     "name": "stderr",
     "output_type": "stream",
     "text": [
      "\u001b[32mINFO    [bioservices.BioModels:171]: \u001b[0m \u001b[32mSaving file BIOMD0000000887.zip\u001b[0m\n"
     ]
    },
    {
     "name": "stdout",
     "output_type": "stream",
     "text": [
      "Fichier SBML extrait : downloaded_models_logical\\Infection\\Lim2014.xml\n",
      "Modèle BIOMD0000000887 et ses métadonnées enregistrés dans downloaded_models_logical\\Infection\\BIOMD0000000887.zip\n"
     ]
    },
    {
     "name": "stderr",
     "output_type": "stream",
     "text": [
      "\u001b[32mINFO    [bioservices.BioModels:171]: \u001b[0m \u001b[32mSaving file BIOMD0000000889.zip\u001b[0m\n"
     ]
    },
    {
     "name": "stdout",
     "output_type": "stream",
     "text": [
      "Fichier SBML extrait : downloaded_models_logical\\Immune_response\\Fribourg2014.xml\n",
      "Modèle BIOMD0000000889 et ses métadonnées enregistrés dans downloaded_models_logical\\Immune_response\\BIOMD0000000889.zip\n"
     ]
    },
    {
     "name": "stderr",
     "output_type": "stream",
     "text": [
      "\u001b[32mINFO    [bioservices.BioModels:171]: \u001b[0m \u001b[32mSaving file BIOMD0000000477.zip\u001b[0m\n"
     ]
    },
    {
     "name": "stdout",
     "output_type": "stream",
     "text": [
      "Fichier SBML extrait : downloaded_models_logical\\Immune_Signal_Transduction\\BIOMD0000000477_url.xml\n",
      "Modèle BIOMD0000000477 et ses métadonnées enregistrés dans downloaded_models_logical\\Immune_Signal_Transduction\\BIOMD0000000477.zip\n"
     ]
    },
    {
     "name": "stderr",
     "output_type": "stream",
     "text": [
      "\u001b[32mINFO    [bioservices.BioModels:171]: \u001b[0m \u001b[32mSaving file BIOMD0000000963.zip\u001b[0m\n"
     ]
    },
    {
     "name": "stdout",
     "output_type": "stream",
     "text": [
      "Fichier SBML extrait : downloaded_models_logical\\Immune\\Weitz2020.xml\n",
      "Modèle BIOMD0000000963 et ses métadonnées enregistrés dans downloaded_models_logical\\Immune\\BIOMD0000000963.zip\n"
     ]
    },
    {
     "name": "stderr",
     "output_type": "stream",
     "text": [
      "\u001b[32mINFO    [bioservices.BioModels:171]: \u001b[0m \u001b[32mSaving file BIOMD0000000249.zip\u001b[0m\n"
     ]
    },
    {
     "name": "stdout",
     "output_type": "stream",
     "text": [
      "Fichier SBML extrait : downloaded_models_logical\\Immune\\BIOMD0000000249_url.xml\n",
      "Modèle BIOMD0000000249 et ses métadonnées enregistrés dans downloaded_models_logical\\Immune\\BIOMD0000000249.zip\n"
     ]
    },
    {
     "name": "stderr",
     "output_type": "stream",
     "text": [
      "\u001b[32mINFO    [bioservices.BioModels:171]: \u001b[0m \u001b[32mSaving file BIOMD0000000661.zip\u001b[0m\n"
     ]
    },
    {
     "name": "stdout",
     "output_type": "stream",
     "text": [
      "Fichier SBML extrait : downloaded_models_logical\\Cell_Immune\\BIOMD0000000661_url.xml\n",
      "Modèle BIOMD0000000661 et ses métadonnées enregistrés dans downloaded_models_logical\\Cell_Immune\\BIOMD0000000661.zip\n"
     ]
    },
    {
     "name": "stderr",
     "output_type": "stream",
     "text": [
      "\u001b[32mINFO    [bioservices.BioModels:171]: \u001b[0m \u001b[32mSaving file BIOMD0000000683.zip\u001b[0m\n"
     ]
    },
    {
     "name": "stdout",
     "output_type": "stream",
     "text": [
      "Fichier SBML extrait : downloaded_models_logical\\Memory_Response\\MODEL1006230062.xml\n",
      "Modèle BIOMD0000000683 et ses métadonnées enregistrés dans downloaded_models_logical\\Memory_Response\\BIOMD0000000683.zip\n"
     ]
    },
    {
     "name": "stderr",
     "output_type": "stream",
     "text": [
      "\u001b[32mINFO    [bioservices.BioModels:171]: \u001b[0m \u001b[32mSaving file BIOMD0000000294.zip\u001b[0m\n"
     ]
    },
    {
     "name": "stdout",
     "output_type": "stream",
     "text": [
      "Fichier SBML extrait : downloaded_models_logical\\Immune\\BIOMD0000000294_url.xml\n",
      "Modèle BIOMD0000000294 et ses métadonnées enregistrés dans downloaded_models_logical\\Immune\\BIOMD0000000294.zip\n"
     ]
    },
    {
     "name": "stderr",
     "output_type": "stream",
     "text": [
      "\u001b[32mINFO    [bioservices.BioModels:171]: \u001b[0m \u001b[32mSaving file BIOMD0000000462.zip\u001b[0m\n"
     ]
    },
    {
     "name": "stdout",
     "output_type": "stream",
     "text": [
      "Fichier SBML extrait : downloaded_models_logical\\Nervous_System\\BIOMD0000000462_url.xml\n",
      "Modèle BIOMD0000000462 et ses métadonnées enregistrés dans downloaded_models_logical\\Nervous_System\\BIOMD0000000462.zip\n"
     ]
    },
    {
     "name": "stderr",
     "output_type": "stream",
     "text": [
      "\u001b[32mINFO    [bioservices.BioModels:171]: \u001b[0m \u001b[32mSaving file BIOMD0000000534.zip\u001b[0m\n"
     ]
    },
    {
     "name": "stdout",
     "output_type": "stream",
     "text": [
      "Fichier SBML extrait : downloaded_models_logical\\Immune\\BIOMD0000000534_url.xml\n",
      "Modèle BIOMD0000000534 et ses métadonnées enregistrés dans downloaded_models_logical\\Immune\\BIOMD0000000534.zip\n"
     ]
    },
    {
     "name": "stderr",
     "output_type": "stream",
     "text": [
      "\u001b[32mINFO    [bioservices.BioModels:171]: \u001b[0m \u001b[32mSaving file BIOMD0000000535.zip\u001b[0m\n"
     ]
    },
    {
     "name": "stdout",
     "output_type": "stream",
     "text": [
      "Fichier SBML extrait : downloaded_models_logical\\Antibody\\BIOMD0000000535_url.xml\n",
      "Modèle BIOMD0000000535 et ses métadonnées enregistrés dans downloaded_models_logical\\Antibody\\BIOMD0000000535.zip\n"
     ]
    },
    {
     "name": "stderr",
     "output_type": "stream",
     "text": [
      "\u001b[32mINFO    [bioservices.BioModels:171]: \u001b[0m \u001b[32mSaving file BIOMD0000000537.zip\u001b[0m\n"
     ]
    },
    {
     "name": "stdout",
     "output_type": "stream",
     "text": [
      "Fichier SBML extrait : downloaded_models_logical\\Antibody\\BIOMD0000000537_url.xml\n",
      "Modèle BIOMD0000000537 et ses métadonnées enregistrés dans downloaded_models_logical\\Antibody\\BIOMD0000000537.zip\n"
     ]
    },
    {
     "name": "stderr",
     "output_type": "stream",
     "text": [
      "\u001b[32mINFO    [bioservices.BioModels:171]: \u001b[0m \u001b[32mSaving file BIOMD0000000536.zip\u001b[0m\n"
     ]
    },
    {
     "name": "stdout",
     "output_type": "stream",
     "text": [
      "Fichier SBML extrait : downloaded_models_logical\\Immune\\BIOMD0000000536_url.xml\n",
      "Modèle BIOMD0000000536 et ses métadonnées enregistrés dans downloaded_models_logical\\Immune\\BIOMD0000000536.zip\n"
     ]
    },
    {
     "name": "stderr",
     "output_type": "stream",
     "text": [
      "\u001b[32mINFO    [bioservices.BioModels:171]: \u001b[0m \u001b[32mSaving file BIOMD0000000220.zip\u001b[0m\n"
     ]
    },
    {
     "name": "stdout",
     "output_type": "stream",
     "text": [
      "Fichier SBML extrait : downloaded_models_logical\\Cell_Immune\\BIOMD0000000220_url.xml\n",
      "Modèle BIOMD0000000220 et ses métadonnées enregistrés dans downloaded_models_logical\\Cell_Immune\\BIOMD0000000220.zip\n"
     ]
    },
    {
     "name": "stderr",
     "output_type": "stream",
     "text": [
      "\u001b[32mINFO    [bioservices.BioModels:171]: \u001b[0m \u001b[32mSaving file BIOMD0000000663.zip\u001b[0m\n"
     ]
    },
    {
     "name": "stdout",
     "output_type": "stream",
     "text": [
      "Fichier SBML extrait : downloaded_models_logical\\Cell_Immune\\BIOMD0000000663_url.xml\n",
      "Modèle BIOMD0000000663 et ses métadonnées enregistrés dans downloaded_models_logical\\Cell_Immune\\BIOMD0000000663.zip\n"
     ]
    },
    {
     "name": "stderr",
     "output_type": "stream",
     "text": [
      "\u001b[32mINFO    [bioservices.BioModels:171]: \u001b[0m \u001b[32mSaving file BIOMD0000000672.zip\u001b[0m\n"
     ]
    },
    {
     "name": "stdout",
     "output_type": "stream",
     "text": [
      "Fichier SBML extrait : downloaded_models_logical\\Immune\\BIOMD0000000672_url.xml\n",
      "Modèle BIOMD0000000672 et ses métadonnées enregistrés dans downloaded_models_logical\\Immune\\BIOMD0000000672.zip\n"
     ]
    },
    {
     "name": "stderr",
     "output_type": "stream",
     "text": [
      "\u001b[32mINFO    [bioservices.BioModels:171]: \u001b[0m \u001b[32mSaving file BIOMD0000000707.zip\u001b[0m\n"
     ]
    },
    {
     "name": "stdout",
     "output_type": "stream",
     "text": [
      "Fichier SBML extrait : downloaded_models_logical\\Infection\\MODEL1006230047.xml\n",
      "Modèle BIOMD0000000707 et ses métadonnées enregistrés dans downloaded_models_logical\\Infection\\BIOMD0000000707.zip\n"
     ]
    },
    {
     "name": "stderr",
     "output_type": "stream",
     "text": [
      "\u001b[32mINFO    [bioservices.BioModels:171]: \u001b[0m \u001b[32mSaving file BIOMD0000000685.zip\u001b[0m\n"
     ]
    },
    {
     "name": "stdout",
     "output_type": "stream",
     "text": [
      "Fichier SBML extrait : downloaded_models_logical\\Cell_Immune\\MODEL1006230094_url.xml\n",
      "Modèle BIOMD0000000685 et ses métadonnées enregistrés dans downloaded_models_logical\\Cell_Immune\\BIOMD0000000685.zip\n"
     ]
    },
    {
     "name": "stderr",
     "output_type": "stream",
     "text": [
      "\u001b[32mINFO    [bioservices.BioModels:171]: \u001b[0m \u001b[32mSaving file BIOMD0000000303.zip\u001b[0m\n"
     ]
    },
    {
     "name": "stdout",
     "output_type": "stream",
     "text": [
      "Fichier SBML extrait : downloaded_models_logical\\Complement_System\\BIOMD0000000303_url.xml\n",
      "Modèle BIOMD0000000303 et ses métadonnées enregistrés dans downloaded_models_logical\\Complement_System\\BIOMD0000000303.zip\n"
     ]
    },
    {
     "name": "stderr",
     "output_type": "stream",
     "text": [
      "\u001b[32mINFO    [bioservices.BioModels:171]: \u001b[0m \u001b[32mSaving file BIOMD0000000976.zip\u001b[0m\n"
     ]
    },
    {
     "name": "stdout",
     "output_type": "stream",
     "text": [
      "Fichier SBML extrait : downloaded_models_logical\\Immune\\Ghanbari2020.xml\n",
      "Modèle BIOMD0000000976 et ses métadonnées enregistrés dans downloaded_models_logical\\Immune\\BIOMD0000000976.zip\n"
     ]
    },
    {
     "name": "stderr",
     "output_type": "stream",
     "text": [
      "\u001b[32mINFO    [bioservices.BioModels:171]: \u001b[0m \u001b[32mSaving file BIOMD0000000979.zip\u001b[0m\n"
     ]
    },
    {
     "name": "stdout",
     "output_type": "stream",
     "text": [
      "Fichier SBML extrait : downloaded_models_logical\\Infection\\Malkov2020.xml\n",
      "Modèle BIOMD0000000979 et ses métadonnées enregistrés dans downloaded_models_logical\\Infection\\BIOMD0000000979.zip\n"
     ]
    },
    {
     "name": "stderr",
     "output_type": "stream",
     "text": [
      "\u001b[32mINFO    [bioservices.BioModels:171]: \u001b[0m \u001b[32mSaving file BIOMD0000000980.zip\u001b[0m\n"
     ]
    },
    {
     "name": "stdout",
     "output_type": "stream",
     "text": [
      "Fichier SBML extrait : downloaded_models_logical\\Infection\\Malkov2020.xml\n",
      "Modèle BIOMD0000000980 et ses métadonnées enregistrés dans downloaded_models_logical\\Infection\\BIOMD0000000980.zip\n"
     ]
    },
    {
     "name": "stderr",
     "output_type": "stream",
     "text": [
      "\u001b[32mINFO    [bioservices.BioModels:171]: \u001b[0m \u001b[32mSaving file BIOMD0000000427.zip\u001b[0m\n"
     ]
    },
    {
     "name": "stdout",
     "output_type": "stream",
     "text": [
      "Fichier SBML extrait : downloaded_models_logical\\Immune\\BIOMD0000000427_url.xml\n",
      "Modèle BIOMD0000000427 et ses métadonnées enregistrés dans downloaded_models_logical\\Immune\\BIOMD0000000427.zip\n"
     ]
    },
    {
     "name": "stderr",
     "output_type": "stream",
     "text": [
      "\u001b[32mINFO    [bioservices.BioModels:171]: \u001b[0m \u001b[32mSaving file BIOMD0000000642.zip\u001b[0m\n"
     ]
    },
    {
     "name": "stdout",
     "output_type": "stream",
     "text": [
      "Fichier SBML extrait : downloaded_models_logical\\Immune\\BIOMD0000000642_url.xml\n",
      "Modèle BIOMD0000000642 et ses métadonnées enregistrés dans downloaded_models_logical\\Immune\\BIOMD0000000642.zip\n"
     ]
    },
    {
     "name": "stderr",
     "output_type": "stream",
     "text": [
      "\u001b[32mINFO    [bioservices.BioModels:171]: \u001b[0m \u001b[32mSaving file BIOMD0000000988.zip\u001b[0m\n"
     ]
    },
    {
     "name": "stdout",
     "output_type": "stream",
     "text": [
      "Fichier SBML extrait : downloaded_models_logical\\Immune\\Westerhoff2020.xml\n",
      "Modèle BIOMD0000000988 et ses métadonnées enregistrés dans downloaded_models_logical\\Immune\\BIOMD0000000988.zip\n"
     ]
    },
    {
     "name": "stderr",
     "output_type": "stream",
     "text": [
      "\u001b[32mINFO    [bioservices.BioModels:171]: \u001b[0m \u001b[32mSaving file BIOMD0000000714.zip\u001b[0m\n"
     ]
    },
    {
     "name": "stdout",
     "output_type": "stream",
     "text": [
      "Fichier SBML extrait : downloaded_models_logical\\Immune\\HealthyOutcome.xml\n",
      "Modèle BIOMD0000000714 et ses métadonnées enregistrés dans downloaded_models_logical\\Immune\\BIOMD0000000714.zip\n"
     ]
    },
    {
     "name": "stderr",
     "output_type": "stream",
     "text": [
      "\u001b[32mINFO    [bioservices.BioModels:171]: \u001b[0m \u001b[32mSaving file BIOMD0000001017.zip\u001b[0m\n"
     ]
    },
    {
     "name": "stdout",
     "output_type": "stream",
     "text": [
      "Fichier SBML extrait : downloaded_models_logical\\Complement_System\\Bakshi2020 minimal model.xml\n",
      "Modèle BIOMD0000001017 et ses métadonnées enregistrés dans downloaded_models_logical\\Complement_System\\BIOMD0000001017.zip\n"
     ]
    },
    {
     "name": "stderr",
     "output_type": "stream",
     "text": [
      "\u001b[32mINFO    [bioservices.BioModels:171]: \u001b[0m \u001b[32mSaving file BIOMD0000001016.zip\u001b[0m\n"
     ]
    },
    {
     "name": "stdout",
     "output_type": "stream",
     "text": [
      "Fichier SBML extrait : downloaded_models_logical\\Complement_System\\Bakshi2020 truncated minimal model.xml\n",
      "Modèle BIOMD0000001016 et ses métadonnées enregistrés dans downloaded_models_logical\\Complement_System\\BIOMD0000001016.zip\n"
     ]
    },
    {
     "name": "stderr",
     "output_type": "stream",
     "text": [
      "\u001b[32mINFO    [bioservices.BioModels:171]: \u001b[0m \u001b[32mSaving file BIOMD0000001018.zip\u001b[0m\n"
     ]
    },
    {
     "name": "stdout",
     "output_type": "stream",
     "text": [
      "Fichier SBML extrait : downloaded_models_logical\\Complement_System\\Bakshi2020 properdin model.xml\n",
      "Modèle BIOMD0000001018 et ses métadonnées enregistrés dans downloaded_models_logical\\Complement_System\\BIOMD0000001018.zip\n"
     ]
    },
    {
     "name": "stderr",
     "output_type": "stream",
     "text": [
      "\u001b[32mINFO    [bioservices.BioModels:171]: \u001b[0m \u001b[32mSaving file BIOMD0000001021.zip\u001b[0m\n"
     ]
    },
    {
     "name": "stdout",
     "output_type": "stream",
     "text": [
      "Fichier SBML extrait : downloaded_models_logical\\Infection\\Lavigne2021 - ODE model.xml\n",
      "Modèle BIOMD0000001021 et ses métadonnées enregistrés dans downloaded_models_logical\\Infection\\BIOMD0000001021.zip\n"
     ]
    },
    {
     "name": "stderr",
     "output_type": "stream",
     "text": [
      "\u001b[32mINFO    [bioservices.BioModels:171]: \u001b[0m \u001b[32mSaving file BIOMD0000001037.zip\u001b[0m\n"
     ]
    },
    {
     "name": "stdout",
     "output_type": "stream",
     "text": [
      "Fichier SBML extrait : downloaded_models_logical\\Cell_Immune\\Alharbi2019 TNM.xml\n",
      "Modèle BIOMD0000001037 et ses métadonnées enregistrés dans downloaded_models_logical\\Cell_Immune\\BIOMD0000001037.zip\n"
     ]
    },
    {
     "name": "stderr",
     "output_type": "stream",
     "text": [
      "\u001b[32mINFO    [bioservices.BioModels:171]: \u001b[0m \u001b[32mSaving file BIOMD0000001038.zip\u001b[0m\n"
     ]
    },
    {
     "name": "stdout",
     "output_type": "stream",
     "text": [
      "Fichier SBML extrait : downloaded_models_logical\\Cell_Immune\\Alharbi2019 TNVM.xml\n",
      "Modèle BIOMD0000001038 et ses métadonnées enregistrés dans downloaded_models_logical\\Cell_Immune\\BIOMD0000001038.zip\n"
     ]
    },
    {
     "name": "stderr",
     "output_type": "stream",
     "text": [
      "\u001b[32mINFO    [bioservices.BioModels:171]: \u001b[0m \u001b[32mSaving file BIOMD0000000789.zip\u001b[0m\n"
     ]
    },
    {
     "name": "stdout",
     "output_type": "stream",
     "text": [
      "Fichier SBML extrait : downloaded_models_logical\\Immune\\Jenner2018.xml\n",
      "Modèle BIOMD0000000789 et ses métadonnées enregistrés dans downloaded_models_logical\\Immune\\BIOMD0000000789.zip\n"
     ]
    },
    {
     "name": "stderr",
     "output_type": "stream",
     "text": [
      "\u001b[32mINFO    [bioservices.BioModels:171]: \u001b[0m \u001b[32mSaving file BIOMD0000000897.zip\u001b[0m\n"
     ]
    },
    {
     "name": "stdout",
     "output_type": "stream",
     "text": [
      "Fichier SBML extrait : downloaded_models_logical\\Immune\\Khajanchi2015.xml\n",
      "Modèle BIOMD0000000897 et ses métadonnées enregistrés dans downloaded_models_logical\\Immune\\BIOMD0000000897.zip\n"
     ]
    },
    {
     "name": "stderr",
     "output_type": "stream",
     "text": [
      "\u001b[32mINFO    [bioservices.BioModels:171]: \u001b[0m \u001b[32mSaving file BIOMD0000000903.zip\u001b[0m\n"
     ]
    },
    {
     "name": "stdout",
     "output_type": "stream",
     "text": [
      "Fichier SBML extrait : downloaded_models_logical\\Immune\\Solis-perez2019.xml\n",
      "Modèle BIOMD0000000903 et ses métadonnées enregistrés dans downloaded_models_logical\\Immune\\BIOMD0000000903.zip\n"
     ]
    },
    {
     "name": "stderr",
     "output_type": "stream",
     "text": [
      "\u001b[32mINFO    [bioservices.BioModels:171]: \u001b[0m \u001b[32mSaving file BIOMD0000001056.zip\u001b[0m\n"
     ]
    },
    {
     "name": "stdout",
     "output_type": "stream",
     "text": [
      "Fichier SBML extrait : downloaded_models_logical\\Cell_Immune\\chulian2021.xml\n",
      "Modèle BIOMD0000001056 et ses métadonnées enregistrés dans downloaded_models_logical\\Cell_Immune\\BIOMD0000001056.zip\n"
     ]
    },
    {
     "name": "stderr",
     "output_type": "stream",
     "text": [
      "\u001b[32mINFO    [bioservices.BioModels:171]: \u001b[0m \u001b[32mSaving file BIOMD0000000659.zip\u001b[0m\n"
     ]
    },
    {
     "name": "stdout",
     "output_type": "stream",
     "text": [
      "Fichier SBML extrait : downloaded_models_logical\\Immune_Regulation\\BIOMD0000000659_url.xml\n",
      "Modèle BIOMD0000000659 et ses métadonnées enregistrés dans downloaded_models_logical\\Immune_Regulation\\BIOMD0000000659.zip\n"
     ]
    },
    {
     "name": "stderr",
     "output_type": "stream",
     "text": [
      "\u001b[32mINFO    [bioservices.BioModels:171]: \u001b[0m \u001b[32mSaving file BIOMD0000000251.zip\u001b[0m\n"
     ]
    },
    {
     "name": "stdout",
     "output_type": "stream",
     "text": [
      "Fichier SBML extrait : downloaded_models_logical\\Cell_Immune\\BIOMD0000000251_url.xml\n",
      "Modèle BIOMD0000000251 et ses métadonnées enregistrés dans downloaded_models_logical\\Cell_Immune\\BIOMD0000000251.zip\n"
     ]
    },
    {
     "name": "stderr",
     "output_type": "stream",
     "text": [
      "\u001b[32mINFO    [bioservices.BioModels:171]: \u001b[0m \u001b[32mSaving file BIOMD0000000250.zip\u001b[0m\n"
     ]
    },
    {
     "name": "stdout",
     "output_type": "stream",
     "text": [
      "Fichier SBML extrait : downloaded_models_logical\\Cell_Immune\\BIOMD0000000250_url.xml\n",
      "Modèle BIOMD0000000250 et ses métadonnées enregistrés dans downloaded_models_logical\\Cell_Immune\\BIOMD0000000250.zip\n"
     ]
    },
    {
     "name": "stderr",
     "output_type": "stream",
     "text": [
      "\u001b[32mINFO    [bioservices.BioModels:171]: \u001b[0m \u001b[32mSaving file BIOMD0000000662.zip\u001b[0m\n"
     ]
    },
    {
     "name": "stdout",
     "output_type": "stream",
     "text": [
      "Fichier SBML extrait : downloaded_models_logical\\Cell_Immune\\MODEL1006230057_url.xml\n",
      "Modèle BIOMD0000000662 et ses métadonnées enregistrés dans downloaded_models_logical\\Cell_Immune\\BIOMD0000000662.zip\n"
     ]
    },
    {
     "name": "stderr",
     "output_type": "stream",
     "text": [
      "\u001b[32mINFO    [bioservices.BioModels:171]: \u001b[0m \u001b[32mSaving file BIOMD0000000875.zip\u001b[0m\n"
     ]
    },
    {
     "name": "stdout",
     "output_type": "stream",
     "text": [
      "Fichier SBML extrait : downloaded_models_logical\\Immune\\MODEL8268650277_url.xml\n",
      "Modèle BIOMD0000000875 et ses métadonnées enregistrés dans downloaded_models_logical\\Immune\\BIOMD0000000875.zip\n"
     ]
    },
    {
     "name": "stderr",
     "output_type": "stream",
     "text": [
      "\u001b[32mINFO    [bioservices.BioModels:171]: \u001b[0m \u001b[32mSaving file BIOMD0000001077.zip\u001b[0m\n"
     ]
    },
    {
     "name": "stdout",
     "output_type": "stream",
     "text": [
      "Fichier SBML extrait : downloaded_models_logical\\Cell_Immune\\Adlung2021 _model_jakstat_pa.xml\n",
      "Modèle BIOMD0000001077 et ses métadonnées enregistrés dans downloaded_models_logical\\Cell_Immune\\BIOMD0000001077.zip\n"
     ]
    },
    {
     "name": "stderr",
     "output_type": "stream",
     "text": [
      "\u001b[32mINFO    [bioservices.BioModels:171]: \u001b[0m \u001b[32mSaving file BIOMD0000000788.zip\u001b[0m\n"
     ]
    },
    {
     "name": "stdout",
     "output_type": "stream",
     "text": [
      "Fichier SBML extrait : downloaded_models_logical\\Antibody\\Schropp2019.xml\n",
      "Modèle BIOMD0000000788 et ses métadonnées enregistrés dans downloaded_models_logical\\Antibody\\BIOMD0000000788.zip\n"
     ]
    },
    {
     "name": "stderr",
     "output_type": "stream",
     "text": [
      "\u001b[32mINFO    [bioservices.BioModels:171]: \u001b[0m \u001b[32mSaving file BIOMD0000000867.zip\u001b[0m\n"
     ]
    },
    {
     "name": "stdout",
     "output_type": "stream",
     "text": [
      "Fichier SBML extrait : downloaded_models_logical\\Cell_Immune\\Coulibaly2019.xml\n",
      "Modèle BIOMD0000000867 et ses métadonnées enregistrés dans downloaded_models_logical\\Cell_Immune\\BIOMD0000000867.zip\n"
     ]
    },
    {
     "name": "stderr",
     "output_type": "stream",
     "text": [
      "\u001b[32mINFO    [bioservices.BioModels:171]: \u001b[0m \u001b[32mSaving file BIOMD0000001057.zip\u001b[0m\n"
     ]
    },
    {
     "name": "stdout",
     "output_type": "stream",
     "text": [
      "Fichier SBML extrait : downloaded_models_logical\\Immune\\Nikolov2020.xml\n",
      "Modèle BIOMD0000001057 et ses métadonnées enregistrés dans downloaded_models_logical\\Immune\\BIOMD0000001057.zip\n"
     ]
    },
    {
     "name": "stderr",
     "output_type": "stream",
     "text": [
      "\u001b[32mINFO    [bioservices.BioModels:171]: \u001b[0m \u001b[32mSaving file BIOMD0000000599.zip\u001b[0m\n"
     ]
    },
    {
     "name": "stdout",
     "output_type": "stream",
     "text": [
      "Fichier SBML extrait : downloaded_models_logical\\Immune_Signal_Transduction\\BIOMD0000000599_url.xml\n",
      "Modèle BIOMD0000000599 et ses métadonnées enregistrés dans downloaded_models_logical\\Immune_Signal_Transduction\\BIOMD0000000599.zip\n"
     ]
    }
   ],
   "source": [
    "if __name__ == \"__main__\":\n",
    "    main()"
   ]
  }
 ],
 "metadata": {
  "kernelspec": {
   "display_name": "Python 3 (ipykernel)",
   "language": "python",
   "name": "python3"
  },
  "language_info": {
   "codemirror_mode": {
    "name": "ipython",
    "version": 3
   },
   "file_extension": ".py",
   "mimetype": "text/x-python",
   "name": "python",
   "nbconvert_exporter": "python",
   "pygments_lexer": "ipython3",
   "version": "3.13.3"
  }
 },
 "nbformat": 4,
 "nbformat_minor": 5
}
