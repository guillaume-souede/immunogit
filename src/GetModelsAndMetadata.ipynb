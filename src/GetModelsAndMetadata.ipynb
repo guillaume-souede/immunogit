{
 "cells": [
  {
   "metadata": {
    "ExecuteTime": {
     "end_time": "2025-01-28T19:43:03.234573Z",
     "start_time": "2025-01-28T19:43:03.231791Z"
    }
   },
   "cell_type": "code",
   "source": "from common_immunogit import *",
   "id": "51638e82aeeabfdb",
   "outputs": [],
   "execution_count": 4
  },
  {
   "metadata": {
    "ExecuteTime": {
     "end_time": "2025-01-28T19:43:03.253055Z",
     "start_time": "2025-01-28T19:43:03.248884Z"
    }
   },
   "cell_type": "code",
   "source": [
    "\"\"\"\n",
    "Query Creation\n",
    "\"\"\"\n",
    "def create_query(domain=\"biomodels\", offset=0, num_results=100):\n",
    "    query_parts_full = {\n",
    "        'mode': '*:*',\n",
    "        'species': 'TAXONOMY:9606',\n",
    "        'curation_status': 'curationstatus:\"Manually curated\"',\n",
    "        'formats': 'modelformat:\"SBML\"',\n",
    "        'kw': 'submitter_keywords:\"Immuno-oncology\"'\n",
    "    }\n",
    "\n",
    "    query_parts = [value for value in query_parts_full.values() if value]\n",
    "    query = \" AND \".join(query_parts)\n",
    "\n",
    "    query_for_url = query.replace(\" \", \"%20\").replace(\":\", \"%3A\").replace('\"', \"%22\")\n",
    "    url = f\"https://www.ebi.ac.uk/biomodels/search?query={query_for_url}&domain={domain}&offset={offset}&numResults={num_results}\"\n",
    "\n",
    "    return query, url"
   ],
   "id": "4828cdf903d1f66c",
   "outputs": [],
   "execution_count": 5
  },
  {
   "metadata": {
    "ExecuteTime": {
     "end_time": "2025-01-28T19:43:08.839366Z",
     "start_time": "2025-01-28T19:43:08.698425Z"
    }
   },
   "cell_type": "code",
   "source": [
    "\"\"\"\n",
    "BioServices Approach\n",
    "\"\"\"\n",
    "\n",
    "s = BioModels()\n",
    "\n",
    "def get_filtered_models(query: str) -> list:\n",
    "    offset = 0\n",
    "    num_results = 10\n",
    "    all_models = []\n",
    "\n",
    "    try:\n",
    "        while True:\n",
    "            search_results = s.search(query, numResults=num_results, offset=offset)\n",
    "\n",
    "            if search_results.get(\"models\"):\n",
    "                models = search_results[\"models\"]\n",
    "                all_models.extend(models)\n",
    "\n",
    "                offset += num_results\n",
    "            else:\n",
    "                break\n",
    "\n",
    "        if all_models:\n",
    "            print(f\"\\nTotal models : {len(all_models)}\")\n",
    "        else:\n",
    "            print(\"No matching models.\")\n",
    "\n",
    "    except Exception as e:\n",
    "        raise RuntimeError(f\"Error : {str(e)}\")\n",
    "\n",
    "    return [model['id'] for model in all_models]\n",
    "\n",
    "def get_model_metadata(model_ids: list) -> dict:\n",
    "    metadata = {}\n",
    "    for model_id in model_ids:\n",
    "        try:\n",
    "            model_data = s.get_model(model_id)\n",
    "            metadata[model_id] = model_data\n",
    "        except Exception as e:\n",
    "            print(f\"Error on {model_id}: {e}\")\n",
    "\n",
    "    return metadata\n",
    "\n",
    "def save_metadata_to_json(metadata: dict, filename: str):\n",
    "    try:\n",
    "        with open(filename, 'w', encoding='utf-8') as json_file:\n",
    "            json.dump(metadata, json_file, ensure_ascii=False, indent=4)\n",
    "        print(f\"Metadata saved to {filename}\")\n",
    "    except Exception as e:\n",
    "        print(f\"Error : {e}\")\n",
    "\n",
    "def download_biomodels(directory: str, model_ids: list, num_per_download=100):\n",
    "    if num_per_download > 100:\n",
    "        raise ValueError(\"Maximum number of models that can be downloaded at a time is 100.\")\n",
    "\n",
    "    total_models = len(model_ids)\n",
    "    if total_models == 0:\n",
    "        raise ValueError(\"Error : model_ids list empty.\")\n",
    "\n",
    "    num_downloads = (total_models // num_per_download) + (1 if total_models % num_per_download > 0 else 0)\n",
    "    filenames = []\n",
    "\n",
    "    for download_number in range(num_downloads):\n",
    "        start = download_number * num_per_download\n",
    "        end = min(start + num_per_download, total_models)\n",
    "        batch = model_ids[start:end]\n",
    "\n",
    "        print(f\"Downloading batch {download_number + 1}: Models {start + 1} to {end}\")\n",
    "\n",
    "        fname = os.path.join(directory, f\"Biomodels_{start + 1}_to_{end}.zip\")\n",
    "        filenames.append(fname)\n",
    "\n",
    "        if os.path.isfile(fname):\n",
    "            os.remove(fname)\n",
    "\n",
    "        try:\n",
    "            s.search_download(batch, output_filename=fname)\n",
    "            print(f\"Downloaded models {start + 1} to {end} into {fname}\")\n",
    "        except Exception as e:\n",
    "            print(f\"Error downloading batch {download_number + 1}: {str(e)}\")\n",
    "\n",
    "    final_zip = os.path.join(directory, \"biomodels_filtered.zip\")\n",
    "    with z.ZipFile(filenames[0], 'a') as z1:\n",
    "        for fname in filenames[1:]:\n",
    "            with z.ZipFile(fname, 'r') as zf:\n",
    "                for n in zf.namelist():\n",
    "                    z1.writestr(n, zf.read(n))\n",
    "\n",
    "    if not os.path.isfile(final_zip):\n",
    "        os.rename(filenames[0], final_zip)\n",
    "\n",
    "    for fname in filenames[1:]:\n",
    "        try:\n",
    "            os.remove(fname)\n",
    "        except Exception:\n",
    "            print(f\"Could not delete temporary file: {fname}\")\n",
    "\n",
    "    print(f\"All models consolidated into {final_zip}\")\n",
    "    return final_zip\n",
    "\n",
    "def bioservices_get_models():\n",
    "    query, _ = create_query()\n",
    "    try:\n",
    "        filtered_model_ids = get_filtered_models(query)\n",
    "        model_metadata = get_model_metadata(filtered_model_ids)\n",
    "        save_metadata_to_json(model_metadata, md_path / \"model_metadata.json\")\n",
    "        output_zip = download_biomodels(\n",
    "            directory=bm_sbml_path,\n",
    "            model_ids=filtered_model_ids,\n",
    "            num_per_download=100\n",
    "        )\n",
    "\n",
    "        print(f\"Models downloaded and saved in {output_zip}\")\n",
    "\n",
    "    except Exception as e:\n",
    "        print(f\"Error : {e}\")"
   ],
   "id": "9d6b65213bd46a75",
   "outputs": [
    {
     "name": "stderr",
     "output_type": "stream",
     "text": [
      "\u001B[33mWARNING [bioservices.BioModels:130]: \u001B[0m \u001B[32mThe URL (https://www.ebi.ac.uk/biomodels) provided cannot be reached.\u001B[0m\n",
      "\u001B[32mINFO    [bioservices.BioModels:363]: \u001B[0m \u001B[32mInitialising BioModels service (REST)\u001B[0m\n"
     ]
    }
   ],
   "execution_count": 7
  },
  {
   "metadata": {
    "ExecuteTime": {
     "end_time": "2025-01-28T19:43:40.243279Z",
     "start_time": "2025-01-28T19:43:08.846246Z"
    }
   },
   "cell_type": "code",
   "source": "bioservices_get_models()",
   "id": "437e5f9e6d0bc627",
   "outputs": [
    {
     "name": "stdout",
     "output_type": "stream",
     "text": [
      "\n",
      "Total models : 68\n",
      "Metadata saved to /Users/guillaume.souede/PycharmProjects/immunogit/metadata/model_metadata.json\n",
      "Downloading batch 1: Models 1 to 68\n"
     ]
    },
    {
     "name": "stderr",
     "output_type": "stream",
     "text": [
      "\u001B[32mINFO    [bioservices.BioModels:240]: \u001B[0m \u001B[32m/Users/guillaume.souede/PycharmProjects/immunogit/models/BioModels/SBML/Biomodels_1_to_68.zip\u001B[0m\n"
     ]
    },
    {
     "name": "stdout",
     "output_type": "stream",
     "text": [
      "Downloaded models 1 to 68 into /Users/guillaume.souede/PycharmProjects/immunogit/models/BioModels/SBML/Biomodels_1_to_68.zip\n",
      "All models consolidated into /Users/guillaume.souede/PycharmProjects/immunogit/models/BioModels/SBML/biomodels_filtered.zip\n",
      "Models downloaded and saved in /Users/guillaume.souede/PycharmProjects/immunogit/models/BioModels/SBML/biomodels_filtered.zip\n"
     ]
    }
   ],
   "execution_count": 8
  }
 ],
 "metadata": {
  "kernelspec": {
   "display_name": "Python 3",
   "language": "python",
   "name": "python3"
  },
  "language_info": {
   "codemirror_mode": {
    "name": "ipython",
    "version": 2
   },
   "file_extension": ".py",
   "mimetype": "text/x-python",
   "name": "python",
   "nbconvert_exporter": "python",
   "pygments_lexer": "ipython2",
   "version": "2.7.6"
  }
 },
 "nbformat": 4,
 "nbformat_minor": 5
}
