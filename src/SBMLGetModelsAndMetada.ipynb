{
 "cells": [
  {
   "cell_type": "code",
   "execution_count": null,
   "id": "37dc2753",
   "metadata": {},
   "outputs": [],
   "source": [
    "\"\"\"\n",
    "Created on Thu Feb 20 20:35:34 2025\n",
    "\n",
    "@author: issakerimakhalil\n",
    "\"\"\""
   ]
  },
  {
   "cell_type": "code",
   "execution_count": null,
   "id": "398cc592",
   "metadata": {},
   "outputs": [],
   "source": [
    "import os\n",
    "import zipfile\n",
    "import requests\n",
    "import json\n",
    "from bioservices import BioModels"
   ]
  },
  {
   "cell_type": "code",
   "execution_count": null,
   "id": "b06bbda6",
   "metadata": {
    "lines_to_next_cell": 1
   },
   "outputs": [],
   "source": [
    "# Initialisation du service BioModels\n",
    "s = BioModels()"
   ]
  },
  {
   "cell_type": "code",
   "execution_count": null,
   "id": "0596192b",
   "metadata": {
    "lines_to_next_cell": 1
   },
   "outputs": [],
   "source": [
    "def get_all_models(query, page_size=10):\n",
    "    \"\"\"\n",
    "    Fonction pour récupérer tous les modèles correspondant à la requête avec pagination.\n",
    "    \"\"\"\n",
    "    models = []\n",
    "    offset = 0\n",
    "\n",
    "    while True:\n",
    "        try:\n",
    "            search_results = s.search(query, offset=offset)\n",
    "            \n",
    "            if 'models' not in search_results or not search_results['models']:\n",
    "                break\n",
    "            \n",
    "            models.extend(search_results['models'])\n",
    "            offset += page_size\n",
    "            print(f\"Page {offset // page_size} téléchargée, {len(search_results['models'])} modèles récupérés.\")\n",
    "        \n",
    "        except Exception as e:\n",
    "            print(f\"Erreur lors de la récupération des modèles : {e}\")\n",
    "            break\n",
    "    \n",
    "    return models"
   ]
  },
  {
   "cell_type": "code",
   "execution_count": null,
   "id": "75cf5034",
   "metadata": {
    "lines_to_next_cell": 1
   },
   "outputs": [],
   "source": [
    "def download_model_file(model_id, sbml_url, directory):\n",
    "    \"\"\"\n",
    "    Télécharge le fichier SBML du modèle.\n",
    "    \"\"\"\n",
    "    try:\n",
    "        sbml_filename = f\"{model_id}.xml\"\n",
    "        model_path = os.path.join(directory, sbml_filename)\n",
    "\n",
    "        response = requests.get(sbml_url)\n",
    "        if response.status_code == 200:\n",
    "            with open(model_path, 'wb') as f:\n",
    "                f.write(response.content)\n",
    "            print(f\"Modèle {model_id} téléchargé avec succès.\")\n",
    "        else:\n",
    "            raise RuntimeError(f\"Erreur lors du téléchargement du modèle {model_id}: {response.status_code}\")\n",
    "\n",
    "        return model_path\n",
    "\n",
    "    except Exception as e:\n",
    "        print(f\"Erreur lors du téléchargement du modèle {model_id}: {e}\")\n",
    "        return None"
   ]
  },
  {
   "cell_type": "code",
   "execution_count": null,
   "id": "66242515",
   "metadata": {
    "lines_to_next_cell": 1
   },
   "outputs": [],
   "source": [
    "def download_model_with_metadata(model_data, base_directory):\n",
    "    \"\"\"\n",
    "    Télécharge le modèle et ses métadonnées, puis les enregistre dans un fichier zip.\n",
    "    \"\"\"\n",
    "    try:\n",
    "        model_id = model_data['id']\n",
    "        sbml_url = model_data.get('url', None)\n",
    "        title = model_data.get('name', \"\").lower()\n",
    "        keywords = model_data.get('submitter_keywords', \"\").lower()\n",
    "\n",
    "        if not sbml_url:\n",
    "            print(f\"Aucune URL trouvée pour le modèle {model_id}.\")\n",
    "            return\n",
    "\n",
    "        # Déterminer le dossier de destination\n",
    "        if \"therapy\" in title:\n",
    "            directory = os.path.join(base_directory, \"Therapy\")\n",
    "        elif \"immune system\" in title:\n",
    "            directory = os.path.join(base_directory, \"Systeme_immun\")\n",
    "        elif \"immune response\" in title:\n",
    "            directory = os.path.join(base_directory, \"Reponse_immun\")\n",
    "        else:\n",
    "            directory = os.path.join(base_directory, \"Autres\")\n",
    "\n",
    "        # Créer le dossier s'il n'existe pas\n",
    "        os.makedirs(directory, exist_ok=True)\n",
    "\n",
    "        # Télécharger le fichier SBML\n",
    "        model_path = download_model_file(model_id, sbml_url, directory)\n",
    "        if model_path is None:\n",
    "            return\n",
    "\n",
    "        # Récupérer les métadonnées complètes\n",
    "        try:\n",
    "            full_metadata = s.get_model(model_id)\n",
    "        except Exception as e:\n",
    "            print(f\"Erreur lors de la récupération des métadonnées complètes pour {model_id}: {e}\")\n",
    "            return\n",
    "\n",
    "        # Sauvegarder les métadonnées en JSON\n",
    "        metadata_filename = f\"{model_id}_metadata.json\"\n",
    "        metadata_path = os.path.join(directory, metadata_filename)\n",
    "        with open(metadata_path, 'w', encoding='utf-8') as f:\n",
    "            json.dump(full_metadata, f, ensure_ascii=False, indent=4)\n",
    "\n",
    "        # Créer un fichier zip contenant le modèle et ses métadonnées\n",
    "        zip_filename = os.path.join(directory, f\"{model_id}.zip\")\n",
    "        with zipfile.ZipFile(zip_filename, 'w') as zipf:\n",
    "            zipf.write(model_path, os.path.basename(model_path))\n",
    "            zipf.write(metadata_path, os.path.basename(metadata_path))\n",
    "\n",
    "        # Supprimer les fichiers temporaires après zippage\n",
    "        os.remove(model_path)\n",
    "        os.remove(metadata_path)\n",
    "\n",
    "        print(f\"Modèle {model_id} et ses métadonnées enregistrés dans {zip_filename}\")\n",
    "\n",
    "    except Exception as e:\n",
    "        print(f\"Erreur lors du traitement du modèle {model_data['id']} : {e}\")"
   ]
  },
  {
   "cell_type": "code",
   "execution_count": null,
   "id": "d7b8b187",
   "metadata": {
    "lines_to_next_cell": 1
   },
   "outputs": [],
   "source": [
    "def main():\n",
    "    # Requête mise à jour\n",
    "    query = (\n",
    "        'immun* AND curationstatus:\"Manually curated\" AND modelformat:\"SBML\" AND TAXONOMY:9606 AND NOT submitter_keywords:\"Immuno-oncology\"'\n",
    "    )\n",
    "\n",
    "    # Répertoire principal\n",
    "    base_directory = \"downloaded_models\"\n",
    "    os.makedirs(base_directory, exist_ok=True)\n",
    "\n",
    "    # Obtenir tous les modèles\n",
    "    models = get_all_models(query)\n",
    "\n",
    "    # Télécharger chaque modèle et les classer\n",
    "    for model_data in models:\n",
    "        download_model_with_metadata(model_data, base_directory)"
   ]
  },
  {
   "cell_type": "code",
   "execution_count": null,
   "id": "62e8797c",
   "metadata": {},
   "outputs": [],
   "source": [
    "if __name__ == \"__main__\":\n",
    "    main()"
   ]
  }
 ],
 "metadata": {
  "jupytext": {
   "cell_metadata_filter": "-all",
   "encoding": "# -*- coding: utf-8 -*-",
   "executable": "/usr/bin/env python3",
   "main_language": "python",
   "notebook_metadata_filter": "-all"
  }
 },
 "nbformat": 4,
 "nbformat_minor": 5
}
