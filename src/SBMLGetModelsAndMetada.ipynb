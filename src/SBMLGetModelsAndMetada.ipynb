{
 "cells": [
  {
   "cell_type": "code",
   "execution_count": 43,
   "id": "398cc592",
   "metadata": {},
   "outputs": [],
   "source": [
    "import os\n",
    "import zipfile\n",
    "import requests\n",
    "import json\n",
    "from bioservices import BioModels"
   ]
  },
  {
   "cell_type": "code",
   "execution_count": 44,
   "id": "b06bbda6",
   "metadata": {
    "lines_to_next_cell": 1
   },
   "outputs": [
    {
     "name": "stderr",
     "output_type": "stream",
     "text": [
      "\u001b[32mINFO    [bioservices.BioModels:363]: \u001b[0m \u001b[32mInitialising BioModels service (REST)\u001b[0m\n"
     ]
    }
   ],
   "source": [
    "s = BioModels()"
   ]
  },
  {
   "cell_type": "code",
   "execution_count": 45,
   "id": "0596192b",
   "metadata": {
    "lines_to_next_cell": 1
   },
   "outputs": [],
   "source": [
    "def get_all_models(query, page_size=10):\n",
    "    \"\"\"\n",
    "    Retrieve all models matching the query using pagination.\n",
    "    \"\"\"\n",
    "    models = []\n",
    "    offset = 0\n",
    "\n",
    "    while True:\n",
    "        try:\n",
    "            search_results = s.search(query, offset=offset)\n",
    "\n",
    "            if 'models' not in search_results or not search_results['models']:\n",
    "                break\n",
    "\n",
    "            models.extend(search_results['models'])\n",
    "            offset += page_size\n",
    "            print(f\"Page {offset // page_size} downloaded, {len(search_results['models'])} models retrieved.\")\n",
    "        \n",
    "        except Exception as e:\n",
    "            print(f\"Error while retrieving models: {e}\")\n",
    "            break\n",
    "\n",
    "    return models"
   ]
  },
  {
   "cell_type": "code",
   "execution_count": 46,
   "id": "75cf5034",
   "metadata": {
    "lines_to_next_cell": 1
   },
   "outputs": [],
   "source": [
    "def download_model_file(model_id, sbml_url, directory):\n",
    "    \"\"\"\n",
    "    Downloads the SBML file of the given model.\n",
    "    \"\"\"\n",
    "    try:\n",
    "        sbml_filename = f\"{model_id}.xml\"\n",
    "        model_path = os.path.join(directory, sbml_filename)\n",
    "\n",
    "        response = requests.get(sbml_url)\n",
    "        if response.status_code == 200:\n",
    "            with open(model_path, 'wb') as f :\n",
    "                f.write(response.content)\n",
    "            print(f\"Model {model_id} downloaded successfully.\")\n",
    "        else:\n",
    "            raise RuntimeError(f\"Failed to download model {model_id}: HTTP {response.status_code}\")\n",
    "\n",
    "        return model_path\n",
    "\n",
    "    except Exception as e:\n",
    "        print(f\"Error while downloading model {model_id}: {e}\")\n",
    "        return None"
   ]
  },
  {
   "cell_type": "code",
   "execution_count": 47,
   "id": "5abc02af",
   "metadata": {},
   "outputs": [],
   "source": [
    "import os\n",
    "import requests\n",
    "\n",
    "def get_latest_version(model_id):\n",
    "    \"\"\"\n",
    "    Uses the BioModels API to retrieve the latest version of a given model.\n",
    "    \"\"\"\n",
    "    api_url = f\"https://www.ebi.ac.uk/biomodels/model/download/{model_id}?format=xml\"\n",
    "    response = requests.head(api_url, allow_redirects=True)\n",
    "\n",
    "    if response.status_code == 200:\n",
    "        # /ID.version is for eg. : /BIOMD0000000955.5.xml\n",
    "        final_url = response.url\n",
    "        version = final_url.split(\".\")[-2]  # before .xml\n",
    "        return version\n",
    "    else:\n",
    "        raise RuntimeError(f\"Unable to retrieve version for {model_id}: HTTP {response.status_code}\")\n",
    "\n",
    "def download_model_file(model_id, directory):\n",
    "    \"\"\"\n",
    "    Downloads the SBML file for the latest version of the specified model.\n",
    "    \"\"\"\n",
    "    try:\n",
    "        version = get_latest_version(model_id)\n",
    "        sbml_url = f\"https://www.ebi.ac.uk/biomodels/model/download/{model_id}?format=xml\"\n",
    "        sbml_filename = f\"{model_id}.xml\"\n",
    "        model_path = os.path.join(directory, sbml_filename)\n",
    "\n",
    "        response = requests.get(sbml_url)\n",
    "        if response.status_code == 200:\n",
    "            with open(model_path, 'wb') as f :\n",
    "                f.write(response.content)\n",
    "            return model_path\n",
    "        else:\n",
    "            raise RuntimeError(f\"Download failed for model {model_id}: HTTP {response.status_code}\")\n",
    "\n",
    "    except Exception:\n",
    "        return None\n"
   ]
  },
  {
   "cell_type": "code",
   "execution_count": 48,
   "id": "66242515",
   "metadata": {
    "lines_to_next_cell": 1
   },
   "outputs": [],
   "source": [
    "import os\n",
    "import json\n",
    "import zipfile\n",
    "\n",
    "def download_model_with_metadata(model_data, base_directory):\n",
    "    \"\"\"\n",
    "    Downloads the SBML model and its metadata, then saves both in a ZIP archive.\n",
    "    \"\"\"\n",
    "    try:\n",
    "        model_id = model_data['id']\n",
    "        title = model_data.get('name', \"\").lower()\n",
    "        keywords = model_data.get('submitter_keywords', \"\").lower()\n",
    "\n",
    "        # Determine target directory based on keywords in title\n",
    "        if \"therapy\" in title:\n",
    "            directory = os.path.join(base_directory, \"Therapy\")\n",
    "        elif \"immune system\" in title:\n",
    "            directory = os.path.join(base_directory, \"Systeme_immun\")\n",
    "        elif \"immune response\" in title:\n",
    "            directory = os.path.join(base_directory, \"Reponse_immun\")\n",
    "        else:\n",
    "            directory = os.path.join(base_directory, \"Autres\")\n",
    "\n",
    "        os.makedirs(directory, exist_ok=True)\n",
    "\n",
    "        # Download the SBML file\n",
    "        model_path = download_model_file(model_id, directory)\n",
    "        if model_path is None:\n",
    "            return\n",
    "\n",
    "        # Retrieve full metadata\n",
    "        try:\n",
    "            full_metadata = s.get_model(model_id)\n",
    "        except Exception:\n",
    "            return\n",
    "\n",
    "        # Save metadata as JSON\n",
    "        metadata_filename = f\"{model_id}_metadata.json\"\n",
    "        metadata_path = os.path.join(directory, metadata_filename)\n",
    "        with open(metadata_path, 'w', encoding='utf-8') as f :\n",
    "            json.dump(full_metadata, f, ensure_ascii=False, indent=4)\n",
    "\n",
    "        # Create ZIP archive\n",
    "        zip_filename = os.path.join(directory, f\"{model_id}.zip\")\n",
    "        with zipfile.ZipFile(zip_filename, 'w') as zipf:\n",
    "            zipf.write(model_path, os.path.basename(model_path))\n",
    "            zipf.write(metadata_path, os.path.basename(metadata_path))\n",
    "\n",
    "        # Clean up intermediate files\n",
    "        os.remove(model_path)\n",
    "        os.remove(metadata_path)\n",
    "\n",
    "    except Exception:\n",
    "        return\n"
   ]
  },
  {
   "cell_type": "code",
   "execution_count": 49,
   "id": "d7b8b187",
   "metadata": {
    "lines_to_next_cell": 1
   },
   "outputs": [
    {
     "name": "stdout",
     "output_type": "stream",
     "text": [
      "Page 1 downloaded, 10 models retrieved.\n",
      "Page 2 downloaded, 10 models retrieved.\n",
      "Page 3 downloaded, 10 models retrieved.\n",
      "Page 4 downloaded, 10 models retrieved.\n",
      "Page 3 downloaded, 10 models retrieved.\n",
      "Page 4 downloaded, 10 models retrieved.\n",
      "Page 5 downloaded, 10 models retrieved.\n",
      "Page 6 downloaded, 10 models retrieved.\n",
      "Page 5 downloaded, 10 models retrieved.\n",
      "Page 6 downloaded, 10 models retrieved.\n",
      "Page 7 downloaded, 3 models retrieved.\n",
      "Page 7 downloaded, 3 models retrieved.\n"
     ]
    }
   ],
   "source": [
    "# Define query\n",
    "query = (\n",
    "    'immun* AND curationstatus:\"Manually curated\" AND modelformat:\"SBML\" '\n",
    "    'AND TAXONOMY:9606 AND NOT submitter_keywords:\"Immuno-oncology\"'\n",
    ")\n",
    "\n",
    "# Create output directory\n",
    "base_directory = \"downloaded_models\"\n",
    "os.makedirs(base_directory, exist_ok=True)\n",
    "\n",
    "# Fetch all models matching the query\n",
    "models = get_all_models(query)\n",
    "\n",
    "# Download and organize each model\n",
    "for model_data in models:\n",
    "    download_model_with_metadata(model_data, base_directory)"
   ]
  }
 ],
 "metadata": {
  "jupytext": {
   "cell_metadata_filter": "-all",
   "encoding": "# -*- coding: utf-8 -*-",
   "executable": "/usr/bin/env python3",
   "main_language": "python",
   "notebook_metadata_filter": "-all"
  },
  "kernelspec": {
   "display_name": "base",
   "language": "python",
   "name": "python3"
  },
  "language_info": {
   "codemirror_mode": {
    "name": "ipython",
    "version": 3
   },
   "file_extension": ".py",
   "mimetype": "text/x-python",
   "name": "python",
   "nbconvert_exporter": "python",
   "pygments_lexer": "ipython3",
   "version": "3.12.7"
  }
 },
 "nbformat": 4,
 "nbformat_minor": 5
}
