{
 "cells": [
  {
   "cell_type": "code",
   "execution_count": null,
   "id": "initial_id",
   "metadata": {
    "collapsed": true
   },
   "outputs": [],
   "source": "import common"
  },
  {
   "metadata": {},
   "cell_type": "code",
   "outputs": [],
   "execution_count": null,
   "source": [
    "\"\"\"\n",
    "Step 1 : Download HTML\n",
    "\"\"\"\n",
    "url = \"https://www.ebi.ac.uk/biomodels/search?domain=biomodels&query=*%3A*+AND+curationstatus%3A%22Manually+curated%22+AND+modelformat%3A%22SBML%22+AND+TAXONOMY%3A9606+AND+TAXONOMY%3A6754&numResults=100\"\n",
    "\n",
    "response = requests.get(url)\n",
    "\n",
    "if response.status_code == 200:\n",
    "    with open(\"source_code.html\", \"w\", encoding=\"utf-8\") as file:\n",
    "        file.write(response.text)\n",
    "    print(\"Saved as 'source_code.html'.\")\n",
    "else:\n",
    "    print(f\"Failed.\")"
   ],
   "id": "4374f005e5d439dc"
  },
  {
   "metadata": {},
   "cell_type": "code",
   "outputs": [],
   "execution_count": null,
   "source": [
    "\"\"\"\n",
    "HTML file from the query + regex to make a list of relevant IDs.\n",
    "\"\"\"\n",
    "def extract_ids(file_path):\n",
    "    try:\n",
    "        with open(file_path, \"r\", encoding=\"utf-8\") as file:\n",
    "            soup = BeautifulSoup(file, \"html.parser\")\n",
    "\n",
    "        pattern = r\"(BIOMD\\d{10}|MODEL\\d{10})\"\n",
    "        ids = set()\n",
    "\n",
    "        for element in soup.find_all(string=True):\n",
    "            content = element.strip()\n",
    "            matches = re.findall(pattern, content)\n",
    "            ids.update(matches)\n",
    "\n",
    "        ids = sorted(ids)\n",
    "        return ids"
   ],
   "id": "37d3348430de8223"
  },
  {
   "metadata": {},
   "cell_type": "code",
   "outputs": [],
   "execution_count": null,
   "source": [
    "\"\"\"\n",
    "demo\n",
    "\"\"\"\"\n",
    "file_path = \"/Users/guillaume.souede/Desktop/wbpg.html\"\n",
    "ids = extract_ids(file_path)\n",
    "print(\"IDs:\", ids)"
   ],
   "id": "c8b70ab4c1b89e88"
  }
 ],
 "metadata": {
  "kernelspec": {
   "display_name": "Python 3",
   "language": "python",
   "name": "python3"
  },
  "language_info": {
   "codemirror_mode": {
    "name": "ipython",
    "version": 2
   },
   "file_extension": ".py",
   "mimetype": "text/x-python",
   "name": "python",
   "nbconvert_exporter": "python",
   "pygments_lexer": "ipython2",
   "version": "2.7.6"
  }
 },
 "nbformat": 4,
 "nbformat_minor": 5
}
