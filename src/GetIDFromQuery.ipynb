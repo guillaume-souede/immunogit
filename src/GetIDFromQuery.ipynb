{
 "cells": [
  {
   "cell_type": "code",
   "id": "initial_id",
   "metadata": {
    "collapsed": true
   },
   "source": "import common_immunogit",
   "outputs": [],
   "execution_count": null
  },
  {
   "metadata": {},
   "cell_type": "code",
   "source": [
    "import requests\n",
    "import re\n",
    "\"\"\"\n",
    "Step 1 : Download HTML\n",
    "BELOW CODE SHOULD GET SOURCE CODE, DOES NOT.\n",
    "\"\"\"\n",
    "url = \"https://www.ebi.ac.uk/biomodels/search?query=*%3A*%20AND%20curationstatus%3A%22Manually%20curated%22%20AND%20modelformat%3A%22SBML%22%20AND%20submitter_keywords%3A%22Immuno-oncology%22%20AND%20TAXONOMY%3A9606&domain=biomodels&offset=0&numResults=100\"\n",
    "# DOES NOT WORK, SHOULD BE FIXED TO GET SOURCE CODE !!!!! 5000+ lines\n",
    "response = requests.get(url)\n",
    "\n",
    "if response.status_code == 200:\n",
    "    with open(\"source_code.html\", \"w\", encoding=\"utf-8\") as file:\n",
    "        file.write(response.text)\n",
    "    print(\"Saved as 'source_code.html'.\")\n",
    "else:\n",
    "    print(f\"Failed.\")"
   ],
   "id": "4374f005e5d439dc",
   "outputs": [],
   "execution_count": null
  },
  {
   "metadata": {
    "ExecuteTime": {
     "end_time": "2025-01-24T13:19:42.262134Z",
     "start_time": "2025-01-24T13:19:42.211182Z"
    }
   },
   "cell_type": "code",
   "source": [
    "\"\"\"\n",
    "HTML file from the query + regex to make a list of relevant IDs.\n",
    "WORKS FINE OF MANUALLY RETRIEVED SOURCE CODE.\n",
    "\"\"\"\n",
    "from bs4 import BeautifulSoup\n",
    "import re\n",
    "\n",
    "def extract_ids(file_path):\n",
    "    try:\n",
    "        with open(file_path, \"r\", encoding=\"utf-8\") as file:\n",
    "            soup = BeautifulSoup(file, \"html.parser\")\n",
    "\n",
    "        pattern = r\"(BIOMD\\d{10}|MODEL\\d{10})\"\n",
    "        ids = set()\n",
    "\n",
    "        for element in soup.find_all(string=True):\n",
    "            content = element.strip()\n",
    "            matches = re.findall(pattern, content)\n",
    "            ids.update(matches)\n",
    "\n",
    "        ids = sorted(ids)\n",
    "        return ids\n",
    "    except:\n",
    "        pass"
   ],
   "id": "37d3348430de8223",
   "outputs": [],
   "execution_count": 1
  },
  {
   "metadata": {
    "ExecuteTime": {
     "end_time": "2025-01-24T13:21:48.617832Z",
     "start_time": "2025-01-24T13:21:48.579804Z"
    }
   },
   "cell_type": "code",
   "source": [
    "\"\"\"\n",
    "demo\n",
    "\"\"\"\n",
    "file_path = \"/Users/guillaume.souede/PycharmProjects/immunogit/src/webpg.html\"\n",
    "ids = extract_ids(file_path)\n",
    "print(\"IDs:\", ids)\n",
    "len(ids)"
   ],
   "id": "c8b70ab4c1b89e88",
   "outputs": [
    {
     "name": "stdout",
     "output_type": "stream",
     "text": [
      "IDs: ['BIOMD0000000741', 'BIOMD0000000742', 'BIOMD0000000743', 'BIOMD0000000744', 'BIOMD0000000746', 'BIOMD0000000748', 'BIOMD0000000749', 'BIOMD0000000751', 'BIOMD0000000752', 'BIOMD0000000753', 'BIOMD0000000754', 'BIOMD0000000756', 'BIOMD0000000757', 'BIOMD0000000758', 'BIOMD0000000759', 'BIOMD0000000760', 'BIOMD0000000764', 'BIOMD0000000766', 'BIOMD0000000767', 'BIOMD0000000768', 'BIOMD0000000769', 'BIOMD0000000770', 'BIOMD0000000778', 'BIOMD0000000780', 'BIOMD0000000781', 'BIOMD0000000782', 'BIOMD0000000791', 'BIOMD0000000798', 'BIOMD0000000801', 'BIOMD0000000802', 'BIOMD0000000812', 'BIOMD0000000813', 'BIOMD0000000877', 'BIOMD0000000879', 'BIOMD0000000880', 'BIOMD0000000885', 'BIOMD0000000886', 'BIOMD0000000888', 'BIOMD0000000891', 'BIOMD0000000894', 'BIOMD0000000900', 'BIOMD0000000904', 'BIOMD0000000908', 'BIOMD0000000909', 'BIOMD0000000910', 'BIOMD0000000911', 'BIOMD0000000912', 'BIOMD0000000913', 'BIOMD0000000919', 'BIOMD0000000921', 'BIOMD0000000926', 'BIOMD0000001011', 'BIOMD0000001012', 'BIOMD0000001013', 'BIOMD0000001014', 'BIOMD0000001022', 'BIOMD0000001023', 'BIOMD0000001024', 'BIOMD0000001025', 'BIOMD0000001031', 'BIOMD0000001032', 'BIOMD0000001033', 'BIOMD0000001034', 'BIOMD0000001035', 'BIOMD0000001036', 'BIOMD0000001041', 'BIOMD0000001042', 'BIOMD0000001043']\n"
     ]
    },
    {
     "data": {
      "text/plain": [
       "68"
      ]
     },
     "execution_count": 5,
     "metadata": {},
     "output_type": "execute_result"
    }
   ],
   "execution_count": 5
  }
 ],
 "metadata": {
  "kernelspec": {
   "display_name": "Python 3",
   "language": "python",
   "name": "python3"
  },
  "language_info": {
   "codemirror_mode": {
    "name": "ipython",
    "version": 2
   },
   "file_extension": ".py",
   "mimetype": "text/x-python",
   "name": "python",
   "nbconvert_exporter": "python",
   "pygments_lexer": "ipython2",
   "version": "2.7.6"
  }
 },
 "nbformat": 4,
 "nbformat_minor": 5
}
