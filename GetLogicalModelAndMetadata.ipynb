{
  "cells": [
    {
      "cell_type": "markdown",
      "metadata": {
        "id": "view-in-github",
        "colab_type": "text"
      },
      "source": [
        "<a href=\"https://colab.research.google.com/github/guillaume-souede/immunogit/blob/main/GetLogicalModelAndMetadata.ipynb\" target=\"_parent\"><img src=\"https://colab.research.google.com/assets/colab-badge.svg\" alt=\"Open In Colab\"/></a>"
      ]
    },
    {
      "cell_type": "code",
      "execution_count": 4,
      "id": "cef4d214",
      "metadata": {
        "colab": {
          "base_uri": "https://localhost:8080/"
        },
        "id": "cef4d214",
        "outputId": "e913ec9f-29c2-4c6e-8be7-e681c6ef41dc"
      },
      "outputs": [
        {
          "output_type": "stream",
          "name": "stdout",
          "text": [
            "Creating directory /root/.config/bioservices \n"
          ]
        }
      ],
      "source": [
        "import os\n",
        "import zipfile\n",
        "import requests\n",
        "import json\n",
        "from bioservices import BioModels"
      ]
    },
    {
      "cell_type": "code",
      "execution_count": 5,
      "id": "34d1c83a",
      "metadata": {
        "lines_to_next_cell": 1,
        "colab": {
          "base_uri": "https://localhost:8080/"
        },
        "id": "34d1c83a",
        "outputId": "8aa849c1-8481-41aa-cf2c-79a9ca6c1bee"
      },
      "outputs": [
        {
          "output_type": "stream",
          "name": "stderr",
          "text": [
            "\u001b[32mINFO    [bioservices.BioModels:363]: \u001b[0m \u001b[32mInitialising BioModels service (REST)\u001b[0m\n",
            "INFO:bioservices.BioModels:Initialising BioModels service (REST)\n"
          ]
        },
        {
          "output_type": "stream",
          "name": "stdout",
          "text": [
            "Creating directory /root/.cache/bioservices \n",
            "Welcome to Bioservices\n",
            "======================\n",
            "It looks like you do not have a configuration file.\n",
            "We are creating one with default values in /root/.config/bioservices/bioservices.cfg .\n",
            "Done\n"
          ]
        }
      ],
      "source": [
        "s = BioModels()"
      ]
    },
    {
      "cell_type": "code",
      "execution_count": 6,
      "id": "b61d3da6",
      "metadata": {
        "lines_to_next_cell": 1,
        "id": "b61d3da6"
      },
      "outputs": [],
      "source": [
        "def get_all_models(query, page_size=10):\n",
        "    \"\"\"\n",
        "    Fonction pour récupérer tous les modèles correspondant à la requête avec pagination.\n",
        "    \"\"\"\n",
        "    models = []\n",
        "    offset = 0\n",
        "\n",
        "    while True:\n",
        "        try:\n",
        "            search_results = s.search(query, offset=offset)\n",
        "\n",
        "            if 'models' not in search_results or not search_results['models']:\n",
        "                break\n",
        "\n",
        "            models.extend(search_results['models'])\n",
        "            offset += page_size\n",
        "            print(f\"Page {offset // page_size} téléchargée, {len(search_results['models'])} modèles récupérés.\")\n",
        "\n",
        "        except Exception as e:\n",
        "            print(f\"Erreur lors de la récupération des modèles : {e}\")\n",
        "            break\n",
        "\n",
        "    return models"
      ]
    },
    {
      "cell_type": "code",
      "execution_count": 21,
      "id": "b991edce",
      "metadata": {
        "lines_to_next_cell": 1,
        "id": "b991edce"
      },
      "outputs": [],
      "source": [
        "def download_model_file(model_id, directory):\n",
        "    \"\"\"\n",
        "    Télécharge le fichier sbml du modele\n",
        "    \"\"\"\n",
        "    try:\n",
        "        # Créer le chemin du ZIP\n",
        "        zip_filename = f\"{model_id}.zip\"\n",
        "        zip_path = os.path.join(directory, zip_filename)\n",
        "\n",
        "        # Télécharger le ZIP\n",
        "        s.get_model_download(model_id, output_filename=zip_path)\n",
        "\n",
        "        # Extraire uniquement le premier fichier .xml trouvé\n",
        "        with zipfile.ZipFile(zip_path, 'r') as zip_ref:\n",
        "            xml_files = [\n",
        "                f for f in zip_ref.namelist()\n",
        "                if ((f.lower().endswith('.xml') or f.lower().endswith('.XML'))\n",
        "                    and not f.lower().endswith('_urn.xml')\n",
        "                    and not f.lower().endswith('manifest.xml'))\n",
        "                ]\n",
        "\n",
        "            if not xml_files:\n",
        "                xml_files = [f for f in zip_ref.namelist()\n",
        "                             if f.lower().endswith('.sbml')\n",
        "                             and not f.lower().endswith('_urn.xml')\n",
        "                             and not f.lower().endswith('manifest.xml')]\n",
        "\n",
        "            if not xml_files:\n",
        "                print(f\"Aucun fichier SBML/XML trouvÃ© dans le ZIP pour {model_id}\")\n",
        "                return None\n",
        "\n",
        "            xml_filename = xml_files[0]\n",
        "            zip_ref.extract(xml_filename, directory)\n",
        "\n",
        "            extracted_path = os.path.join(directory, os.path.basename(xml_filename))\n",
        "            print(f\"Fichier SBML extrait : {extracted_path}\")\n",
        "\n",
        "        # Supprimer le fichier ZIP\n",
        "        os.remove(zip_path)\n",
        "\n",
        "        return extracted_path\n",
        "\n",
        "    except Exception as e:\n",
        "        print(f\"Erreur lors du tÃ©lÃ©chargement du modÃ©le {model_id}: {e}\")\n",
        "        return None\n"
      ]
    },
    {
      "cell_type": "code",
      "execution_count": 22,
      "id": "d97be188",
      "metadata": {
        "lines_to_next_cell": 1,
        "id": "d97be188"
      },
      "outputs": [],
      "source": [
        "def download_model_with_metadata(model_data, base_directory) :\n",
        "    \"\"\"\n",
        "    Download a model and its metadata, then save them into a ZIP file.\n",
        "\n",
        "    Args :\n",
        "        model_data (dict) : A dictionary containing model information, including at least 'id' and 'url'.\n",
        "        base_directory (str) : Path to the root directory where the model should be saved.\n",
        "\n",
        "    Returns :\n",
        "        None\n",
        "    \"\"\"\n",
        "    try :\n",
        "        model_id = model_data['id']\n",
        "        #sbml_url = model_data.get('url', None)\n",
        "        title = model_data.get('name', \"\").lower()\n",
        "        keywords = model_data.get('submitter_keywords', \"\").lower()\n",
        "        immun = model_data.get('immun', \"\").lower()\n",
        "\n",
        "        def contains_keyword(data, keyword) :\n",
        "            \"\"\"\n",
        "            Recursively search for a keyword ('kw') in all string values of a nested element.\n",
        "\n",
        "            Args :\n",
        "                data (any) : The data to search (can be dict, list, str).\n",
        "                keyword (str) : The keyword to search for.\n",
        "\n",
        "            Returns :\n",
        "                bool : True if keyword is found. False otherwise.\n",
        "            \"\"\"\n",
        "            if isinstance(data, dict) :\n",
        "                return any(contains_keyword(v, keyword) for v in data.values())\n",
        "            elif isinstance(data, list) :\n",
        "                return any(contains_keyword(item, keyword) for item in data)\n",
        "            elif isinstance(data, str) :\n",
        "                return keyword.lower() in data.lower()\n",
        "            return False\n",
        "\n",
        "\n",
        "        # Retrieve full metadata\n",
        "        try :\n",
        "            full_metadata = s.get_model(model_id)\n",
        "        except Exception as e :\n",
        "            print(f\"Error retrieving full metadata for {model_id} : {e}\")\n",
        "            return\n",
        "\n",
        "        # Determine destination directory based on content\n",
        "        if contains_keyword(full_metadata, \"immun\") :\n",
        "            directory = os.path.join(base_directory, \"immun\")\n",
        "            directory = os.path.join(directory, \"Curated_models\" if \"BIOM\" in model_id else \"No_Curated_models\")\n",
        "        elif contains_keyword(full_metadata, \"T cell\") :\n",
        "            directory = os.path.join(base_directory, \"T-cell\")\n",
        "            directory = os.path.join(directory, \"Curated_models\" if \"BIOM\" in model_id else \"No_Curated_models\")\n",
        "        else :\n",
        "            return\n",
        "\n",
        "        os.makedirs(directory, exist_ok=True)\n",
        "\n",
        "        # Download SBML file\n",
        "        model_path = download_model_file(model_id, directory)\n",
        "        if model_path is None :\n",
        "            return\n",
        "\n",
        "        # Save metadata as JSON\n",
        "        metadata_filename = f\"{model_id}_metadata.json\"\n",
        "        metadata_path = os.path.join(directory, metadata_filename)\n",
        "        with open(metadata_path, 'w', encoding='utf-8') as f :\n",
        "            json.dump(full_metadata, f, ensure_ascii=False, indent=4)\n",
        "\n",
        "        # Create ZIP file containing model and metadata\n",
        "        zip_filename = os.path.join(directory, f\"{model_id}.zip\")\n",
        "        with zipfile.ZipFile(zip_filename, 'w') as zipf :\n",
        "            zipf.write(model_path, os.path.basename(model_path))\n",
        "            zipf.write(metadata_path, os.path.basename(metadata_path))\n",
        "\n",
        "        # Remove temporary files\n",
        "        os.remove(model_path)\n",
        "        os.remove(metadata_path)\n",
        "\n",
        "        print(f\"Model {model_id} and its metadata saved to {zip_filename}\")\n",
        "\n",
        "    except Exception as e :\n",
        "        print(f\"An error occurred while processing model {model_data['id']} : {e}\")"
      ]
    },
    {
      "cell_type": "code",
      "execution_count": 23,
      "id": "7ade3ee5",
      "metadata": {
        "lines_to_next_cell": 1,
        "id": "7ade3ee5"
      },
      "outputs": [],
      "source": [
        "def main():\n",
        "    # Requête mise à jour\n",
        "    query = (\n",
        "        'logical AND modelformat:\"SBML\"'\n",
        "    )\n",
        "\n",
        "    # Répertoire principal\n",
        "    base_directory = \"downloaded_models_logical\"\n",
        "    os.makedirs(base_directory, exist_ok=True)\n",
        "\n",
        "    # Obtenir tous les modèles\n",
        "    models = get_all_models(query)\n",
        "\n",
        "    # Télécharger chaque modèle et les classer\n",
        "    for model_data in models:\n",
        "        download_model_with_metadata(model_data, base_directory)"
      ]
    },
    {
      "cell_type": "code",
      "execution_count": 24,
      "id": "ecfe2658",
      "metadata": {
        "colab": {
          "base_uri": "https://localhost:8080/"
        },
        "id": "ecfe2658",
        "outputId": "71056eb6-2919-4f90-ffae-793db03a77c3"
      },
      "outputs": [
        {
          "output_type": "stream",
          "name": "stdout",
          "text": [
            "Page 1 téléchargée, 10 modèles récupérés.\n",
            "Page 2 téléchargée, 10 modèles récupérés.\n",
            "Page 3 téléchargée, 10 modèles récupérés.\n",
            "Page 4 téléchargée, 10 modèles récupérés.\n",
            "Page 5 téléchargée, 7 modèles récupérés.\n"
          ]
        },
        {
          "output_type": "stream",
          "name": "stderr",
          "text": [
            "\u001b[32mINFO    [bioservices.BioModels:171]: \u001b[0m \u001b[32mSaving file MODEL2002170001.zip\u001b[0m\n",
            "INFO:bioservices.BioModels:Saving file MODEL2002170001.zip\n"
          ]
        },
        {
          "output_type": "stream",
          "name": "stdout",
          "text": [
            "Fichier SBML extrait : downloaded_models_logical/T-cell/No_Curated_models/Cacace_TdevModel_2nov2020.sbml\n",
            "Model MODEL2002170001 and its metadata saved to downloaded_models_logical/T-cell/No_Curated_models/MODEL2002170001.zip\n"
          ]
        },
        {
          "output_type": "stream",
          "name": "stderr",
          "text": [
            "\u001b[32mINFO    [bioservices.BioModels:171]: \u001b[0m \u001b[32mSaving file MODEL1506260000.zip\u001b[0m\n",
            "INFO:bioservices.BioModels:Saving file MODEL1506260000.zip\n"
          ]
        },
        {
          "output_type": "stream",
          "name": "stdout",
          "text": [
            "Fichier SBML extrait : downloaded_models_logical/T-cell/No_Curated_models/MODEL1506260000_url.xml\n",
            "Model MODEL1506260000 and its metadata saved to downloaded_models_logical/T-cell/No_Curated_models/MODEL1506260000.zip\n"
          ]
        },
        {
          "output_type": "stream",
          "name": "stderr",
          "text": [
            "\u001b[32mINFO    [bioservices.BioModels:171]: \u001b[0m \u001b[32mSaving file MODEL2304070002.zip\u001b[0m\n",
            "INFO:bioservices.BioModels:Saving file MODEL2304070002.zip\n"
          ]
        },
        {
          "output_type": "stream",
          "name": "stdout",
          "text": [
            "Fichier SBML extrait : downloaded_models_logical/immun/No_Curated_models/intracellular_model.sbml\n",
            "Model MODEL2304070002 and its metadata saved to downloaded_models_logical/immun/No_Curated_models/MODEL2304070002.zip\n"
          ]
        },
        {
          "output_type": "stream",
          "name": "stderr",
          "text": [
            "\u001b[32mINFO    [bioservices.BioModels:171]: \u001b[0m \u001b[32mSaving file MODEL2004040001.zip\u001b[0m\n",
            "INFO:bioservices.BioModels:Saving file MODEL2004040001.zip\n"
          ]
        },
        {
          "output_type": "stream",
          "name": "stdout",
          "text": [
            "Fichier SBML extrait : downloaded_models_logical/T-cell/No_Curated_models/Selvaggio_etal_2020.sbml\n",
            "Model MODEL2004040001 and its metadata saved to downloaded_models_logical/T-cell/No_Curated_models/MODEL2004040001.zip\n"
          ]
        },
        {
          "output_type": "stream",
          "name": "stderr",
          "text": [
            "\u001b[32mINFO    [bioservices.BioModels:171]: \u001b[0m \u001b[32mSaving file MODEL1903260003.zip\u001b[0m\n",
            "INFO:bioservices.BioModels:Saving file MODEL1903260003.zip\n"
          ]
        },
        {
          "output_type": "stream",
          "name": "stdout",
          "text": [
            "Fichier SBML extrait : downloaded_models_logical/T-cell/No_Curated_models/RodriguezJorge_Merged_TCR_TLR5_Signalling_BooleanModel_15Jul2018.sbml\n",
            "Model MODEL1903260003 and its metadata saved to downloaded_models_logical/T-cell/No_Curated_models/MODEL1903260003.zip\n"
          ]
        },
        {
          "output_type": "stream",
          "name": "stderr",
          "text": [
            "\u001b[32mINFO    [bioservices.BioModels:171]: \u001b[0m \u001b[32mSaving file MODEL1903260001.zip\u001b[0m\n",
            "INFO:bioservices.BioModels:Saving file MODEL1903260001.zip\n"
          ]
        },
        {
          "output_type": "stream",
          "name": "stdout",
          "text": [
            "Fichier SBML extrait : downloaded_models_logical/T-cell/No_Curated_models/RodriguezJorge_TCR_Signalling_BooleanModel_17Jul2018.sbml\n",
            "Model MODEL1903260001 and its metadata saved to downloaded_models_logical/T-cell/No_Curated_models/MODEL1903260001.zip\n"
          ]
        },
        {
          "output_type": "stream",
          "name": "stderr",
          "text": [
            "\u001b[32mINFO    [bioservices.BioModels:171]: \u001b[0m \u001b[32mSaving file MODEL1903260002.zip\u001b[0m\n",
            "INFO:bioservices.BioModels:Saving file MODEL1903260002.zip\n"
          ]
        },
        {
          "output_type": "stream",
          "name": "stdout",
          "text": [
            "Fichier SBML extrait : downloaded_models_logical/T-cell/No_Curated_models/RodriguezJorge_TLR5_Signalling_BooleanModel_17Jul2018.xml\n",
            "Model MODEL1903260002 and its metadata saved to downloaded_models_logical/T-cell/No_Curated_models/MODEL1903260002.zip\n"
          ]
        },
        {
          "output_type": "stream",
          "name": "stderr",
          "text": [
            "\u001b[32mINFO    [bioservices.BioModels:171]: \u001b[0m \u001b[32mSaving file MODEL2101150001.zip\u001b[0m\n",
            "INFO:bioservices.BioModels:Saving file MODEL2101150001.zip\n"
          ]
        },
        {
          "output_type": "stream",
          "name": "stdout",
          "text": [
            "Fichier SBML extrait : downloaded_models_logical/immun/No_Curated_models/Corral_ThIL17diff_15jan2021.sbml\n",
            "Model MODEL2101150001 and its metadata saved to downloaded_models_logical/immun/No_Curated_models/MODEL2101150001.zip\n"
          ]
        },
        {
          "output_type": "stream",
          "name": "stderr",
          "text": [
            "\u001b[32mINFO    [bioservices.BioModels:171]: \u001b[0m \u001b[32mSaving file MODEL2308300001.zip\u001b[0m\n",
            "INFO:bioservices.BioModels:Saving file MODEL2308300001.zip\n"
          ]
        },
        {
          "output_type": "stream",
          "name": "stdout",
          "text": [
            "Fichier SBML extrait : downloaded_models_logical/immun/No_Curated_models/PsoriaSys.sbml\n",
            "Model MODEL2308300001 and its metadata saved to downloaded_models_logical/immun/No_Curated_models/MODEL2308300001.zip\n"
          ]
        },
        {
          "output_type": "stream",
          "name": "stderr",
          "text": [
            "\u001b[32mINFO    [bioservices.BioModels:171]: \u001b[0m \u001b[32mSaving file MODEL1910020002.zip\u001b[0m\n",
            "INFO:bioservices.BioModels:Saving file MODEL1910020002.zip\n"
          ]
        },
        {
          "output_type": "stream",
          "name": "stdout",
          "text": [
            "Fichier SBML extrait : downloaded_models_logical/T-cell/No_Curated_models/Afenya2018 - peripheral blodd dynamics in the disease state.xml\n",
            "Model MODEL1910020002 and its metadata saved to downloaded_models_logical/T-cell/No_Curated_models/MODEL1910020002.zip\n"
          ]
        },
        {
          "output_type": "stream",
          "name": "stderr",
          "text": [
            "\u001b[32mINFO    [bioservices.BioModels:171]: \u001b[0m \u001b[32mSaving file MODEL1904150001.zip\u001b[0m\n",
            "INFO:bioservices.BioModels:Saving file MODEL1904150001.zip\n"
          ]
        },
        {
          "output_type": "stream",
          "name": "stdout",
          "text": [
            "Fichier SBML extrait : downloaded_models_logical/immun/No_Curated_models/Hannig(geb Scheidel)2016 - In Silico Knockout Studies of Xenophagic Capturing of Salmonella, Petri Nets.xml\n",
            "Model MODEL1904150001 and its metadata saved to downloaded_models_logical/immun/No_Curated_models/MODEL1904150001.zip\n"
          ]
        },
        {
          "output_type": "stream",
          "name": "stderr",
          "text": [
            "\u001b[32mINFO    [bioservices.BioModels:171]: \u001b[0m \u001b[32mSaving file BIOMD0000000220.zip\u001b[0m\n",
            "INFO:bioservices.BioModels:Saving file BIOMD0000000220.zip\n"
          ]
        },
        {
          "output_type": "stream",
          "name": "stdout",
          "text": [
            "Fichier SBML extrait : downloaded_models_logical/immun/Curated_models/BIOMD0000000220_url.xml\n",
            "Model BIOMD0000000220 and its metadata saved to downloaded_models_logical/immun/Curated_models/BIOMD0000000220.zip\n"
          ]
        },
        {
          "output_type": "stream",
          "name": "stderr",
          "text": [
            "\u001b[32mINFO    [bioservices.BioModels:171]: \u001b[0m \u001b[32mSaving file MODEL1606020000.zip\u001b[0m\n",
            "INFO:bioservices.BioModels:Saving file MODEL1606020000.zip\n"
          ]
        },
        {
          "output_type": "stream",
          "name": "stdout",
          "text": [
            "Fichier SBML extrait : downloaded_models_logical/immun/No_Curated_models/MODEL1606020000_url.xml\n",
            "Model MODEL1606020000 and its metadata saved to downloaded_models_logical/immun/No_Curated_models/MODEL1606020000.zip\n"
          ]
        },
        {
          "output_type": "stream",
          "name": "stderr",
          "text": [
            "\u001b[32mINFO    [bioservices.BioModels:171]: \u001b[0m \u001b[32mSaving file MODEL2007020001.zip\u001b[0m\n",
            "INFO:bioservices.BioModels:Saving file MODEL2007020001.zip\n"
          ]
        },
        {
          "output_type": "stream",
          "name": "stdout",
          "text": [
            "Fichier SBML extrait : downloaded_models_logical/T-cell/No_Curated_models/Muenzner2019_Yeast_Cell_Cycle_Control_Network.sbml\n",
            "Model MODEL2007020001 and its metadata saved to downloaded_models_logical/T-cell/No_Curated_models/MODEL2007020001.zip\n"
          ]
        },
        {
          "output_type": "stream",
          "name": "stderr",
          "text": [
            "\u001b[32mINFO    [bioservices.BioModels:171]: \u001b[0m \u001b[32mSaving file BIOMD0000000592.zip\u001b[0m\n",
            "INFO:bioservices.BioModels:Saving file BIOMD0000000592.zip\n"
          ]
        },
        {
          "output_type": "stream",
          "name": "stdout",
          "text": [
            "Fichier SBML extrait : downloaded_models_logical/immun/Curated_models/BIOMD0000000592_url.xml\n",
            "Model BIOMD0000000592 and its metadata saved to downloaded_models_logical/immun/Curated_models/BIOMD0000000592.zip\n"
          ]
        },
        {
          "output_type": "stream",
          "name": "stderr",
          "text": [
            "\u001b[32mINFO    [bioservices.BioModels:171]: \u001b[0m \u001b[32mSaving file BIOMD0000000593.zip\u001b[0m\n",
            "INFO:bioservices.BioModels:Saving file BIOMD0000000593.zip\n"
          ]
        },
        {
          "output_type": "stream",
          "name": "stdout",
          "text": [
            "Fichier SBML extrait : downloaded_models_logical/immun/Curated_models/BIOMD0000000593_url.xml\n",
            "Model BIOMD0000000593 and its metadata saved to downloaded_models_logical/immun/Curated_models/BIOMD0000000593.zip\n"
          ]
        }
      ],
      "source": [
        "if __name__ == \"__main__\":\n",
        "    main()"
      ]
    }
  ],
  "metadata": {
    "jupytext": {
      "cell_metadata_filter": "-all",
      "encoding": "# -*- coding: utf-8 -*-",
      "executable": "/usr/bin/env python3",
      "main_language": "python",
      "notebook_metadata_filter": "-all"
    },
    "language_info": {
      "name": "python"
    },
    "colab": {
      "provenance": [],
      "include_colab_link": true
    },
    "kernelspec": {
      "name": "python3",
      "display_name": "Python 3"
    }
  },
  "nbformat": 4,
  "nbformat_minor": 5
}